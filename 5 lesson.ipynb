{
 "cells": [
  {
   "cell_type": "markdown",
   "id": "8d5c60c0",
   "metadata": {
    "tags": []
   },
   "source": [
    "# Additional features"
   ]
  },
  {
   "cell_type": "markdown",
   "id": "590cd49a",
   "metadata": {},
   "source": [
    "<div class='alert alert-success'>\n",
    "    <b>important to remember</b>\n",
    "</div>"
   ]
  },
  {
   "cell_type": "markdown",
   "id": "aa59a259",
   "metadata": {},
   "source": [
    "pandas is a standard library that comes with the anaconda package, but what if the library is not loaded?"
   ]
  },
  {
   "cell_type": "markdown",
   "id": "e80cc8bc",
   "metadata": {},
   "source": [
    "to download directly from jupiter we will use the syntax `!pip isntall name_lib`"
   ]
  },
  {
   "cell_type": "code",
   "execution_count": null,
   "id": "f6674059",
   "metadata": {},
   "outputs": [],
   "source": [
    "!pip install pandas"
   ]
  },
  {
   "cell_type": "markdown",
   "id": "da28e495",
   "metadata": {},
   "source": [
    "it is very important when working in Jupiter processing of the result, for this purpose the cells `markdown` are used, in turn they can be designed according to all the rules of html"
   ]
  },
  {
   "cell_type": "markdown",
   "id": "d7b87dea-9bbf-44c6-8b7e-31b37f41012f",
   "metadata": {},
   "source": []
  },
  {
   "cell_type": "markdown",
   "id": "6576248d",
   "metadata": {},
   "source": [
    "headers\n",
    "\n",
    "# H1\n",
    "## H2\n",
    "### H3\n",
    "#### H4\n",
    "##### H5\n",
    "###### H6\n",
    "\n",
    "Alternatively, for H1 and H2, an underline-ish style:\n",
    "\n",
    "Alt-H1\n",
    "======\n",
    "\n",
    "Alt-H2\n",
    " \n",
    "Emphasis, aka italics, with *asterisks* or _underscores_.\n",
    "\n",
    "Strong emphasis, aka bold, with **asterisks** or __underscores__.\n",
    "\n",
    "Combined emphasis with **asterisks and _underscores_**.\n",
    "\n",
    "Strikethrough uses two tildes. ~~Scratch this.~~"
   ]
  },
  {
   "cell_type": "markdown",
   "id": "43d11ce7",
   "metadata": {},
   "source": [
    "and color code\n",
    "\n",
    "<div class='alert alert-danger'>\n",
    "важно, тут не пропусти\n",
    "</div>\n",
    "\n",
    "<div class='alert alert-warning'>\n",
    "alert-warning\n",
    "</div>\n",
    "\n",
    "<div class='alert alert-success'>\n",
    "alert-success\n",
    "</div>\n",
    "\n",
    "<div class='alert alert-info'>\n",
    "alert-info\n",
    "</div>"
   ]
  },
  {
   "cell_type": "markdown",
   "id": "faf833a6",
   "metadata": {},
   "source": [
    "more info about markdown here https://github.com/adam-p/markdown-here/wiki/Markdown-Cheatsheet"
   ]
  },
  {
   "cell_type": "markdown",
   "id": "5c00c8ea",
   "metadata": {},
   "source": [
    "To make the working area of the Jupiter wider, you need to change @media in the html code, to do this you need to right-click on the crab bar and go to code review "
   ]
  },
  {
   "cell_type": "markdown",
   "id": "45be971c",
   "metadata": {},
   "source": [
    "![jupyter](./pict/rightclick.png)"
   ]
  },
  {
   "cell_type": "markdown",
   "id": "4faad37a",
   "metadata": {},
   "source": [
    "In the container class, change the necessary adaptive for your screen (for example, change 1140 to 1980px)"
   ]
  },
  {
   "cell_type": "markdown",
   "id": "3dc66daf",
   "metadata": {},
   "source": [
    "![jupyter](./pict/mediach.png)"
   ]
  },
  {
   "cell_type": "markdown",
   "id": "2631ba55",
   "metadata": {},
   "source": [
    "  "
   ]
  },
  {
   "cell_type": "markdown",
   "id": "b3589a18",
   "metadata": {},
   "source": [
    "  "
   ]
  },
  {
   "cell_type": "markdown",
   "id": "0024968b",
   "metadata": {},
   "source": [
    "## material preparation"
   ]
  },
  {
   "cell_type": "markdown",
   "id": "a0e97e2f",
   "metadata": {},
   "source": [
    "this lesson will not actually be new material, it is used as an example of data analytics"
   ]
  },
  {
   "cell_type": "markdown",
   "id": "750b49ce",
   "metadata": {},
   "source": [
    "The customer is the credit department of the bank. It is necessary to find out whether the marital status and the number of children of the client affect the fact of repaying the loan on time. Input data from the bank - statistics on the solvency of customers.\n",
    "\n",
    "- children — number of children in the family\n",
    "- days_employed - total work experience in days\n",
    "- dob_years - clients age in years\n",
    "- education — the level of education of the client\n",
    "- education_id — education level identifier\n",
    "- family_status - marital status\n",
    "- family_status_id - marital status identifier\n",
    "- gender - gender of the client\n",
    "- income_type - type of employment\n",
    "- debt - whether he had debt to repay loans\n",
    "- total_income - monthly income\n",
    "- purpose - the purpose of obtaining a loan"
   ]
  },
  {
   "cell_type": "markdown",
   "id": "b755b899",
   "metadata": {},
   "source": [
    "library connection"
   ]
  },
  {
   "cell_type": "code",
   "execution_count": null,
   "id": "e1000a9d",
   "metadata": {},
   "outputs": [],
   "source": [
    "import pandas as pd"
   ]
  },
  {
   "cell_type": "markdown",
   "id": "989a7da6",
   "metadata": {},
   "source": [
    "data loading"
   ]
  },
  {
   "cell_type": "code",
   "execution_count": null,
   "id": "33c9aed1",
   "metadata": {},
   "outputs": [],
   "source": [
    "df = pd.read_csv('./datasets/lesson5.csv')"
   ]
  },
  {
   "cell_type": "markdown",
   "id": "53c63aca",
   "metadata": {},
   "source": [
    "look at the data contained in the dataframe"
   ]
  },
  {
   "cell_type": "code",
   "execution_count": null,
   "id": "cfe3f6ac",
   "metadata": {},
   "outputs": [],
   "source": [
    "df.sample(5)"
   ]
  },
  {
   "cell_type": "markdown",
   "id": "87b9e062",
   "metadata": {},
   "source": [
    "dataframe information"
   ]
  },
  {
   "cell_type": "code",
   "execution_count": null,
   "id": "f685fe09-d3ab-4a45-b407-4b5f47d4a267",
   "metadata": {},
   "outputs": [],
   "source": [
    "df.info()"
   ]
  },
  {
   "cell_type": "code",
   "execution_count": null,
   "id": "7d0a7352-40d8-4d39-a149-f05aa53fac2b",
   "metadata": {},
   "outputs": [],
   "source": [
    "df['debt'].unique()"
   ]
  },
  {
   "cell_type": "code",
   "execution_count": null,
   "id": "4454e497",
   "metadata": {},
   "outputs": [],
   "source": [
    "df.info()"
   ]
  },
  {
   "cell_type": "markdown",
   "id": "72d6bc43",
   "metadata": {},
   "source": [
    "<div class='alert alert-success'>\n",
    "    what conclusions can we draw at this step?\n",
    "</div>"
   ]
  },
  {
   "cell_type": "markdown",
   "id": "f4b0c39b",
   "metadata": {},
   "source": [
    "### Data preprocessing"
   ]
  },
  {
   "cell_type": "markdown",
   "id": "0882849b",
   "metadata": {},
   "source": [
    "checking for empty values"
   ]
  },
  {
   "cell_type": "code",
   "execution_count": null,
   "id": "b4f7c9c4",
   "metadata": {},
   "outputs": [],
   "source": [
    "df.isnull().sum()"
   ]
  },
  {
   "cell_type": "code",
   "execution_count": null,
   "id": "343fc405",
   "metadata": {},
   "outputs": [],
   "source": [
    "duples = sum(df.duplicated())\n",
    "duples_percent = round(sum(df.duplicated() / len(df) * 100), 2)\n",
    "\n",
    "print('duplicated:', duples)   \n",
    "print('pers duplicated:', duples_percent)"
   ]
  },
  {
   "cell_type": "markdown",
   "id": "535a79ad",
   "metadata": {},
   "source": [
    "add a condition to duplicates to understand how they arise"
   ]
  },
  {
   "cell_type": "code",
   "execution_count": null,
   "id": "af40abe0",
   "metadata": {},
   "outputs": [],
   "source": [
    "df.loc[(df.duplicated()) & (df['dob_years']==60)]"
   ]
  },
  {
   "cell_type": "markdown",
   "id": "ecb6a5ae",
   "metadata": {},
   "source": [
    "<div class='alert alert-success'>\n",
    "    what conclusions can we draw at this step?\n",
    "</div>"
   ]
  },
  {
   "cell_type": "markdown",
   "id": "a763a730",
   "metadata": {},
   "source": [
    "****\n",
    "\n",
    "new methods\n",
    "\n",
    "- .abs()  -  The absolute value, or module, of a number\n",
    "- .groupby()  -  grouping by\n",
    "- .astype()  -  type changes\n",
    "- .count()  -  number of elements\n",
    "- .mean()  -  field average\n",
    "- .median()  -  field median\n",
    "\n",
    "****"
   ]
  },
  {
   "cell_type": "code",
   "execution_count": null,
   "id": "0e3bf16a",
   "metadata": {},
   "outputs": [],
   "source": [
    "df[df['days_employed'] == 0]['days_employed'].count()"
   ]
  },
  {
   "cell_type": "code",
   "execution_count": null,
   "id": "46839faa",
   "metadata": {},
   "outputs": [],
   "source": [
    "df['days_employed'] = df['days_employed'].fillna(0)"
   ]
  },
  {
   "cell_type": "code",
   "execution_count": null,
   "id": "e4de8bfb",
   "metadata": {},
   "outputs": [],
   "source": [
    "df['days_employed'] = df['days_employed'].astype('int').abs()"
   ]
  },
  {
   "cell_type": "code",
   "execution_count": null,
   "id": "dc94addf",
   "metadata": {
    "scrolled": true
   },
   "outputs": [],
   "source": [
    "df.groupby('dob_years')['days_employed'].median()"
   ]
  },
  {
   "cell_type": "markdown",
   "id": "6dff81f9",
   "metadata": {},
   "source": [
    "<div class='alert alert-success'>\n",
    "    what conclusions can we draw at this step?\n",
    "</div>"
   ]
  },
  {
   "cell_type": "code",
   "execution_count": null,
   "id": "abc84e07",
   "metadata": {},
   "outputs": [],
   "source": [
    "df['years_employed'] = df['days_employed'] / 365.5"
   ]
  },
  {
   "cell_type": "code",
   "execution_count": null,
   "id": "171ad077",
   "metadata": {},
   "outputs": [],
   "source": [
    "df.loc[df['years_employed'] >= df['dob_years'], 'years_employed'] /= 24"
   ]
  },
  {
   "cell_type": "code",
   "execution_count": null,
   "id": "5937b2be",
   "metadata": {},
   "outputs": [],
   "source": [
    "# does the data look correct?\n",
    "df.loc[(df['years_employed'] >= df['dob_years']) & (df['dob_years']>0)].sample(5)"
   ]
  },
  {
   "cell_type": "code",
   "execution_count": null,
   "id": "37aa981d",
   "metadata": {},
   "outputs": [],
   "source": [
    "df.drop(['days_employed'], axis=1, inplace=True)"
   ]
  },
  {
   "cell_type": "markdown",
   "id": "7f04a43d",
   "metadata": {},
   "source": [
    "<div class='alert alert-success'>\n",
    "    what conclusions can we draw at this step?\n",
    "</div>"
   ]
  },
  {
   "cell_type": "markdown",
   "id": "2643d4fb",
   "metadata": {},
   "source": [
    "****\n",
    "\n",
    "new methods\n",
    "\n",
    "- .str.lower()  -  makes the entire line lowercase\n",
    "- .unique()  -  shows a unique set of data\n",
    "- .nunique()  -  shows the unique count of the dataset\n",
    "- .tolist()  -  creates an array from a naarray set\n",
    "- .value_counts()  -  calculates the number of categorical elements, by default does not take into account empty values, for adding we use dropna=False\n",
    "\n",
    "****"
   ]
  },
  {
   "cell_type": "code",
   "execution_count": null,
   "id": "ec7ac257",
   "metadata": {},
   "outputs": [],
   "source": [
    "df['education'].unique().tolist()"
   ]
  },
  {
   "cell_type": "code",
   "execution_count": null,
   "id": "b13cbb1e",
   "metadata": {},
   "outputs": [],
   "source": [
    "df['education'] = df['education'].str.lower()"
   ]
  },
  {
   "cell_type": "code",
   "execution_count": null,
   "id": "cfdc44aa",
   "metadata": {},
   "outputs": [],
   "source": [
    "df.groupby(['income_type'])['total_income'].median()"
   ]
  },
  {
   "cell_type": "code",
   "execution_count": null,
   "id": "73ab9fb6",
   "metadata": {},
   "outputs": [],
   "source": [
    "df.groupby(['education'])['total_income'].median()"
   ]
  },
  {
   "cell_type": "code",
   "execution_count": null,
   "id": "d1d05ef5",
   "metadata": {},
   "outputs": [],
   "source": [
    "df.groupby(['education','income_type'])['total_income'].median()"
   ]
  },
  {
   "cell_type": "markdown",
   "id": "53878015",
   "metadata": {},
   "source": [
    "<div class='alert alert-success'>\n",
    "    What conclusions can we draw at this step?\n",
    "    Why are we looking at the median and not the mean?\n",
    "</div>"
   ]
  },
  {
   "cell_type": "code",
   "execution_count": null,
   "id": "fb753289",
   "metadata": {},
   "outputs": [],
   "source": [
    "def udate_total_income():\n",
    "    uni_education = df['education'].unique()\n",
    "    uni_income_type = df['income_type'].unique()\n",
    "    for education in uni_education:\n",
    "        for income_type in uni_income_type:\n",
    "            med_total_income = df[(df['education'] == education) & (df['income_type'] == income_type)]['total_income'].median()\n",
    "            \n",
    "            df.loc[(df['education'] == education) \\\n",
    "                  & (df['income_type'] == income_type) \\\n",
    "                  & (df['total_income'].isnull()) \\\n",
    "                   ,['total_income']] = med_total_income\n",
    "\n",
    "udate_total_income()      \n",
    "\n",
    "print(df[df['total_income']==0]['total_income'].count())"
   ]
  },
  {
   "cell_type": "code",
   "execution_count": null,
   "id": "ad69ddab",
   "metadata": {},
   "outputs": [],
   "source": [
    "print('--------------------children------------------------')\n",
    "print(df['children'].value_counts(dropna=False))\n",
    "print('')\n",
    "print('--------------------gender------------------------')\n",
    "print(df['gender'].value_counts(dropna=False))\n",
    "print('')"
   ]
  },
  {
   "cell_type": "markdown",
   "id": "02b17379",
   "metadata": {},
   "source": [
    "<div class='alert alert-success'>\n",
    "    What conclusions can we draw at this step?\n",
    "</div>"
   ]
  },
  {
   "cell_type": "code",
   "execution_count": null,
   "id": "3a504f18",
   "metadata": {},
   "outputs": [],
   "source": [
    "df.loc[df.children == 20, ['children']] = 2"
   ]
  },
  {
   "cell_type": "code",
   "execution_count": null,
   "id": "54512b5b",
   "metadata": {},
   "outputs": [],
   "source": [
    "df.loc[df.children == -1, ['children']] = 0"
   ]
  },
  {
   "cell_type": "code",
   "execution_count": null,
   "id": "cff712e1",
   "metadata": {},
   "outputs": [],
   "source": [
    "print('--------------------purpose------------------------')\n",
    "print(df['purpose'].value_counts(dropna=False))\n",
    "print('')"
   ]
  },
  {
   "cell_type": "markdown",
   "id": "3ccd047e",
   "metadata": {},
   "source": [
    "<div class='alert alert-success'>\n",
    "    What conclusions can we draw at this step?\n",
    "</div>"
   ]
  },
  {
   "cell_type": "markdown",
   "id": "d86293c7",
   "metadata": {},
   "source": [
    "****\n",
    "\n",
    "new methods\n",
    "\n",
    "- collections lib (Counter class)  -Counts are allowed to be any integer value including zero or negative counts. The Counter class is similar to bags or multisets in other languages.\n",
    "- .split()  -  method splits a string into a list\n",
    "- .str.contains()  -  used to test if pattern or regex is contained within a string of a Series or Index\n",
    "- .find()  -  used to find the index of the first occurrence of a substring from the given string\n",
    "- df.loc[(~df[column].condition()) - symbol ~ means NOT for methods\n",
    "- .quantile() - Return values at the given quantile over requested axis.\n",
    "\n",
    "****"
   ]
  },
  {
   "cell_type": "markdown",
   "id": "9f39b76c",
   "metadata": {},
   "source": [
    "****\n",
    "create new column in DataFrame\n",
    "\n",
    "we create a function into which we will transfer the full index string from the dataframe and process it according to the necessary condition. Be careful, the data is processed line by line and for large volumes, the calculation may take a long time.\n",
    "\n",
    "\n",
    "\n",
    "`def name_func(row):`<br>\n",
    "`.    condition for row[column]`<br>\n",
    "`.    return value`<br>\n",
    "    \n",
    "`df[new_column] = df.apply(name_func, axis=1)`\n",
    "\n",
    "****"
   ]
  },
  {
   "cell_type": "markdown",
   "id": "16d58f1d",
   "metadata": {},
   "source": [
    "#### Data categorization"
   ]
  },
  {
   "cell_type": "code",
   "execution_count": null,
   "id": "8e14cd59",
   "metadata": {},
   "outputs": [],
   "source": [
    "str_purpose = ''\n",
    "for i in df['purpose'].tolist():\n",
    "    str_purpose += i + ' '"
   ]
  },
  {
   "cell_type": "code",
   "execution_count": null,
   "id": "86db8ccc",
   "metadata": {},
   "outputs": [],
   "source": [
    "str_list = str_purpose.split(' ')"
   ]
  },
  {
   "cell_type": "code",
   "execution_count": null,
   "id": "fa230707",
   "metadata": {},
   "outputs": [],
   "source": [
    "from collections import Counter\n",
    "\n",
    "data_purpose = Counter(str_list).most_common()"
   ]
  },
  {
   "cell_type": "code",
   "execution_count": null,
   "id": "8532da63",
   "metadata": {},
   "outputs": [],
   "source": [
    "data_purpose[:12]"
   ]
  },
  {
   "cell_type": "code",
   "execution_count": null,
   "id": "6be098f3",
   "metadata": {},
   "outputs": [],
   "source": [
    "print('purpose house -',df[df['purpose'].str.contains('house')]['purpose'].count())\n",
    "df[df['purpose'].str.contains('house')]['purpose'].unique().tolist()"
   ]
  },
  {
   "cell_type": "markdown",
   "id": "b9c67c17",
   "metadata": {},
   "source": [
    "update to loop"
   ]
  },
  {
   "cell_type": "code",
   "execution_count": null,
   "id": "5c834345",
   "metadata": {},
   "outputs": [],
   "source": [
    "arr = ['house', 'real estate', 'car', 'wedding', 'education']\n",
    "sum_purp = 0\n",
    "\n",
    "for a in arr:\n",
    "    print('purpose'+a+'-',df[df['purpose'].str.contains(a)]['purpose'].count())\n",
    "    print(df[df['purpose'].str.contains(a)]['purpose'].unique().tolist())\n",
    "    print('')\n",
    "    print('')\n",
    "    sum_purp += df[df['purpose'].str.contains(a)]['purpose'].count()"
   ]
  },
  {
   "cell_type": "code",
   "execution_count": null,
   "id": "cc0ff9f0",
   "metadata": {},
   "outputs": [],
   "source": [
    "sum_purp"
   ]
  },
  {
   "cell_type": "markdown",
   "id": "ae939111",
   "metadata": {},
   "source": [
    "<div class='alert alert-success'>\n",
    "    What conclusions can we draw at this step?\n",
    "</div>"
   ]
  },
  {
   "cell_type": "code",
   "execution_count": null,
   "id": "8d0188ab",
   "metadata": {},
   "outputs": [],
   "source": [
    "arr = ['hous', 'real estate', 'car', 'wedding', 'education']\n",
    "\n",
    "df[(~df['purpose'].str.contains('house')) &\\\n",
    "   (~df['purpose'].str.contains('real estate')) &\\\n",
    "   (~df['purpose'].str.contains('car')) &\\\n",
    "   (~df['purpose'].str.contains('wedding')) &\\\n",
    "   (~df['purpose'].str.contains('education'))\\\n",
    "  ]['purpose'].unique().tolist()"
   ]
  },
  {
   "cell_type": "code",
   "execution_count": null,
   "id": "0cc83897",
   "metadata": {},
   "outputs": [],
   "source": [
    "def ag_purpose(row):\n",
    "    if str(row['purpose']).find('house')!=-1 or row['purpose']=='housing':\n",
    "        return 'house'\n",
    "    if str(row['purpose']).find('real estate')!=-1 or row['purpose']=='property transactions':\n",
    "        return 'real estate'\n",
    "    if str(row['purpose']).find('car')!=-1 or row['purpose']=='motor vehicle deal':\n",
    "        return 'car'\n",
    "    if str(row['purpose']).find('wedding')!=-1:\n",
    "        return 'wedding'\n",
    "    if str(row['purpose']).find('education')!=-1:\n",
    "        return 'education'\n",
    "    \n",
    "    \n",
    "df['ag_purpose'] = df.apply(ag_purpose, axis=1)"
   ]
  },
  {
   "cell_type": "code",
   "execution_count": null,
   "id": "326d6694",
   "metadata": {},
   "outputs": [],
   "source": [
    "df.head()"
   ]
  },
  {
   "cell_type": "code",
   "execution_count": null,
   "id": "6d7709fc",
   "metadata": {},
   "outputs": [],
   "source": [
    "def children_group(children):\n",
    "    if children == 0:\n",
    "        return 'no children'\n",
    "    else:\n",
    "        return 'have children'\n",
    "    \n",
    "def family_group(family):\n",
    "    if family in ['married','civil marriage']:\n",
    "        return 1\n",
    "    return 0    \n",
    "    \n",
    "df['children_group'] = df['children'].apply(children_group)\n",
    "df['family_group'] = df['family_status'].apply(family_group)   "
   ]
  },
  {
   "cell_type": "code",
   "execution_count": null,
   "id": "e368c7c3",
   "metadata": {},
   "outputs": [],
   "source": [
    "df['total_income'].quantile([0.25,0.5,0.75])"
   ]
  },
  {
   "cell_type": "code",
   "execution_count": null,
   "id": "397d2ca0",
   "metadata": {},
   "outputs": [],
   "source": [
    "def income_group(total_income):\n",
    "        if total_income >= 2476.87:\n",
    "                return '0.75'\n",
    "        if total_income >= 1793.70:\n",
    "                return '0.5'           \n",
    "        else:\n",
    "                return '0.25'\n",
    "            \n",
    "df['income_group'] = df['total_income'].apply(income_group)"
   ]
  },
  {
   "cell_type": "code",
   "execution_count": null,
   "id": "1feadd23",
   "metadata": {},
   "outputs": [],
   "source": [
    "df.head()"
   ]
  },
  {
   "cell_type": "markdown",
   "id": "bfb6c142",
   "metadata": {},
   "source": [
    "****\n",
    "\n",
    "new methods\n",
    "\n",
    "- corr() - is used to find the pairwise correlation of all columns in the Pandas Dataframe in Python. Any NaN values are automatically excluded\n",
    "\n",
    "****"
   ]
  },
  {
   "cell_type": "code",
   "execution_count": null,
   "id": "01107618",
   "metadata": {},
   "outputs": [],
   "source": [
    "# linear dependence, corr = 1"
   ]
  },
  {
   "cell_type": "markdown",
   "id": "25c2a571",
   "metadata": {},
   "source": [
    "### dependence of the number of children and loan repayment"
   ]
  },
  {
   "cell_type": "code",
   "execution_count": null,
   "id": "65576b6b",
   "metadata": {},
   "outputs": [],
   "source": [
    "print(df.groupby('children_group').agg({'debt': ['count', 'mean']}))"
   ]
  },
  {
   "cell_type": "code",
   "execution_count": null,
   "id": "959816f0",
   "metadata": {},
   "outputs": [],
   "source": [
    "df['debt'].corr(df['children']) "
   ]
  },
  {
   "cell_type": "markdown",
   "id": "db14b335",
   "metadata": {},
   "source": [
    "### dependence of marital status and loan repayment"
   ]
  },
  {
   "cell_type": "code",
   "execution_count": null,
   "id": "73091826",
   "metadata": {},
   "outputs": [],
   "source": [
    "print(df.groupby('family_group').agg({'debt': ['count', 'mean']}))"
   ]
  },
  {
   "cell_type": "code",
   "execution_count": null,
   "id": "da737c6b",
   "metadata": {},
   "outputs": [],
   "source": [
    "df['debt'].corr(df['family_group']) "
   ]
  },
  {
   "cell_type": "markdown",
   "id": "6ee45b22",
   "metadata": {},
   "source": [
    "### dependence of purpose and loan repayment"
   ]
  },
  {
   "cell_type": "code",
   "execution_count": null,
   "id": "6a9e429c",
   "metadata": {},
   "outputs": [],
   "source": [
    "print(df.groupby('ag_purpose').agg({'debt': ['count', 'mean']}))"
   ]
  },
  {
   "cell_type": "markdown",
   "id": "f30224c5",
   "metadata": {},
   "source": [
    "### dependence of income and loan repayment"
   ]
  },
  {
   "cell_type": "code",
   "execution_count": null,
   "id": "39463bf0",
   "metadata": {},
   "outputs": [],
   "source": [
    "print(df.groupby('income_group').agg({'debt': ['count', 'mean']}))"
   ]
  },
  {
   "cell_type": "code",
   "execution_count": null,
   "id": "2e4a7d11",
   "metadata": {},
   "outputs": [],
   "source": [
    "df['debt'].corr(df['total_income']) "
   ]
  }
 ],
 "metadata": {
  "kernelspec": {
   "display_name": "Python 3 (ipykernel)",
   "language": "python",
   "name": "python3"
  },
  "language_info": {
   "codemirror_mode": {
    "name": "ipython",
    "version": 3
   },
   "file_extension": ".py",
   "mimetype": "text/x-python",
   "name": "python",
   "nbconvert_exporter": "python",
   "pygments_lexer": "ipython3",
   "version": "3.10.9"
  }
 },
 "nbformat": 4,
 "nbformat_minor": 5
}
