{
 "cells": [
  {
   "cell_type": "markdown",
   "id": "ded14961",
   "metadata": {},
   "source": [
    "# Introduction and syntax basics"
   ]
  },
  {
   "cell_type": "markdown",
   "id": "a71d47fd",
   "metadata": {},
   "source": [
    "### First program"
   ]
  },
  {
   "cell_type": "markdown",
   "id": "9420a24d",
   "metadata": {},
   "source": [
    "`print()` is a <b>function</b>, a Python built-in program for a specific action (printing to the screen)\n",
    "After the name of the function, its arguments are listed in brackets, the data with which the function must do something. Arguments are <b>passed</b>, and the function <b>receives</b> when we write the name of the function with an argument, we <b>call it<b>"
   ]
  },
  {
   "cell_type": "code",
   "execution_count": null,
   "id": "d61e8a86",
   "metadata": {},
   "outputs": [],
   "source": [
    "print('I Arguments')\n",
    "print('and me too Argument')"
   ]
  },
  {
   "cell_type": "markdown",
   "id": "918e3f5a",
   "metadata": {},
   "source": [
    "### Variables"
   ]
  },
  {
   "cell_type": "markdown",
   "id": "6dd013a9",
   "metadata": {},
   "source": [
    "The first time a variable name is written, it is called <b>declaring a variable</b>. In Python, variables are always declared by assigning a value to them. Just enter a name, put an equal sign (it's called <b>assignment operator</b>) and write the desired value"
   ]
  },
  {
   "cell_type": "code",
   "execution_count": null,
   "id": "f8d10fb0",
   "metadata": {},
   "outputs": [],
   "source": [
    "my_name = 'Oleksandr'"
   ]
  },
  {
   "cell_type": "markdown",
   "id": "e16ae10c",
   "metadata": {},
   "source": [
    "If you use a variable later in the program, then instead of the `variable name` its `value` will be substituted"
   ]
  },
  {
   "cell_type": "code",
   "execution_count": null,
   "id": "c7183b4c",
   "metadata": {},
   "outputs": [],
   "source": [
    "print(my_name)"
   ]
  },
  {
   "cell_type": "markdown",
   "id": "be200ff5",
   "metadata": {},
   "source": [
    "### Operations with numbers"
   ]
  },
  {
   "cell_type": "code",
   "execution_count": null,
   "id": "f22f8fa3",
   "metadata": {},
   "outputs": [],
   "source": [
    "income = 350\n",
    "cost = 170.5\n",
    "\n",
    "print(income - cost)"
   ]
  },
  {
   "cell_type": "markdown",
   "id": "533695fa",
   "metadata": {},
   "source": [
    "`!IMPORTANT` in Python, the decimal separator is not a comma, but a dot.<p>\n",
    "It is customary to separate arithmetic operators with spaces, such code is easier to read"
   ]
  },
  {
   "cell_type": "markdown",
   "id": "fb966421",
   "metadata": {},
   "source": [
    "<div class=\"scrollable_content\">\n",
    "    <table cellpadding=\"0\" cellspacing=\"0\" style=\"width: 500px; text-align: center;\">\n",
    "        <thead ><tr><th scope=\"col\" style=\"text-align: center;\">In math</th>\n",
    "            <th scope=\"col\" style=\"text-align: center;\">In Python</th></tr>\n",
    "        </thead><tbody>\n",
    "        <tr ><td style=\"text-align: center;\">Addition</td><td style=\"text-align: center;\"><code class=\"code-inline code-inline_theme_light\">+</ code></td></tr><tr><td style=\"text-align: center;\">Subtraction</td><td style=\"text-align: center;\"><code class=\"code -inline code-inline_theme_light\">-</code></td></tr><tr><td style=\"text-align: center;\">Multiply</td><td style=\"text-align: center;\"><code class=\"code-inline code-inline_theme_light\" >*</code></td></tr>\n",
    "        <tr>\n",
    "            <td style=\"text-align: center;\">Division</td>\n",
    "            <td style=\"text-align: center;\"><code class=\"code-inline code-inline_theme_light\">/</code></td></tr>\n",
    "        <tr>\n",
    "            <td style=\"text-align: center;\">Remainder</td>\n",
    "            <td style=\"text-align: center;\"><code class=\"code-inline code-inline_theme_light\">%</code></td></tr>\n",
    "        <tr>\n",
    "            <td style=\"text-align: center;\">Raise a number to a power</td>\n",
    "            <td style=\"text-align: center;\"><code class=\"code-inline code-inline_theme_light\">**</code></td></tr>\n",
    "        </tbody></table><div></div></div>"
   ]
  },
  {
   "cell_type": "markdown",
   "id": "bcce63ec",
   "metadata": {},
   "source": [
    "#### Create and use variables"
   ]
  },
  {
   "cell_type": "code",
   "execution_count": null,
   "id": "4a631283",
   "metadata": {},
   "outputs": [],
   "source": [
    "height = 3\n",
    "width = 6\n",
    "long = 4\n",
    "\n",
    "\n",
    "# here \n",
    "square = width * long\n",
    "print(square)"
   ]
  },
  {
   "cell_type": "markdown",
   "id": "1412e481",
   "metadata": {},
   "source": [
    "### Comments and their use"
   ]
  },
  {
   "cell_type": "markdown",
   "id": "dc2a2eb8",
   "metadata": {},
   "source": [
    "To explain for themselves and others the meaning of the code, it is supplied with `comments`. They can be written in any language, indicating to Python what it is"
   ]
  },
  {
   "cell_type": "code",
   "execution_count": null,
   "id": "8e64769d",
   "metadata": {},
   "outputs": [],
   "source": [
    "# this code doesn't work\n",
    "\n",
    "\n"
   ]
  },
  {
   "cell_type": "markdown",
   "id": "5a47af29",
   "metadata": {},
   "source": [
    "you can write anything after the hash mark `#`, Python will ignore <p>\n",
    "To comment on multiple lines, press `ctrl + /`"
   ]
  },
  {
   "cell_type": "markdown",
   "id": "67814583",
   "metadata": {},
   "source": [
    "### Data types"
   ]
  },
  {
   "cell_type": "markdown",
   "id": "2a01cae6",
   "metadata": {},
   "source": [
    "Python has several standard data types:\n",
    "<ul>\n",
    "     <li>Numbers   123   12.2</li>\n",
    "     <li>Strings 'hi!', \"hey!\"</li>\n",
    "     <li>Lists  ['asd', 123, 22, False]</li>\n",
    "     <li>Tuples ('aleks','anna', 'anastasiya')</li>\n",
    "     <li>Dictionaries  {'alels': 32, 'anna': 21}</li>\n",
    "     <li>Sets   {'aleks', 'anna', 'anastaiya'}</li>\n",
    "     <li>Boolean  False, True</li>\n",
    "</ul>"
   ]
  },
  {
   "cell_type": "code",
   "execution_count": null,
   "id": "b319bbbf",
   "metadata": {},
   "outputs": [],
   "source": [
    "index_square = 2.2 * 5\n",
    "\n",
    "print(type(index_square))"
   ]
  },
  {
   "cell_type": "markdown",
   "id": "af93fbe6",
   "metadata": {},
   "source": [
    "The result of the `type()` function was the message `<class 'float'>`, in other words, our `index_square` variable has a data type of `float`"
   ]
  },
  {
   "cell_type": "markdown",
   "id": "2e08c3c0",
   "metadata": {},
   "source": [
    "Numeric data can be:\n",
    "     <ul>\n",
    "         <li>`int` (integer)</li>\n",
    "         <li>`float` (float: -0.2, 0.0, 3.14159265 etc.)</li>\n",
    "         <li>`long` (a long integer [can be represented in octal or hexadecimal])</li>\n",
    "         <li>`complex` (complex number)</li>\n",
    "     </ul>"
   ]
  },
  {
   "cell_type": "code",
   "execution_count": null,
   "id": "3727ade7",
   "metadata": {},
   "outputs": [],
   "source": [
    "1 + 2"
   ]
  },
  {
   "cell_type": "code",
   "execution_count": null,
   "id": "3e3f5ad2",
   "metadata": {},
   "outputs": [],
   "source": [
    "1.0 + 2"
   ]
  },
  {
   "cell_type": "code",
   "execution_count": null,
   "id": "5bf50ea5",
   "metadata": {},
   "outputs": [],
   "source": [
    "10/4"
   ]
  },
  {
   "cell_type": "code",
   "execution_count": null,
   "id": "381534b2-2b4b-4d71-bb75-e29d8fc7bb19",
   "metadata": {},
   "outputs": [],
   "source": [
    "type(4/2)"
   ]
  },
  {
   "cell_type": "code",
   "execution_count": null,
   "id": "7776299b",
   "metadata": {},
   "outputs": [],
   "source": [
    "type(2.0**3)"
   ]
  },
  {
   "cell_type": "markdown",
   "id": "a00dab4a",
   "metadata": {},
   "source": [
    "Converting to types, for example, we divide integers, data type is int"
   ]
  },
  {
   "cell_type": "code",
   "execution_count": null,
   "id": "b6a9c308",
   "metadata": {},
   "outputs": [],
   "source": [
    "type(10)          # int\n",
    "type(4)           # int  \n",
    "print(type(10/4)) # float"
   ]
  },
  {
   "cell_type": "markdown",
   "id": "2f823653",
   "metadata": {},
   "source": [
    "for type conversion we use the function\n",
    "<ul>\n",
    "     <li>int() - converts to int. Important! when a float is converted to an int, <b>rounding down</b></li> occurs\n",
    "     <li>float() - converts to float</li>\n",
    "     <li>str() - convert to string</li>"
   ]
  },
  {
   "cell_type": "code",
   "execution_count": null,
   "id": "097ced02",
   "metadata": {},
   "outputs": [],
   "source": [
    "int(5.5)"
   ]
  },
  {
   "cell_type": "code",
   "execution_count": null,
   "id": "93b0967f",
   "metadata": {},
   "outputs": [],
   "source": [
    "str(5.5)"
   ]
  },
  {
   "cell_type": "markdown",
   "id": "60269e19",
   "metadata": {},
   "source": [
    "it is also important to understand how boolean values behave"
   ]
  },
  {
   "cell_type": "code",
   "execution_count": null,
   "id": "c8820152",
   "metadata": {},
   "outputs": [],
   "source": [
    "type(False)"
   ]
  },
  {
   "cell_type": "markdown",
   "id": "f18a9522",
   "metadata": {},
   "source": [
    "what will other types change to boolean give"
   ]
  },
  {
   "cell_type": "code",
   "execution_count": null,
   "id": "d570bf55",
   "metadata": {},
   "outputs": [],
   "source": [
    "print(bool(5.5)) #t \n",
    "print(bool('5.5'))  #f\n",
    "print(bool(' ')) #t\n",
    "print(bool(0)) #f\n",
    "print(bool(-1))  #t"
   ]
  },
  {
   "cell_type": "markdown",
   "id": "513e0a67",
   "metadata": {},
   "source": [
    "### Bugs"
   ]
  },
  {
   "cell_type": "markdown",
   "id": "e8b07217",
   "metadata": {},
   "source": [
    "Let's try to execute the code below"
   ]
  },
  {
   "cell_type": "code",
   "execution_count": null,
   "id": "bfaafc3d",
   "metadata": {},
   "outputs": [],
   "source": [
    "cnt_customers = 538\n",
    "print(cnt_customers)\n"
   ]
  },
  {
   "cell_type": "markdown",
   "id": "1dca2ce5",
   "metadata": {},
   "source": [
    "There was a `typo` on the second line, Python stumbled over an unknown variable name and generated an error message. Let's analyze:\n",
    "\n",
    "- `line: 2` on which line the error was found</li>\n",
    "- `NameError` error type (name error)</li>\n",
    "- `name 'cnt_customer' is not defined` error cause, variable not defined</li>"
   ]
  },
  {
   "cell_type": "markdown",
   "id": "fa77cc34",
   "metadata": {},
   "source": [
    "Also examples of common mistakes"
   ]
  },
  {
   "cell_type": "code",
   "execution_count": null,
   "id": "0f643345",
   "metadata": {},
   "outputs": [],
   "source": [
    "# Syntax error\n",
    "print(3 + )"
   ]
  },
  {
   "cell_type": "code",
   "execution_count": null,
   "id": "16e231bc",
   "metadata": {},
   "outputs": [],
   "source": [
    "# unexpected EOF while parsing - unexpected end of file (EOF), \n",
    "# Python saw the start of a function call, but the code suddenly ended\n",
    "print(1 + 5"
   ]
  },
  {
   "cell_type": "code",
   "execution_count": null,
   "id": "569cbfb2",
   "metadata": {},
   "outputs": [],
   "source": [
    "# EOL while scanning string literal - end of line while reading it (EOL end of line).\n",
    "# Python saw an open parenthesis, but the line ended\n",
    "print('Hello Word!)"
   ]
  },
  {
   "cell_type": "markdown",
   "id": "cc8a82f9",
   "metadata": {},
   "source": [
    "### Function format and print on one line"
   ]
  },
  {
   "cell_type": "markdown",
   "id": "6757ab72",
   "metadata": {},
   "source": [
    "Previously, we analyzed examples of using `print()` with a variable and text, let's try to combine it"
   ]
  },
  {
   "cell_type": "code",
   "execution_count": null,
   "id": "fed481f7",
   "metadata": {},
   "outputs": [],
   "source": [
    "age=32\n",
    "\n",
    "print('My name is Oleksandr, I am',age,'years')"
   ]
  },
  {
   "cell_type": "markdown",
   "id": "60acd6b0",
   "metadata": {},
   "source": [
    "This is one of the `concatenation` options when using the `print()` function. Please note that the space between elements is set automatically<p>\n",
    "We write down this option, we get an error, what are the options for correcting it?"
   ]
  },
  {
   "cell_type": "code",
   "execution_count": null,
   "id": "22d65210",
   "metadata": {},
   "outputs": [],
   "source": [
    "print('My name is Oleksandr, I ' + str(age) + ' years')"
   ]
  },
  {
   "cell_type": "markdown",
   "id": "ef04d6ef",
   "metadata": {},
   "source": [
    "#### format() function"
   ]
  },
  {
   "cell_type": "markdown",
   "id": "9ef1b6d9",
   "metadata": {},
   "source": [
    "solve this kind of problem `calculate the proportion of the population of Latvia`"
   ]
  },
  {
   "cell_type": "code",
   "execution_count": null,
   "id": "03a22cdf",
   "metadata": {},
   "outputs": [],
   "source": [
    "population_of_latvia = 1835596\n",
    "population_of_the_earth = 8021664127\n",
    "\n",
    "perc_latvia = population_of_latvia/population_of_the_earth\n",
    "print('Share of Latvian population',perc_latvia)"
   ]
  },
  {
   "cell_type": "markdown",
   "id": "13e4b3b3",
   "metadata": {},
   "source": [
    "It is better to display the shares as a percentage. The `format()` function helps to solve these problems."
   ]
  },
  {
   "cell_type": "code",
   "execution_count": null,
   "id": "f6da3a95",
   "metadata": {},
   "outputs": [],
   "source": [
    "print('Percentage of the population of Latvia {:.2%}'.format(perc_latvia))"
   ]
  },
  {
   "cell_type": "markdown",
   "id": "9b37efd1",
   "metadata": {},
   "source": [
    "The format function takes the values passed to it and inserts them into the text at position {}, {} specifies the output format.\n",
    "`string.format(value1, value2...)`"
   ]
  },
  {
   "cell_type": "markdown",
   "id": "d08c38ff",
   "metadata": {},
   "source": [
    "function usage examples"
   ]
  },
  {
   "cell_type": "code",
   "execution_count": null,
   "id": "d4826ee3",
   "metadata": {},
   "outputs": [],
   "source": [
    "print(\"My name is {name}, my name is {age}\".format(name = \"Oleksandr\", age = 32))\n",
    "print(\"My name is {0}, my name is {1}\".format(\"Oleksandr\",32))\n",
    "print(\"My name is {}, my name is {}\". format(\"Oleksandr\",32))"
   ]
  },
  {
   "cell_type": "markdown",
   "id": "caf165e5",
   "metadata": {},
   "source": [
    "Basic types of formatting,\n",
    "- `:%` convert value to percentage\n",
    "- `.2` specifying the number of characters after the comma\n",
    "- `:,` thousands separator\n",
    "- `:+` explicit indication of positive values"
   ]
  },
  {
   "cell_type": "code",
   "execution_count": null,
   "id": "b82f3a20",
   "metadata": {},
   "outputs": [],
   "source": [
    "print('The market share was {:.2%}'.format(0.026548498))\n",
    "print('Market share was {:.2}'.format(0.026548498))\n",
    "print('Population of Earth {:,}'.format(8021664127))\n",
    "print('Products must be stored at temperatures between {:+} and {:+} degrees'.format(-2,5))"
   ]
  },
  {
   "cell_type": "markdown",
   "id": "97129d00",
   "metadata": {},
   "source": [
    "Also, when inserting a variable into the text without formatting, you can use this format"
   ]
  },
  {
   "cell_type": "code",
   "execution_count": null,
   "id": "25aeebf4",
   "metadata": {},
   "outputs": [],
   "source": [
    "name = \"Oleksandr\"\n",
    "age=32\n",
    "\n",
    "print(f\"My name is {name}, my name is {age}\")"
   ]
  },
  {
   "cell_type": "code",
   "execution_count": null,
   "id": "66f44ccc-5010-41d5-9d71-cca387a1504b",
   "metadata": {},
   "outputs": [],
   "source": []
  }
 ],
 "metadata": {
  "kernelspec": {
   "display_name": "Python 3 (ipykernel)",
   "language": "python",
   "name": "python3"
  },
  "language_info": {
   "codemirror_mode": {
    "name": "ipython",
    "version": 3
   },
   "file_extension": ".py",
   "mimetype": "text/x-python",
   "name": "python",
   "nbconvert_exporter": "python",
   "pygments_lexer": "ipython3",
   "version": "3.10.9"
  },
  "toc-autonumbering": true
 },
 "nbformat": 4,
 "nbformat_minor": 5
}
