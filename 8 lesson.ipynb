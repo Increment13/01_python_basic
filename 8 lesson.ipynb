{
 "cells": [
  {
   "cell_type": "markdown",
   "id": "e41edd49",
   "metadata": {},
   "source": [
    "# Scatter diagram"
   ]
  },
  {
   "cell_type": "code",
   "execution_count": null,
   "id": "2ea72f8c",
   "metadata": {},
   "outputs": [],
   "source": [
    "import pandas as pd"
   ]
  },
  {
   "cell_type": "markdown",
   "id": "5342ef88",
   "metadata": {},
   "source": [
    "It is often necessary to understand how different values depend on each other. Let's take, for example, data on `height`  and `weight` of people."
   ]
  },
  {
   "cell_type": "code",
   "execution_count": null,
   "id": "9ff8b875",
   "metadata": {},
   "outputs": [],
   "source": [
    "df = pd.read_csv('./datasets/HeightWeight.csv')"
   ]
  },
  {
   "cell_type": "code",
   "execution_count": null,
   "id": "4fbba496",
   "metadata": {},
   "outputs": [],
   "source": [
    "df.head()"
   ]
  },
  {
   "cell_type": "markdown",
   "id": "0f7fcadb",
   "metadata": {},
   "source": [
    "Let's study the numerical characteristics:"
   ]
  },
  {
   "cell_type": "code",
   "execution_count": null,
   "id": "b32a00b1",
   "metadata": {},
   "outputs": [],
   "source": [
    "df.describe()"
   ]
  },
  {
   "cell_type": "markdown",
   "id": "63b81e45",
   "metadata": {},
   "source": [
    "and histograms:"
   ]
  },
  {
   "cell_type": "code",
   "execution_count": null,
   "id": "180e88d3",
   "metadata": {},
   "outputs": [],
   "source": [
    "ar = df.hist()"
   ]
  },
  {
   "cell_type": "markdown",
   "id": "d6311116",
   "metadata": {},
   "source": [
    "Histograms are similar to normal distribution plots. Separately, we note that we are dealing with data on adults.\n",
    "To find the relationship between height and weight, they also need to be marked on the same graph, and not on separate histograms. Set the height and weight on the X and Y axes, respectively:"
   ]
  },
  {
   "cell_type": "code",
   "execution_count": null,
   "id": "3039d1c9",
   "metadata": {},
   "outputs": [],
   "source": [
    "ar = df.plot(x='Height', y='Weight') "
   ]
  },
  {
   "cell_type": "markdown",
   "id": "6661dd87",
   "metadata": {},
   "source": [
    "Furry something."
   ]
  },
  {
   "cell_type": "markdown",
   "id": "a26695cf",
   "metadata": {},
   "source": [
    "The original data was not sorted. And the growth of each next person is in no way connected with the growth of the previous one. Let's get rid of the mess of jumping values connected by lines.\n",
    "Let's sort the data:"
   ]
  },
  {
   "cell_type": "code",
   "execution_count": null,
   "id": "c14b5b7f",
   "metadata": {},
   "outputs": [],
   "source": [
    "ar = df.sort_values('Height').plot(x='Height', y='Weight') "
   ]
  },
  {
   "cell_type": "markdown",
   "id": "366705f7",
   "metadata": {},
   "source": [
    "A graph where values are connected by lines is good if it illustrates a continuous relationship.\n",
    "It is much better to indicate individual combinations of height and weight with dots. This is possible on a special type of charts - scatter. Let's pass the `scatter` value to the `kind` parameter of the `plot()` method:"
   ]
  },
  {
   "cell_type": "code",
   "execution_count": null,
   "id": "2b2b76b3",
   "metadata": {},
   "outputs": [],
   "source": [
    "ar = df.plot(x='Height', y='Weight', kind='scatter') "
   ]
  },
  {
   "cell_type": "markdown",
   "id": "8f3db074",
   "metadata": {},
   "source": [
    "On the graph you can see the relationship between the two quantities. And also to understand what data is typical and what is abnormal.\n",
    "So, if we are told that there is a person with a height of 190 cm and a weight of 50 kg, we will answer that they either measured it incorrectly, or this is a very rare person."
   ]
  },
  {
   "cell_type": "markdown",
   "id": "d982a4fa",
   "metadata": {},
   "source": [
    "# Correlation"
   ]
  },
  {
   "cell_type": "markdown",
   "id": "0b5dc406",
   "metadata": {},
   "source": [
    "Method 1"
   ]
  },
  {
   "cell_type": "markdown",
   "id": "96e3f12c",
   "metadata": {},
   "source": [
    "The obvious drawback of this graph is that in the middle there is a huge number of points that have merged into a single mass. In the value cloud, you cannot see areas of higher density. There are two ways to make the graph clearer."
   ]
  },
  {
   "cell_type": "markdown",
   "id": "8a66980d",
   "metadata": {},
   "source": [
    "Let's make the dots semi-transparent by setting the `alpha` parameter. Let's try to find its optimal value:"
   ]
  },
  {
   "cell_type": "code",
   "execution_count": null,
   "id": "5ac69055",
   "metadata": {},
   "outputs": [],
   "source": [
    "ar = df.plot(x='Height', y='Weight', kind='scatter', alpha=0.03) "
   ]
  },
  {
   "cell_type": "markdown",
   "id": "feef9416",
   "metadata": {},
   "source": [
    "Method 2"
   ]
  },
  {
   "cell_type": "markdown",
   "id": "a01ac1b1",
   "metadata": {},
   "source": [
    "When there are many points and each individually is not interesting, the data is displayed in a special way. The graph is divided into cells; count the points in each cell. Then the cells are filled with color: the more dots, the thicker the color."
   ]
  },
  {
   "cell_type": "markdown",
   "id": "7b89dd07",
   "metadata": {},
   "source": [
    "This type of graph is specified through the kind parameter, it is assigned the value `hexbin`.\n",
    "The number of cells along the horizontal axis is set by the `gridsize` parameter, an analogue of `bins` for `hist()`."
   ]
  },
  {
   "cell_type": "code",
   "execution_count": null,
   "id": "a2358f92",
   "metadata": {},
   "outputs": [],
   "source": [
    "ar = df.plot(x='Height', y='Weight', kind='hexbin', gridsize=20, figsize=(8, 6), sharex=False, grid=True) "
   ]
  },
  {
   "cell_type": "markdown",
   "id": "361c91d0",
   "metadata": {},
   "source": [
    "# Correlation coefficient"
   ]
  },
  {
   "cell_type": "markdown",
   "id": "2aa3d336",
   "metadata": {},
   "source": [
    "The Pearson coefficient is found by the `corr()` method. The method is applied to the column with the first value, and the column with the second value is passed as a parameter. Which is the first, and which is the second - it does not matter:"
   ]
  },
  {
   "cell_type": "code",
   "execution_count": null,
   "id": "a05e7592",
   "metadata": {},
   "outputs": [],
   "source": [
    "df['Height'].corr(df['Weight'])"
   ]
  },
  {
   "cell_type": "code",
   "execution_count": null,
   "id": "d1bcacbd",
   "metadata": {},
   "outputs": [],
   "source": [
    "df.corr()"
   ]
  },
  {
   "cell_type": "markdown",
   "id": "90421e66",
   "metadata": {},
   "source": [
    "A correlation of `0.5` indicates a connection, but not too strong. It turns out that an increase in height is accompanied by an increase in weight, but this is not always the case.\n",
    "\n",
    "Is the opposite true: does height increase with weight gain? As far as we know from experience, no. Although correlation illustrates the relationship between quantities, it does not prove the existence of a causal relationship. This is not to say that by gaining weight, we become taller."
   ]
  },
  {
   "cell_type": "markdown",
   "id": "51c10167",
   "metadata": {},
   "source": [
    "# Scatterplot matrix"
   ]
  },
  {
   "cell_type": "markdown",
   "id": "b1b44817",
   "metadata": {},
   "source": [
    "earlier we found a correlation between the two quantities. However, life phenomena are much more complex and can depend on many factors. For example, it is interesting to study not only height and weight, but also how they are affected by age and sex.\n",
    "\n",
    "Unfortunately, it is impossible to draw a clear graph for four parameters at once. However, you can build scatterplots in pairs for height and weight, height and age, weight and sex, weight and age - a total of 16 options. In pandas, this problem is solved not by `df.plot()`, but by a special method: `pd.plotting.scatter_matrix(df)`"
   ]
  },
  {
   "cell_type": "markdown",
   "id": "ea532787",
   "metadata": {},
   "source": [
    "In the data set, for each person, height, weight and age are known. In the sex column, the value 1 denotes male, 0 denotes female. Let's build the scattering matrix:"
   ]
  },
  {
   "cell_type": "code",
   "execution_count": null,
   "id": "3ac7b5c9",
   "metadata": {},
   "outputs": [],
   "source": [
    "df = pd.read_csv('./datasets/HeightWeight2.csv')"
   ]
  },
  {
   "cell_type": "code",
   "execution_count": null,
   "id": "da43289b",
   "metadata": {},
   "outputs": [],
   "source": [
    "ar = pd.plotting.scatter_matrix(df, figsize=(10, 10))"
   ]
  },
  {
   "cell_type": "markdown",
   "id": "ed3ca0fc",
   "metadata": {},
   "source": [
    "For all pairs of columns, except gender, the correlation coefficient can be found. It is enough to call the `corr()` method without parameters."
   ]
  },
  {
   "cell_type": "code",
   "execution_count": null,
   "id": "f661f540",
   "metadata": {},
   "outputs": [],
   "source": [
    "df.corr()"
   ]
  },
  {
   "cell_type": "markdown",
   "id": "cd68981c",
   "metadata": {},
   "source": [
    "# More charts"
   ]
  },
  {
   "cell_type": "markdown",
   "id": "f24ead8b",
   "metadata": {},
   "source": [
    "slightly automate the drawing process, and also make the graph more informative"
   ]
  },
  {
   "cell_type": "code",
   "execution_count": null,
   "id": "5c071418",
   "metadata": {},
   "outputs": [],
   "source": [
    "df.head()"
   ]
  },
  {
   "cell_type": "markdown",
   "id": "bf348d7a",
   "metadata": {},
   "source": [
    "let's make a regular charts"
   ]
  },
  {
   "cell_type": "code",
   "execution_count": null,
   "id": "e8c4893f",
   "metadata": {},
   "outputs": [],
   "source": [
    "ax = df.plot(x = 'Weight',\n",
    "             y = 'Height',\n",
    "             kind = 'scatter',                    \n",
    "             style = 'o',                          \n",
    "             alpha = 0.05,                          \n",
    "             figsize = (8, 4.5),                   \n",
    "             grid = True)"
   ]
  },
  {
   "cell_type": "markdown",
   "id": "4fe60e2a",
   "metadata": {},
   "source": [
    "add median data to it, these data will be close to correlation"
   ]
  },
  {
   "cell_type": "code",
   "execution_count": null,
   "id": "f4bcba53",
   "metadata": {},
   "outputs": [],
   "source": [
    "ax = df.plot(x = 'Weight',\n",
    "             y = 'Height',\n",
    "             kind = 'scatter',                    \n",
    "             style = 'o',                          \n",
    "             alpha = 0.05,                          \n",
    "             figsize = (8, 4.5),                   \n",
    "             grid = True)\n",
    "(df.groupby('Weight')['Height'].agg(['median'])\n",
    "         .plot(ax = ax,\n",
    "               y = 'median',\n",
    "               style = '-r',\n",
    "               alpha = 0.1, \n",
    "               legend = True,          \n",
    "               label = 'median on ' + 'Weight',    \n",
    "               grid = True              \n",
    "              ))"
   ]
  },
  {
   "cell_type": "markdown",
   "id": "032d63b3",
   "metadata": {},
   "source": [
    "the median looks bad because data for which we grouped was not grouped"
   ]
  },
  {
   "cell_type": "markdown",
   "id": "451c471f",
   "metadata": {},
   "source": [
    "fix this by rounding the data"
   ]
  },
  {
   "cell_type": "code",
   "execution_count": null,
   "id": "0ce9934e",
   "metadata": {},
   "outputs": [],
   "source": [
    "ax = df.plot(x = 'Weight',\n",
    "             y = 'Height',\n",
    "             kind = 'scatter',                    \n",
    "             style = 'o',                          \n",
    "             alpha = 0.05,                          \n",
    "             figsize = (8, 4.5),                   \n",
    "             grid = True)\n",
    "(df.round().groupby('Weight')['Height'].agg(['median'])\n",
    "         .plot(ax = ax,\n",
    "               y = 'median',\n",
    "               style = '-r',\n",
    "               alpha = 1, \n",
    "               legend = True,          \n",
    "               label = 'median on ' + 'Weight',    \n",
    "               grid = True              \n",
    "              ))"
   ]
  },
  {
   "cell_type": "markdown",
   "id": "8342d4a1",
   "metadata": {},
   "source": [
    "the ideal is already close, but you need to cut off a small amount of data, this can be done using quartiles"
   ]
  },
  {
   "cell_type": "code",
   "execution_count": null,
   "id": "483a10a1",
   "metadata": {},
   "outputs": [],
   "source": [
    "llimit = df['Weight'].quantile(0.01)\n",
    "rlimit = df['Weight'].quantile(0.99)"
   ]
  },
  {
   "cell_type": "code",
   "execution_count": null,
   "id": "8bad0c63",
   "metadata": {},
   "outputs": [],
   "source": [
    "ax = df.plot(x = 'Weight',\n",
    "             y = 'Height',\n",
    "             kind = 'scatter',                    \n",
    "             style = 'o',                          \n",
    "             alpha = 0.05,                          \n",
    "             figsize = (8, 4.5),  \n",
    "             xlim = (llimit, rlimit),\n",
    "             grid = True)\n",
    "(df.round().groupby('Weight')['Height'].agg(['median'])\n",
    "         .plot(ax = ax,\n",
    "               y = 'median',\n",
    "               style = '-r',\n",
    "               alpha = 1, \n",
    "               legend = True,          \n",
    "               label = 'median on ' + 'Weight',    \n",
    "               grid = True              \n",
    "              ))"
   ]
  },
  {
   "cell_type": "markdown",
   "id": "43b30c4a",
   "metadata": {},
   "source": [
    "left to automation"
   ]
  },
  {
   "cell_type": "markdown",
   "id": "377c4319",
   "metadata": {},
   "source": [
    "create a function that will receive data\n",
    "1. dataframe\n",
    "2. X data\n",
    "3. Y data"
   ]
  },
  {
   "cell_type": "code",
   "execution_count": null,
   "id": "55d0f66c",
   "metadata": {},
   "outputs": [],
   "source": [
    "def draw_graph(df, column_x, column_y): \n",
    "    \n",
    "    llimit = df[column_x].quantile(0.01)\n",
    "    rlimit = df[column_x].quantile(0.99)   \n",
    "    \n",
    "    ax = df.plot(x = column_x,\n",
    "                 y = column_y,\n",
    "                 kind = 'scatter',                    \n",
    "                 style = 'o',                          \n",
    "                 alpha = 0.05,                          \n",
    "                 figsize = (8, 4.5),  \n",
    "                 xlim = (llimit, rlimit),\n",
    "                 grid = True)\n",
    "    (df.round().groupby(column_x)[column_y].agg(['median'])\n",
    "             .plot(ax = ax,\n",
    "                   y = 'median',\n",
    "                   style = '-r',\n",
    "                   alpha = 1, \n",
    "                   legend = True,          \n",
    "                   label = 'median on ' + column_x,    \n",
    "                   grid = True              \n",
    "                  ))"
   ]
  },
  {
   "cell_type": "markdown",
   "id": "afa987da",
   "metadata": {},
   "source": [
    "now, to draw the graph, we just need to call the function with the necessary parameters"
   ]
  },
  {
   "cell_type": "code",
   "execution_count": null,
   "id": "1d854b6d",
   "metadata": {},
   "outputs": [],
   "source": [
    "draw_graph(df, 'Weight', 'Height')"
   ]
  },
  {
   "cell_type": "code",
   "execution_count": null,
   "id": "3c7e0cb8",
   "metadata": {},
   "outputs": [],
   "source": [
    "draw_graph(df, 'Height', 'Weight')"
   ]
  },
  {
   "cell_type": "code",
   "execution_count": null,
   "id": "448c5227",
   "metadata": {},
   "outputs": [],
   "source": [
    "draw_graph(df, 'Age', 'Weight')"
   ]
  },
  {
   "cell_type": "markdown",
   "id": "a20ab9e1",
   "metadata": {},
   "source": [
    "We are limited only by our imagination. For best use, try to limit the variables you pass"
   ]
  },
  {
   "cell_type": "code",
   "execution_count": null,
   "id": "cac8bbf3",
   "metadata": {},
   "outputs": [],
   "source": [
    "def hist_compare(df1, df2, column, bins, lims):\n",
    "    ax = df1.plot(kind = 'hist',\n",
    "                 y = column,\n",
    "                 bins = bins,\n",
    "                 range = lims,\n",
    "                 alpha = 0.3,\n",
    "                 grid = True,\n",
    "                 legend = True,           \n",
    "                 label = column,\n",
    "                 figsize = (8, 4.5))\n",
    "    df2.plot(kind = 'hist',\n",
    "                  y = column,\n",
    "                  ax = ax,               \n",
    "                  bins = bins,\n",
    "                  range = lims,\n",
    "                  alpha = 0.4,\n",
    "                  grid = True,\n",
    "                  legend = True,\n",
    "                  label = column \n",
    "                          )"
   ]
  },
  {
   "cell_type": "code",
   "execution_count": null,
   "id": "3421c636",
   "metadata": {},
   "outputs": [],
   "source": [
    "hist_compare(df.query('Height < 68'), df.query('Height >=68') , 'Weight', bins=30, lims=(90,160))"
   ]
  },
  {
   "cell_type": "markdown",
   "id": "4a3f880f",
   "metadata": {},
   "source": [
    "what data can be optimized/automated here?"
   ]
  }
 ],
 "metadata": {
  "kernelspec": {
   "display_name": "Python 3 (ipykernel)",
   "language": "python",
   "name": "python3"
  },
  "language_info": {
   "codemirror_mode": {
    "name": "ipython",
    "version": 3
   },
   "file_extension": ".py",
   "mimetype": "text/x-python",
   "name": "python",
   "nbconvert_exporter": "python",
   "pygments_lexer": "ipython3",
   "version": "3.10.9"
  }
 },
 "nbformat": 4,
 "nbformat_minor": 5
}
