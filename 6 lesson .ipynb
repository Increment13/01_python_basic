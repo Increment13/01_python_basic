{
 "cells": [
  {
   "cell_type": "markdown",
   "id": "f02fb316",
   "metadata": {},
   "source": [
    "# Exploratory data analysis"
   ]
  },
  {
   "cell_type": "markdown",
   "id": "7d78b335",
   "metadata": {},
   "source": [
    "in this lesson we'll look at\n",
    "- pivot tables\n",
    "- query()\n",
    "- create graf\n",
    "- work with date and time"
   ]
  },
  {
   "cell_type": "markdown",
   "id": "5e1c0f08",
   "metadata": {},
   "source": [
    "load the libraries known to us and also a new dataset (https://www.kaggle.com/datasets/gregorut/videogamesales?resource=download)"
   ]
  },
  {
   "cell_type": "code",
   "execution_count": null,
   "id": "db977573",
   "metadata": {},
   "outputs": [],
   "source": [
    "import pandas as pd"
   ]
  },
  {
   "cell_type": "code",
   "execution_count": null,
   "id": "9c5d0f14",
   "metadata": {},
   "outputs": [],
   "source": [
    "df = pd.read_csv('./datasets/vgsales.csv')"
   ]
  },
  {
   "cell_type": "code",
   "execution_count": null,
   "id": "d174b72d",
   "metadata": {},
   "outputs": [],
   "source": [
    "df.head()"
   ]
  },
  {
   "cell_type": "markdown",
   "id": "2cd17424",
   "metadata": {},
   "source": [
    "# Pivot tables for calculation"
   ]
  },
  {
   "cell_type": "markdown",
   "id": "80afac6e",
   "metadata": {},
   "source": [
    "method for building pivot tables - `pivot_table()` Recall its parameters:\n",
    "- `index` - a column whose values become <font color=\"#2e0a8f\">row</font> names (index);\n",
    "- `columns` - a column whose values become the names of the <font color=\"#f00505\">columns</font>;\n",
    "- `values` - <font color=\"#29ab33\">values</font> by which you want to see the pivot table;\n",
    "- `aggfunc` - function applied to values"
   ]
  },
  {
   "cell_type": "markdown",
   "id": "4d631da1",
   "metadata": {},
   "source": [
    "![jupyter](./pict/pivott.png)"
   ]
  },
  {
   "cell_type": "markdown",
   "id": "2d6e55ba",
   "metadata": {},
   "source": [
    "the values of the aggregating function can be different, for this we will additionally help the new `numpy` library"
   ]
  },
  {
   "cell_type": "code",
   "execution_count": null,
   "id": "29fd6541",
   "metadata": {},
   "outputs": [],
   "source": [
    "import numpy as np"
   ]
  },
  {
   "cell_type": "code",
   "execution_count": null,
   "id": "573554a8-d582-43eb-afb4-0f6b191e9dc0",
   "metadata": {},
   "outputs": [],
   "source": [
    "df.head()"
   ]
  },
  {
   "cell_type": "markdown",
   "id": "48be173f",
   "metadata": {},
   "source": [
    "highlight the most popular functions"
   ]
  },
  {
   "cell_type": "code",
   "execution_count": null,
   "id": "3d0ad99a",
   "metadata": {},
   "outputs": [],
   "source": [
    "table = pd.pivot_table(df.loc[sdfsdfsfsdfsdfsdfsdfsdfsfsdfsdf], \n",
    "                       index=['Genre'], \n",
    "                       values=['NA_Sales','Global_Sales'],\n",
    "           aggfunc={'Global_Sales':np.sum,'NA_Sales':[np.sum, np.mean, len, np.min, np.max, 'count', np.std]},\n",
    "                       fill_value=0)\n",
    "table"
   ]
  },
  {
   "cell_type": "markdown",
   "id": "9a1f5b46",
   "metadata": {},
   "source": [
    "building pivot tables, as you noticed, similarly to excel, we select `index` and `columns`, as well as prescribe aggregate functions for `values`"
   ]
  },
  {
   "cell_type": "markdown",
   "id": "e480aaba",
   "metadata": {},
   "source": [
    "if we need to specify several aggregations for one value, the recording occurs similarly to an array"
   ]
  },
  {
   "cell_type": "markdown",
   "id": "97e2f9c9",
   "metadata": {},
   "source": [
    "if we use a single aggregation for all fields, the record is simplified"
   ]
  },
  {
   "cell_type": "code",
   "execution_count": null,
   "id": "ef44529f",
   "metadata": {},
   "outputs": [],
   "source": [
    "table = pd.pivot_table(df, \n",
    "                       index=['Genre'], \n",
    "                       values=['NA_Sales','EU_Sales','JP_Sales','Other_Sales'],\n",
    "                       aggfunc=np.sum,\n",
    "                       fill_value=0)\n",
    "table"
   ]
  },
  {
   "cell_type": "code",
   "execution_count": null,
   "id": "2121c975-2389-4f05-b5d6-bad0167f776a",
   "metadata": {},
   "outputs": [],
   "source": [
    "df_table = table.reset_index()"
   ]
  },
  {
   "cell_type": "code",
   "execution_count": null,
   "id": "1dab4511-4758-4c45-9146-b878bbfafab5",
   "metadata": {},
   "outputs": [],
   "source": [
    "df_table"
   ]
  },
  {
   "cell_type": "markdown",
   "id": "790bbe23",
   "metadata": {},
   "source": [
    "# Histogram"
   ]
  },
  {
   "cell_type": "markdown",
   "id": "cb0ecab1",
   "metadata": {},
   "source": [
    "A histogram is a graph that shows how often a particular value occurs in a dataset. The histogram combines numerical values ​​into ranges, that is, it counts the frequency of values ​​within each interval."
   ]
  },
  {
   "cell_type": "markdown",
   "id": "484988f3",
   "metadata": {},
   "source": [
    "Compare the histogram with the result of the value_counts() method using the Simpsons data as an example"
   ]
  },
  {
   "cell_type": "code",
   "execution_count": null,
   "id": "d28b3195",
   "metadata": {},
   "outputs": [],
   "source": [
    "simpsons = pd.read_csv('./datasets/SimpsonsData.csv')\n",
    "simpsons.head()"
   ]
  },
  {
   "cell_type": "markdown",
   "id": "8cd2ac02",
   "metadata": {},
   "source": [
    "The dataset contains information about The Simpsons episodes: title, release date, season, season number, and rating. Should the authors and producers of the series prepare a new season?\n",
    "Help the team make a decision. Find the episode rating of the series in the past."
   ]
  },
  {
   "cell_type": "markdown",
   "id": "69c0550f",
   "metadata": {},
   "source": [
    "Using the `value_counts()` method, you can display the number of series that received a particular rating:"
   ]
  },
  {
   "cell_type": "code",
   "execution_count": null,
   "id": "572b7577",
   "metadata": {},
   "outputs": [],
   "source": [
    "simpsons['Rating'].value_counts().head(10)"
   ]
  },
  {
   "cell_type": "markdown",
   "id": "c6470b09",
   "metadata": {},
   "source": [
    "This presentation of the data will in no way convince the producers to continue working on The Simpsons. To see which ratings the show received most often, you can build a histogram:"
   ]
  },
  {
   "cell_type": "code",
   "execution_count": null,
   "id": "5e1c8aea",
   "metadata": {},
   "outputs": [],
   "source": [
    "simpsons['Rating'].hist()"
   ]
  },
  {
   "cell_type": "markdown",
   "id": "a6476127",
   "metadata": {},
   "source": [
    "Most often, episodes received ratings in the region of 7 points or higher. This is a very good indicator for the series."
   ]
  },
  {
   "cell_type": "markdown",
   "id": "11c856cc",
   "metadata": {},
   "source": [
    "In pandas, a histogram is built by a special method `hist()`. It can be applied to a list or to a dataframe column: in the second case, the name of the column is passed in the parameter. The `hist()` method finds the minimum and maximum values in a set of numbers, and divides the resulting range into areas, or baskets. `hist()` then counts how many values are in each bin and plots that."
   ]
  },
  {
   "cell_type": "markdown",
   "id": "bbe4dd4a",
   "metadata": {},
   "source": [
    "The `bins` parameter determines how many divisions to divide the data range into. There are 10 such baskets by default."
   ]
  },
  {
   "cell_type": "markdown",
   "id": "5e022bd1",
   "metadata": {},
   "source": [
    "Let's build a histogram showing the number of balls in a bowling alley. Let's say we have one ball of each number from 6 to 16:"
   ]
  },
  {
   "cell_type": "code",
   "execution_count": null,
   "id": "c22ccfa9",
   "metadata": {},
   "outputs": [],
   "source": [
    "pd.Series([6, 7, 8, 9, 10, 11, 12, 13, 14, 15, 16]).hist()"
   ]
  },
  {
   "cell_type": "markdown",
   "id": "2bde55c9",
   "metadata": {},
   "source": [
    "Although there is one ball for each number, the histogram is not like a rectangle. This is because the default parameter is `bins=10`, and the number of balls is 11. Let's pass in the corresponding number of bins and take a look at the resulting graph:"
   ]
  },
  {
   "cell_type": "code",
   "execution_count": null,
   "id": "eaaae585",
   "metadata": {},
   "outputs": [],
   "source": [
    "pd.Series([6, 7, 8, 9, 10, 11, 12, 13, 14, 15, 16]).hist(bins=11) "
   ]
  },
  {
   "cell_type": "markdown",
   "id": "703f88b1",
   "metadata": {},
   "source": [
    "more example"
   ]
  },
  {
   "cell_type": "code",
   "execution_count": null,
   "id": "c9418920",
   "metadata": {},
   "outputs": [],
   "source": [
    "pd.Series([6, 8, 8, 9, 10, 11, 12, 13, 14, 15, 16]).hist(bins=6) "
   ]
  },
  {
   "cell_type": "code",
   "execution_count": null,
   "id": "8e684532",
   "metadata": {},
   "outputs": [],
   "source": [
    "pd.Series([6, 8, 8, 9, 10, 11, 12, 13, 14, 100]).hist(bins=100)"
   ]
  },
  {
   "cell_type": "markdown",
   "id": "19944023",
   "metadata": {},
   "source": [
    "Nine balls with values ​​in the range from 5 to 15 and one ball with a number from 90 to 100. With this image, the subtle features of the distribution of values ​​in the range from 5 to 15 are not visible - that there is no seven in it, but eights are a pair.\n",
    "Let's return the detail by increasing the number of baskets to 100."
   ]
  },
  {
   "cell_type": "code",
   "execution_count": null,
   "id": "172acb19",
   "metadata": {},
   "outputs": [],
   "source": [
    "pd.Series([6, 8, 8, 9, 10, 11, 12, 13, 14, 100]).hist(bins=100) "
   ]
  },
  {
   "cell_type": "markdown",
   "id": "1c94f69a",
   "metadata": {},
   "source": [
    "Let's change the scale manually by specifying the range of values ​​by which the graph should be built. The boundaries of the interval of interest are indicated in the `range` parameter: `range=(min_value, max_value)`. Need an area from 6 to 14:"
   ]
  },
  {
   "cell_type": "code",
   "execution_count": null,
   "id": "057de36a",
   "metadata": {},
   "outputs": [],
   "source": [
    "pd.Series([6, 8, 8, 9, 10, 11, 12, 13, 14, 100]).hist(range = (6, 14, 2)) "
   ]
  },
  {
   "cell_type": "code",
   "execution_count": null,
   "id": "d96dbf8a",
   "metadata": {},
   "outputs": [],
   "source": [
    "pd.Series([0, 0, 0, 0, 0, 10, 10, 10, 10, 10]).hist(range=(0, 10)) "
   ]
  },
  {
   "cell_type": "code",
   "execution_count": null,
   "id": "e01f588b-6950-4370-bdfc-2c0d0667bc82",
   "metadata": {},
   "outputs": [],
   "source": [
    "pd.Series([4, 5, 5, 5, 5, 5, 5, 5, 5, 5, 6]).hist(range=(0, 10)) "
   ]
  },
  {
   "cell_type": "markdown",
   "id": "319808e1",
   "metadata": {},
   "source": [
    "Looking only at the average of these datasets (listed above), we can say that they are very similar. However, the histograms describing them make it clear that these are two very different phenomena."
   ]
  },
  {
   "cell_type": "markdown",
   "id": "7514a253",
   "metadata": {},
   "source": [
    "# New experiment"
   ]
  },
  {
   "cell_type": "markdown",
   "id": "39b44455",
   "metadata": {},
   "source": [
    "let's try to solve the problem - we have two cubes, we will subtract them in our mind, what value will we get? What is the value of rolling the die 1000 times?"
   ]
  },
  {
   "cell_type": "markdown",
   "id": "dff84231",
   "metadata": {},
   "source": [
    "![jupyter](./pict/cub.png)"
   ]
  },
  {
   "cell_type": "markdown",
   "id": "ebd427ca",
   "metadata": {},
   "source": [
    "get acquainted with the new `random` library"
   ]
  },
  {
   "cell_type": "code",
   "execution_count": null,
   "id": "cff446c5",
   "metadata": {},
   "outputs": [],
   "source": [
    "import random "
   ]
  },
  {
   "cell_type": "markdown",
   "id": "f2d780d2",
   "metadata": {},
   "source": [
    "The `random.randint()` function returns random integers. It takes two arguments: the smallest and largest valid number."
   ]
  },
  {
   "cell_type": "code",
   "execution_count": null,
   "id": "06ffd1f4",
   "metadata": {},
   "outputs": [],
   "source": [
    "print(random.randint(1, 6))"
   ]
  },
  {
   "cell_type": "markdown",
   "id": "3e4a8251",
   "metadata": {},
   "source": [
    "Let's write a function that returns a random number of points on the top face:"
   ]
  },
  {
   "cell_type": "code",
   "execution_count": null,
   "id": "34e7dc26",
   "metadata": {},
   "outputs": [],
   "source": [
    "def dice_roll():\n",
    "    score = random.randint(1, 6)  \n",
    "    return score"
   ]
  },
  {
   "cell_type": "markdown",
   "id": "14c386cf",
   "metadata": {},
   "source": [
    "We have a couple of cubes. So, we need a function that gets the number of points from the roll of two dice:"
   ]
  },
  {
   "cell_type": "code",
   "execution_count": null,
   "id": "8c6796fa",
   "metadata": {},
   "outputs": [],
   "source": [
    "def double_roll_score():\n",
    "    first = dice_roll()\n",
    "    second = dice_roll()\n",
    "    score = first + second\n",
    "    return score"
   ]
  },
  {
   "cell_type": "code",
   "execution_count": null,
   "id": "77c6a724-d441-4e5a-abe5-6e55ff82111e",
   "metadata": {},
   "outputs": [],
   "source": [
    "df_experiments"
   ]
  },
  {
   "cell_type": "markdown",
   "id": "84cc4e56",
   "metadata": {},
   "source": [
    "Let's make 1000 such throws and build a histogram of the points received:"
   ]
  },
  {
   "cell_type": "code",
   "execution_count": null,
   "id": "07670a8a",
   "metadata": {},
   "outputs": [],
   "source": [
    "experiments = []\n",
    "for i in range(1000):\n",
    "    score = double_roll_score()\n",
    "    experiments.append(score)\n",
    "\n",
    "df_experiments = pd.DataFrame({'cube' :experiments})\n",
    "ar = df_experiments.hist(bins=11, range=(2, 12))"
   ]
  },
  {
   "cell_type": "code",
   "execution_count": null,
   "id": "40016418-58b7-46f6-8211-997552b1b1fe",
   "metadata": {},
   "outputs": [],
   "source": []
  },
  {
   "cell_type": "markdown",
   "id": "959e7264",
   "metadata": {},
   "source": [
    "Interestingly, such a histogram describes only dice rolls or is it characteristic of other phenomena?"
   ]
  },
  {
   "cell_type": "markdown",
   "id": "c761b3e7",
   "metadata": {},
   "source": [
    "The most common (typical, normal) values fall in the middle. And rare - at the edges. The graph is symmetrical and resembles a bell. Such a distribution is called normal."
   ]
  },
  {
   "cell_type": "markdown",
   "id": "c6e26c73",
   "metadata": {},
   "source": [
    "![jupyter](./pict/normal.png)"
   ]
  },
  {
   "cell_type": "markdown",
   "id": "e8852699",
   "metadata": {},
   "source": [
    "Normal or gravitating to them distributions are common in life. This is how the height of people, the size of apples, the results of temperature measurements are distributed. Understanding the nature of distributions is necessary to detect important anomalies."
   ]
  },
  {
   "cell_type": "markdown",
   "id": "8bb3fa91",
   "metadata": {},
   "source": [
    "In general, any deviation from the expected distribution is a signal that the data is out of order.\n",
    "Another distribution that is often encountered is the Poisson distribution. It describes the number of events per unit of time."
   ]
  },
  {
   "cell_type": "markdown",
   "id": "f925e42a",
   "metadata": {},
   "source": [
    "Describing the distribution, analysts calculate the arithmetic `mean` or `median`. However, in addition to the `median` and `mean`, it is important to know the characteristic spread - which values are far from the mean and how many there are."
   ]
  },
  {
   "cell_type": "markdown",
   "id": "a4a21bd7",
   "metadata": {},
   "source": [
    "A much more stable estimate is the interquartile range.\n",
    "Quartiles break an ordered data set into four parts. The first quartile `Q1` is the number separating the first quarter of the sample: 25% of the elements are less than it, and 75% are more than it. The median is the second quartile of `Q2`, half of the items are greater than and half are less than. The third quartile of `Q3` is a cutoff of three quarters: 75% of the elements are less than and 25% of the elements are more than it. The interquartile range is the distance between `Q1` and `Q3`."
   ]
  },
  {
   "cell_type": "markdown",
   "id": "e1668b5a",
   "metadata": {},
   "source": [
    "![jupyter](./pict/quart.png)"
   ]
  },
  {
   "cell_type": "markdown",
   "id": "264268b0",
   "metadata": {},
   "source": [
    "In Python, a range chart is built using the `boxplot()` method (box-and-whisker plot)"
   ]
  },
  {
   "cell_type": "code",
   "execution_count": null,
   "id": "f16f82d1",
   "metadata": {},
   "outputs": [],
   "source": [
    "ar = df_experiments.boxplot()"
   ]
  },
  {
   "cell_type": "markdown",
   "id": "3ff1bd1d",
   "metadata": {},
   "source": [
    "add a couple of values to the dataframe that will be explicit outliers"
   ]
  },
  {
   "cell_type": "code",
   "execution_count": null,
   "id": "b7fa02a4",
   "metadata": {},
   "outputs": [],
   "source": [
    "df_new_cube = pd.DataFrame({'cube': [100,121]})\n",
    "\n",
    "df_experiments = pd.concat([df_experiments,df_new_cube])"
   ]
  },
  {
   "cell_type": "code",
   "execution_count": null,
   "id": "19b6af2b",
   "metadata": {},
   "outputs": [],
   "source": [
    "ar = df_experiments.boxplot()"
   ]
  },
  {
   "cell_type": "markdown",
   "id": "d9cfb796",
   "metadata": {},
   "source": [
    "For advanced work with graphs (including histograms), import the `matplotlib` library"
   ]
  },
  {
   "cell_type": "markdown",
   "id": "c4a58897",
   "metadata": {},
   "source": [
    "Let's use the `ylim(y_min, y_max)` method to change the scale along the vertical axis. If you want to change the scale along the horizontal axis, call the `xlim(x_min, x_max)` method. Both methods have two parameters: the minimum and maximum desired values for the plot. The methods are called from the matplotlib library."
   ]
  },
  {
   "cell_type": "code",
   "execution_count": null,
   "id": "ee1f2ef7",
   "metadata": {},
   "outputs": [],
   "source": [
    "import matplotlib.pyplot as plt \n",
    "\n",
    "plt.ylim(0, 14)\n",
    "\n",
    "ar = df_experiments.boxplot()"
   ]
  },
  {
   "cell_type": "markdown",
   "id": "322a183d",
   "metadata": {},
   "source": [
    "# Data slices"
   ]
  },
  {
   "cell_type": "markdown",
   "id": "09c69cf2",
   "metadata": {},
   "source": [
    "We have already considered methods for finding slices of dataframe data before, we will consider one more additional"
   ]
  },
  {
   "cell_type": "markdown",
   "id": "34fa6f33",
   "metadata": {},
   "source": [
    "back to the task of selling video games"
   ]
  },
  {
   "cell_type": "code",
   "execution_count": null,
   "id": "f0a0927d",
   "metadata": {},
   "outputs": [],
   "source": [
    "df.head()"
   ]
  },
  {
   "cell_type": "markdown",
   "id": "cfb3d58d",
   "metadata": {},
   "source": [
    "generate multiple tasks\n",
    "- where Genre is Sports\n",
    "- where EU_Sales more NA_Sales \n",
    "- where Year in 2005,2010, 2015\n",
    "- where Year not in 2019\n",
    "- where Year not in 2005 and 2007 and Genre is Simulation or Racing "
   ]
  },
  {
   "cell_type": "code",
   "execution_count": null,
   "id": "f98c49ff",
   "metadata": {},
   "outputs": [],
   "source": [
    "df.loc[df['Genre']=='Sports'].head()"
   ]
  },
  {
   "cell_type": "code",
   "execution_count": null,
   "id": "508fb8f7",
   "metadata": {},
   "outputs": [],
   "source": [
    "df.loc[df['NA_Sales']<df['EU_Sales']].head()"
   ]
  },
  {
   "cell_type": "markdown",
   "id": "5bd069c5",
   "metadata": {},
   "source": [
    " "
   ]
  },
  {
   "cell_type": "markdown",
   "id": "bc7c1d4a",
   "metadata": {},
   "source": [
    "To check for specific values in a column, call the `isin()` method"
   ]
  },
  {
   "cell_type": "code",
   "execution_count": null,
   "id": "470ea8c7",
   "metadata": {},
   "outputs": [],
   "source": [
    "df.loc[df['Year'].isin([2005,2010,2015])].head()"
   ]
  },
  {
   "cell_type": "markdown",
   "id": "f835c898",
   "metadata": {},
   "source": [
    "symbol `~` execution result is True if condition is False"
   ]
  },
  {
   "cell_type": "code",
   "execution_count": null,
   "id": "528040d8",
   "metadata": {},
   "outputs": [],
   "source": [
    "df.loc[~df['Year'].isin([2019])].head()"
   ]
  },
  {
   "cell_type": "markdown",
   "id": "eb91f610",
   "metadata": {},
   "source": [
    "**AND** the result of executing the logical operation is True only if both conditions are True `&`\n",
    "\n",
    "**OR** execution result is True if at least one of the conditions is True `|`"
   ]
  },
  {
   "cell_type": "code",
   "execution_count": null,
   "id": "0a5b2d3e-2f30-4f31-9c6a-1b0c11de9060",
   "metadata": {},
   "outputs": [],
   "source": [
    "df.loc[(df['Genre']=='Racing') & (~df['Year'].isin([2005,2007]))]"
   ]
  },
  {
   "cell_type": "code",
   "execution_count": null,
   "id": "2f8a1b3c",
   "metadata": {},
   "outputs": [],
   "source": [
    "df.loc[((df['Genre']=='Racing') | (df['Genre']=='Simulation')) & (~df['Year'].isin([2005,2007]))].head()"
   ]
  },
  {
   "cell_type": "markdown",
   "id": "6b6dca52",
   "metadata": {},
   "source": [
    "# Slicing data using the query() method"
   ]
  },
  {
   "cell_type": "markdown",
   "id": "c69461c4",
   "metadata": {},
   "source": [
    "The prerequisite for the slice is written in a string that is passed as an argument to the `query()` method. And the method is applied to the dataframe. As a result, we get the desired cut."
   ]
  },
  {
   "cell_type": "markdown",
   "id": "c7a0b8b5",
   "metadata": {},
   "source": [
    "Conditions specified in the `query()` parameter (they are very similar to SQL):\n",
    "- They support different comparison operations: `!=`, `>`, `>=`, `<`, `<=`.\n",
    "- They check whether specific values are included in the list using the construction: `Year in [2019, 2018]`. If you need to find out if there are certain values in the list, write like this: `Year not in [2019, 2018]`.\n",
    "- They work with logical operators in the usual way, where “or” is `or`, “and” is `and`, “not” is `not`. The terms in parentheses are optional. Without parentheses, operations are performed in the following order: first not, then and, and finally or."
   ]
  },
  {
   "cell_type": "markdown",
   "id": "d9a290b6",
   "metadata": {},
   "source": [
    "write the last slice condition using the query() method"
   ]
  },
  {
   "cell_type": "code",
   "execution_count": null,
   "id": "8bd48c19",
   "metadata": {},
   "outputs": [],
   "source": [
    "# df.loc[((df['Genre']=='Racing') | (df['Genre']=='Simulation')) & (~df['Year'].isin([2005,2007]))].head()\n",
    "\n",
    "df.query('''(Genre == Racing\" \n",
    "         or Genre == \"Simulation\") \n",
    "         and Year not in [2005, 2007]''').head()"
   ]
  },
  {
   "cell_type": "markdown",
   "id": "2684a8a9",
   "metadata": {},
   "source": [
    "# Query() capabilities"
   ]
  },
  {
   "cell_type": "markdown",
   "id": "1f9c04ca",
   "metadata": {},
   "source": [
    "In addition to combining conditions, you can perform mathematical operations in `query()`:"
   ]
  },
  {
   "cell_type": "code",
   "execution_count": null,
   "id": "cb3289f0",
   "metadata": {},
   "outputs": [],
   "source": [
    "df.query('NA_Sales < 2 * EU_Sales ').head()"
   ]
  },
  {
   "cell_type": "markdown",
   "id": "a9a340eb",
   "metadata": {},
   "source": [
    "And even call methods:"
   ]
  },
  {
   "cell_type": "code",
   "execution_count": null,
   "id": "ce7c4c05",
   "metadata": {},
   "outputs": [],
   "source": [
    "df.query('NA_Sales < EU_Sales.mean()').head()"
   ]
  },
  {
   "cell_type": "markdown",
   "id": "e6e14ea6",
   "metadata": {},
   "source": [
    "You can also include external variables (not from the dataframe) in `query()`. When you mention such a variable, mark it with an `@` sign:"
   ]
  },
  {
   "cell_type": "code",
   "execution_count": null,
   "id": "4fa474f8",
   "metadata": {},
   "outputs": [],
   "source": [
    "sales = [123,213,123]\n",
    "\n",
    "df.query('NA_Sales > @sales and EU_Sales not in @sales').head()"
   ]
  },
  {
   "cell_type": "markdown",
   "id": "3ec3279e",
   "metadata": {},
   "source": [
    "other ways to pass variables to queries"
   ]
  },
  {
   "cell_type": "code",
   "execution_count": null,
   "id": "c40f074f",
   "metadata": {},
   "outputs": [],
   "source": [
    "df.query(f'NA_Sales > {sales} and EU_Sales > {sales}').head()"
   ]
  },
  {
   "cell_type": "code",
   "execution_count": null,
   "id": "1e00a48c-56c1-4f8d-9ce4-b05b1c71180f",
   "metadata": {},
   "outputs": [],
   "source": [
    "самые продаваемые игры по регионам \n",
    "\n",
    "самые высокие рейтинги по платформам \n",
    "\n",
    "самые прибыльные года \n",
    "\n",
    "\n",
    "\n"
   ]
  },
  {
   "cell_type": "markdown",
   "id": "9b656d7f",
   "metadata": {},
   "source": [
    "# Working with date and time"
   ]
  },
  {
   "cell_type": "markdown",
   "id": "35379c58",
   "metadata": {},
   "source": [
    "upload data according to the information at the ticket point"
   ]
  },
  {
   "cell_type": "code",
   "execution_count": null,
   "id": "d22d5a6e",
   "metadata": {},
   "outputs": [],
   "source": [
    "df = pd.read_excel('./datasets/data_lesson_date.xlsx')"
   ]
  },
  {
   "cell_type": "code",
   "execution_count": null,
   "id": "76c56b22",
   "metadata": {},
   "outputs": [],
   "source": [
    "df"
   ]
  },
  {
   "cell_type": "markdown",
   "id": "c2223cfa",
   "metadata": {},
   "source": [
    "In the date_time column, the entry date and time. From the description of the data, it is known that the entry time was indicated in the UTC + 0 time zone, in ISO format. This means that at first the year, month, day go together; then the alphabetic date and time separator T; then hours, minutes and seconds - again merged."
   ]
  },
  {
   "cell_type": "markdown",
   "id": "a85807dc",
   "metadata": {},
   "source": [
    "Use the `to_datetime()` method, which converts strings to dates. The format argument of the `to_datetime()` method specifies special symbols, the order of which corresponds to the order of the numbers in the date string:\n",
    "- `%d` - day of the month (from 01 to 31);\n",
    "- `%m` — month number (from 01 to 12);\n",
    "- `%Y` - four-digit year number (for example, 2019);\n",
    "- `%y` is a two-digit year number (for example, 19);\n",
    "- `Z` or `T` is the standard date and time separator;\n",
    "- `%H` - hour number in 24-hour format;\n",
    "- `%I` - hour number in 12-hour format;\n",
    "- `%M` - minutes (from 00 to 59);\n",
    "- `%S` - seconds (from 00 to 59)."
   ]
  },
  {
   "cell_type": "markdown",
   "id": "edfa6283",
   "metadata": {},
   "source": [
    "When displaying datetime format values on the screen, Python automatically separates them with `-` and `:` characters to make it easier for a person to read the data."
   ]
  },
  {
   "cell_type": "code",
   "execution_count": null,
   "id": "b42f18ba",
   "metadata": {},
   "outputs": [],
   "source": [
    "df['date_time_normal'] = pd.to_datetime(df['date_time'], format='%Y-%m-%d')"
   ]
  },
  {
   "cell_type": "code",
   "execution_count": null,
   "id": "514fd65a",
   "metadata": {},
   "outputs": [],
   "source": [
    "df"
   ]
  },
  {
   "cell_type": "code",
   "execution_count": null,
   "id": "888ead7f",
   "metadata": {},
   "outputs": [],
   "source": [
    "df.info()"
   ]
  },
  {
   "cell_type": "markdown",
   "id": "ecf62287",
   "metadata": {},
   "source": [
    "The fact that operations are to be performed with dates is reported to pandas separately, through the `dt` attribute (date time). The `dt` attribute specifies that the data type to which the methods will be applied is datetime. This means that pandas will not accept them as strings or numbers.\n",
    "To round the time, use the `dt.round()` method. As a parameter, it is passed a string with a rounding step in hours, days, minutes, or seconds:\n",
    "- `D` - day\n",
    "- `H` - hour\n",
    "- `min` or `T` — minute\n",
    "- `S` - second"
   ]
  },
  {
   "cell_type": "markdown",
   "id": "2be62897",
   "metadata": {},
   "source": [
    "`dt.round()` rounds to the nearest value - not always up. A quarter past six, rounded by `dt.round()` , becomes five o'clock:"
   ]
  },
  {
   "cell_type": "code",
   "execution_count": null,
   "id": "de61bdab",
   "metadata": {},
   "outputs": [],
   "source": [
    "df['time_rounded'] = df['date_time_normal'].dt.round('1H')\n",
    "df"
   ]
  },
  {
   "cell_type": "markdown",
   "id": "d2a3578b",
   "metadata": {},
   "source": [
    "To be sure that the time will be rounded up to a larger value, the `dt.ceil()` method is called. To a smaller value, “down”, rounded by the `dt.floor()` method."
   ]
  },
  {
   "cell_type": "code",
   "execution_count": null,
   "id": "aff8b5b3",
   "metadata": {},
   "outputs": [],
   "source": [
    "df['time_rounded_ceil'] = df['date_time_normal'].dt.ceil('1H')\n",
    "df['time_rounded_floor'] = df['date_time_normal'].dt.floor('1D')\n",
    "df"
   ]
  },
  {
   "cell_type": "markdown",
   "id": "75b3f6a2",
   "metadata": {},
   "source": [
    "The number of the day in the week is found using the `dt.weekday` method. Monday is day number 0, and Sunday is the sixth day."
   ]
  },
  {
   "cell_type": "code",
   "execution_count": null,
   "id": "59df9a02",
   "metadata": {},
   "outputs": [],
   "source": [
    "df['weekday'] = df['date_time_normal'].dt.weekday\n",
    "df"
   ]
  },
  {
   "cell_type": "markdown",
   "id": "572883ad",
   "metadata": {},
   "source": [
    "Sometimes you need to change the time to another time zone. `pd.Timedelta()` is responsible for time shifts. The number of hours is passed in the parameter: (hours=).\n",
    "Let's minus 7 hours to Riga time and find out what time it was in New York when the dataframe events took place in Riga:"
   ]
  },
  {
   "cell_type": "code",
   "execution_count": null,
   "id": "8e437412",
   "metadata": {},
   "outputs": [],
   "source": [
    "df['date_time_new_york'] = df['date_time_normal'] + pd.Timedelta(hours=-7)\n",
    "df"
   ]
  },
  {
   "cell_type": "markdown",
   "id": "5f609b2e",
   "metadata": {},
   "source": [
    "# Graphs"
   ]
  },
  {
   "cell_type": "markdown",
   "id": "5354469b",
   "metadata": {},
   "source": [
    "The `plot()` method is responsible for plotting graphs in pandas. Here is a simple example:"
   ]
  },
  {
   "cell_type": "code",
   "execution_count": null,
   "id": "574513af",
   "metadata": {},
   "outputs": [],
   "source": [
    "df = pd.DataFrame({'a': [1, 2, 3, 4, 5, 6, 7, 8, 9, 10], 'b': [4, 9, 16, 25, 18, 22, 27, 30, 31, 33]})\n",
    "df.plot() "
   ]
  },
  {
   "cell_type": "markdown",
   "id": "242555e8",
   "metadata": {},
   "source": [
    "The `plot()` method plotted graphs based on column values from the dataframe. Indexes are located on the abscissa (x) axis, and column values are located on the ordinate (y) axis.\n",
    "The names for the graphs are indicated by a string or a variable in the title parameter:"
   ]
  },
  {
   "cell_type": "code",
   "execution_count": null,
   "id": "f5b315fc",
   "metadata": {},
   "outputs": [],
   "source": [
    "gr = df.plot(title='A and B')"
   ]
  },
  {
   "cell_type": "markdown",
   "id": "00b324ce",
   "metadata": {},
   "source": [
    "Let's add a precision graphic, pass the `style` parameter, with a value of `o-`, to mark the values of the table with dots."
   ]
  },
  {
   "cell_type": "code",
   "execution_count": null,
   "id": "b7044f8e",
   "metadata": {},
   "outputs": [],
   "source": [
    "#style='х'\n",
    "#style='o'\n",
    "\n",
    "gr = df.plot(style='o-')"
   ]
  },
  {
   "cell_type": "markdown",
   "id": "50dd384b",
   "metadata": {},
   "source": [
    "Recall that the indices are plotted along the horizontal axis. But what if this way of representing is not suitable for analysis? You can change the indices themselves or pass the parameters of the axes to the `plot()` method. So, the abscissa axis (x) will be assigned the values of column b, and the ordinate axis (y) - the values of column a:"
   ]
  },
  {
   "cell_type": "code",
   "execution_count": null,
   "id": "597fbfc7",
   "metadata": {},
   "outputs": [],
   "source": [
    "gr = df.plot(x='b', y='a', style='o-') "
   ]
  },
  {
   "cell_type": "markdown",
   "id": "080c03dd",
   "metadata": {},
   "source": [
    "![jupyter](./pict/graf_c.png)"
   ]
  },
  {
   "cell_type": "markdown",
   "id": "f7c3badc",
   "metadata": {},
   "source": [
    "You can also pass borders. Adjust the borders with the `xlim` and `ylim` parameters\n",
    "\n",
    "Let's add grid lines: with them it will be easier to understand which values are displayed. Specify the `grid` parameter  equal to `True` (this means that you need to display the grid):"
   ]
  },
  {
   "cell_type": "code",
   "execution_count": null,
   "id": "621f483c",
   "metadata": {},
   "outputs": [],
   "source": [
    "gr = df.plot(x='b', y='a', style='x-', xlim=(0, 40), grid=True) "
   ]
  },
  {
   "cell_type": "markdown",
   "id": "ded46ecb",
   "metadata": {},
   "source": [
    "The size of the chart is controlled through the figsize parameter. The `width` and `height` of the construction area in inches are passed to the parameter in brackets: `figsize = (x_size, y_size)`. Let's compare graphs with different sizes:"
   ]
  },
  {
   "cell_type": "code",
   "execution_count": null,
   "id": "631e0c31",
   "metadata": {},
   "outputs": [],
   "source": [
    "gr = df.plot(x='b', y='a', style='o-', xlim=(0, 40), grid=True, figsize=(4,3)) \n",
    "\n",
    "#figsize\n",
    "# 5:4\n",
    "# 4:3\n",
    "# 3:2\n",
    "# 16:10\n",
    "# 5:3 figsize=(10, 6)\n",
    "# 16:9\n",
    "# 64:27\n",
    "# 43:18\n",
    "# 32:9 "
   ]
  },
  {
   "cell_type": "markdown",
   "id": "232b47ab",
   "metadata": {},
   "source": [
    "# Grouping with pivot_table()"
   ]
  },
  {
   "cell_type": "markdown",
   "id": "1cf52fbe",
   "metadata": {},
   "source": [
    "back to our video games and a little about **OKCAM'S RAZOR**"
   ]
  },
  {
   "cell_type": "code",
   "execution_count": null,
   "id": "38c9251a",
   "metadata": {},
   "outputs": [],
   "source": [
    "df = pd.read_csv('./datasets/vgsales.csv')"
   ]
  },
  {
   "cell_type": "markdown",
   "id": "22a15381",
   "metadata": {},
   "source": [
    "Entia non sunt multiplicanda praeter necessitatem - \"Entities should not be multiplied unnecessarily.\". The essence of the principle: perfection should be simple."
   ]
  },
  {
   "cell_type": "markdown",
   "id": "739d0ce0",
   "metadata": {},
   "source": [
    "![jupyter](./pict/python.png)"
   ]
  },
  {
   "cell_type": "markdown",
   "id": "899e57d0",
   "metadata": {},
   "source": [
    "We will not multiply entities unnecessarily, and in the future it is better to get rid of intermediate variables that we will not reuse. Let's apply the `plot()` method to the result of `query()` without any slice. You get a structure like this:"
   ]
  },
  {
   "cell_type": "markdown",
   "id": "f1a727c5",
   "metadata": {},
   "source": [
    "`data.query().plot()`"
   ]
  },
  {
   "cell_type": "markdown",
   "id": "e737aa59",
   "metadata": {},
   "source": [
    "Let's pass the required parameters. To make the code easy to read, let's write it in several lines. So the code looks clearer:"
   ]
  },
  {
   "cell_type": "markdown",
   "id": "56cde58a",
   "metadata": {},
   "source": [
    "for example, let's take sales in NA in the cut of the year"
   ]
  },
  {
   "cell_type": "code",
   "execution_count": null,
   "id": "f4b0ceae",
   "metadata": {},
   "outputs": [],
   "source": [
    "(df\n",
    "    .query('Genre == \"Sports\"')\n",
    "    .plot(x='Year', y='NA_Sales', \n",
    "          style='o-', grid=True, figsize=(12, 6))\n",
    ")"
   ]
  },
  {
   "cell_type": "markdown",
   "id": "d2e62682",
   "metadata": {},
   "source": [
    "the graph looks terrible without explicit aggregation. Let's try to use the methods known to us"
   ]
  },
  {
   "cell_type": "markdown",
   "id": "c7e886d0",
   "metadata": {},
   "source": [
    "Let's turn to `pivot_table()`. Let's add a pivot table in the chain between `query()` and `plot()`:"
   ]
  },
  {
   "cell_type": "code",
   "execution_count": null,
   "id": "2b4f1122",
   "metadata": {},
   "outputs": [],
   "source": [
    "(df\n",
    "    .query('Genre == \"Sports\"')\n",
    "    .pivot_table(index='Year', values='NA_Sales', aggfunc=np.sum)\n",
    "    .plot(grid=True, style='o-', figsize=(12, 5))\n",
    ") "
   ]
  },
  {
   "cell_type": "code",
   "execution_count": null,
   "id": "955bd83a",
   "metadata": {},
   "outputs": [],
   "source": [
    "(df\n",
    "    .query('Genre == \"Sports\"')\n",
    "    .pivot_table(index='Year', values='NA_Sales', aggfunc={np.sum, np.max})\n",
    "    .plot(grid=True, style='o-', figsize=(12, 5))\n",
    ") "
   ]
  },
  {
   "cell_type": "markdown",
   "id": "8b567600",
   "metadata": {},
   "source": [
    "# More charts"
   ]
  },
  {
   "cell_type": "markdown",
   "id": "e1df1b25",
   "metadata": {},
   "source": [
    "`seaborn` is another powerful charting library, this library has more flexible settings than others"
   ]
  },
  {
   "cell_type": "code",
   "execution_count": null,
   "id": "f8104ca3",
   "metadata": {},
   "outputs": [],
   "source": [
    "import seaborn as sns"
   ]
  },
  {
   "cell_type": "code",
   "execution_count": null,
   "id": "8686fda8",
   "metadata": {},
   "outputs": [],
   "source": [
    "sns.set_style(\"darkgrid\", {\"grid.color\": \".6\", \"grid.linestyle\": \":\"})\n",
    "sns.set(rc={'figure.figsize':(16,9)})\n",
    "\n",
    "ar = sns.lineplot(data=df.pivot_table(index=['Year','Genre'], values='NA_Sales', aggfunc=np.sum), \n",
    "                  x=\"Year\", y=\"NA_Sales\", hue=\"Genre\")"
   ]
  },
  {
   "cell_type": "code",
   "execution_count": null,
   "id": "655a9648",
   "metadata": {},
   "outputs": [],
   "source": [
    "ar = sns.barplot(data=df.query('Year > 2012'), x='Genre', y='NA_Sales', hue='Year')"
   ]
  },
  {
   "cell_type": "markdown",
   "id": "e7623dd7",
   "metadata": {},
   "source": [
    "but if you dreamed of interactive charts, then it is better to pay attention to these libraries"
   ]
  },
  {
   "cell_type": "code",
   "execution_count": null,
   "id": "08a62cce",
   "metadata": {},
   "outputs": [],
   "source": [
    "import plotly as py\n",
    "import plotly.graph_objs as go\n",
    "from plotly.offline import iplot, init_notebook_mode\n",
    "# Using plotly + cufflinks in offline mode\n",
    "import cufflinks\n",
    "cufflinks.go_offline(connected=True)\n",
    "init_notebook_mode(connected=True)"
   ]
  },
  {
   "cell_type": "code",
   "execution_count": null,
   "id": "93d8dd5e",
   "metadata": {},
   "outputs": [],
   "source": [
    "df['Genre'].iplot(kind='hist', xTitle='Genre released',\n",
    "                  yTitle='count', title='VG Stat')"
   ]
  },
  {
   "cell_type": "markdown",
   "id": "7a324d2c",
   "metadata": {},
   "source": [
    "If we want to plot overlay histograms, it's just as easy:"
   ]
  },
  {
   "cell_type": "code",
   "execution_count": null,
   "id": "9966c2d5",
   "metadata": {},
   "outputs": [],
   "source": [
    "df.pivot_table(columns='Genre', index='Year', values='Global_Sales').iplot(\n",
    "        kind='box',\n",
    "        yTitle='Sales',\n",
    "        title='Global Sales by Genre')"
   ]
  }
 ],
 "metadata": {
  "kernelspec": {
   "display_name": "Python 3 (ipykernel)",
   "language": "python",
   "name": "python3"
  },
  "language_info": {
   "codemirror_mode": {
    "name": "ipython",
    "version": 3
   },
   "file_extension": ".py",
   "mimetype": "text/x-python",
   "name": "python",
   "nbconvert_exporter": "python",
   "pygments_lexer": "ipython3",
   "version": "3.10.9"
  }
 },
 "nbformat": 4,
 "nbformat_minor": 5
}
