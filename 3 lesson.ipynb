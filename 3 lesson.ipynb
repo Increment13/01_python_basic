{
 "cells": [
  {
   "cell_type": "markdown",
   "id": "a70f590e",
   "metadata": {},
   "source": [
    "# Methods and Functions"
   ]
  },
  {
   "cell_type": "markdown",
   "id": "19d21732",
   "metadata": {},
   "source": [
    "## Sort"
   ]
  },
  {
   "cell_type": "markdown",
   "id": "4f4f7291",
   "metadata": {},
   "source": [
    "create a list of temperatures in Riga by months (maximum)"
   ]
  },
  {
   "cell_type": "code",
   "execution_count": null,
   "id": "83b5cea5",
   "metadata": {},
   "outputs": [],
   "source": [
    "month_temperatures = [\n",
    "    -1,\n",
    "    0,\n",
    "    5,\n",
    "    12,\n",
    "    18,\n",
    "    21,\n",
    "    24,\n",
    "    23,\n",
    "    18,\n",
    "    11,\n",
    "    5,\n",
    "    1\n",
    "]"
   ]
  },
  {
   "cell_type": "markdown",
   "id": "77c52e8c",
   "metadata": {},
   "source": [
    "To better understand the weather situation, let's sort in descending order. To do this, you need to sort the elements of the selected table column.<br>There is a `sort()` function in Python for this:"
   ]
  },
  {
   "cell_type": "code",
   "execution_count": null,
   "id": "6ebeba3e-90d5-4523-81b3-cea6ec808cf8",
   "metadata": {},
   "outputs": [],
   "source": [
    "print(month_temperatures)"
   ]
  },
  {
   "cell_type": "code",
   "execution_count": null,
   "id": "dfc17335",
   "metadata": {},
   "outputs": [],
   "source": [
    "month_temperatures.sort()\n",
    "\n",
    "print(month_temperatures) "
   ]
  },
  {
   "cell_type": "markdown",
   "id": "25e9b7fc",
   "metadata": {},
   "source": [
    "Note the special way the `sort()` function is called - it is written with a dot after the list. This is called <b>dot notation</b>."
   ]
  },
  {
   "cell_type": "markdown",
   "id": "a0b37c13",
   "metadata": {},
   "source": [
    "The `sort()` function is attached to the `list` data type and does its job on a variable of that type. Such functions are called <b>methods</b>."
   ]
  },
  {
   "cell_type": "markdown",
   "id": "07284bbe",
   "metadata": {},
   "source": [
    "We have already dealt with one method - the `format()` function, assigned to the str data type. Note that all methods are called with dot notation."
   ]
  },
  {
   "cell_type": "markdown",
   "id": "9bb3c6b9",
   "metadata": {},
   "source": [
    "## Boolean values True and False. sort() method arguments"
   ]
  },
  {
   "cell_type": "markdown",
   "id": "0042f6d8",
   "metadata": {},
   "source": [
    "By default, the `sort()` method sorts the list in ascending order. If we want to sort in descending order, we need to specify this with the named argument <b>reverse</b>:"
   ]
  },
  {
   "cell_type": "code",
   "execution_count": null,
   "id": "87033df4",
   "metadata": {},
   "outputs": [],
   "source": [
    "month_temperatures.sort(reverse=True)\n",
    "\n",
    "print(month_temperatures) "
   ]
  },
  {
   "cell_type": "markdown",
   "id": "87592ed4",
   "metadata": {},
   "source": [
    "The expression `reverse=True` should be understood as follows: yes, sorting really should be in reverse order. If we don't write this, Python will default to reverse=False, i.e. \"No, the reverse order is not necessary.\""
   ]
  },
  {
   "cell_type": "markdown",
   "id": "eadc3eda",
   "metadata": {},
   "source": [
    "`True` and `False` are capitalized in Python to make them easier to distinguish from variable and argument names."
   ]
  },
  {
   "cell_type": "markdown",
   "id": "b789054a",
   "metadata": {},
   "source": [
    "## Sort by column"
   ]
  },
  {
   "cell_type": "markdown",
   "id": "785cdc48",
   "metadata": {},
   "source": [
    "Recall that Python stores a table as a list of lists. If you need to sort it by a specific column, it is specified by the named argument <b>key</b>."
   ]
  },
  {
   "cell_type": "markdown",
   "id": "54fd566a",
   "metadata": {},
   "source": [
    "Let's rearrange the rows of the table so that the elements of the \"Balance\" column are arranged in ascending order:"
   ]
  },
  {
   "cell_type": "code",
   "execution_count": null,
   "id": "32c435cb",
   "metadata": {},
   "outputs": [],
   "source": [
    "data = [\n",
    "    ['BNK100', 2.26],\n",
    "    ['BNK101', 19.1],\n",
    "    ['BNK102', 25.6],\n",
    "    ['BNK103', 233.0],\n",
    "    ['BNK104', 15.2],\n",
    "    ['BNK105', 22.7],\n",
    "    ['BNK106', 64.6],\n",
    "    ['BNK107', 87.5],\n",
    "    ['BNK108', 6.81],\n",
    "    ['BNK109', 6.0],\n",
    "    ['BNK110', 4.72],\n",
    "    ['BNK111', 24.7],\n",
    "    ['BNK112', 21.7],\n",
    "    ['BNK113', 10.0],\n",
    "    ['BNK114', 118.0],\n",
    "    ['BNK115', 3.31],\n",
    "    ['BNK116', 23.1],\n",
    "    ['BNK117', 1.74],\n",
    "    ['BNK118', 4.5],\n",
    "    ['BNK119', 0.0333],\n",
    "]"
   ]
  },
  {
   "cell_type": "code",
   "execution_count": null,
   "id": "6ccbdf26",
   "metadata": {},
   "outputs": [],
   "source": [
    "data.sort(key=lambda row: row[1], reverse=True)\n",
    "\n",
    "print('CONTRACT_ID    | BALANCE, kk.eur ')\n",
    "print('-------------------------------------')\n",
    "for row in data:\n",
    "    print('{: <14} | {: >16.2f}'.format(row[0], row[1])) "
   ]
  },
  {
   "cell_type": "markdown",
   "id": "0954b786",
   "metadata": {},
   "source": [
    "Python doesn't treat our list of lists as a table. It only sees a list of strings. There are no columns in this table for Python. To sort a table by a column with index 1, we need to clarify: consider that the sequence to sort consists of the elements of each row with index 1, and sort by this sequence. This explanation is done by a lambda function, a short unnamed function:"
   ]
  },
  {
   "cell_type": "markdown",
   "id": "726b8371",
   "metadata": {},
   "source": [
    "`lambda row: row[1] `"
   ]
  },
  {
   "cell_type": "markdown",
   "id": "471ef92b",
   "metadata": {},
   "source": [
    "This function takes the next `row` as input and returns a column of the elements of each row with index `1`. In our case, this is written `row[1]`. We chose the name `row` for the next rows ourselves for clarity, you can think of something else."
   ]
  },
  {
   "cell_type": "markdown",
   "id": "6ff57e53",
   "metadata": {},
   "source": [
    "## Slices"
   ]
  },
  {
   "cell_type": "markdown",
   "id": "b7d2753b",
   "metadata": {},
   "source": [
    "In a task, it may be necessary to highlight a portion of a list—for example, the first five items. Such list fragments are called slices.<p>\n",
    "They are similar to indexes, but are used to refer not to individual elements, but to their ranges. For a slice, specify the beginning and end of the range:"
   ]
  },
  {
   "cell_type": "code",
   "execution_count": null,
   "id": "5de89774",
   "metadata": {},
   "outputs": [],
   "source": [
    "digits_names = [\n",
    "     'zero',\n",
    "     'one',\n",
    "     'two',\n",
    "     'three',\n",
    "     'four',\n",
    "     'five',\n",
    "     'six',\n",
    "     'seven',\n",
    "     'eight',\n",
    "     'nine'\n",
    "]\n",
    "\n",
    "print(digits_names[4:7]) "
   ]
  },
  {
   "cell_type": "markdown",
   "id": "330cdf9a",
   "metadata": {},
   "source": [
    "![jupyter](./pict/slice.png)"
   ]
  },
  {
   "cell_type": "markdown",
   "id": "4e6ca92e",
   "metadata": {},
   "source": [
    "The first index (in this case 4) will be included in the slice, but the last one (in this case 7) will not. To understand why the Python developers did this, let's imagine a chocolate bar with numbered slices. A cut of 4:7 means that the chocolate bar breaks before the fourth slice and before the seventh."
   ]
  },
  {
   "cell_type": "markdown",
   "id": "6eb90a9e",
   "metadata": {},
   "source": [
    "When one of the boundaries of the range coincides with the boundary of the list itself, this boundary can be omitted altogether."
   ]
  },
  {
   "cell_type": "code",
   "execution_count": null,
   "id": "bb648819",
   "metadata": {},
   "outputs": [],
   "source": [
    "print(digits_names[:5]) "
   ]
  },
  {
   "cell_type": "markdown",
   "id": "f4f01cd0",
   "metadata": {},
   "source": [
    "You can do the same with the end of the list."
   ]
  },
  {
   "cell_type": "code",
   "execution_count": null,
   "id": "7c62999f",
   "metadata": {},
   "outputs": [],
   "source": [
    "print(digits_names[7:]) "
   ]
  },
  {
   "cell_type": "code",
   "execution_count": null,
   "id": "ea9b3773-1027-47ee-989f-965fd9d5379f",
   "metadata": {},
   "outputs": [],
   "source": [
    "digits_names[::-1]"
   ]
  },
  {
   "cell_type": "markdown",
   "id": "1b5559b8",
   "metadata": {},
   "source": [
    "## Changing lists in a loop"
   ]
  },
  {
   "cell_type": "code",
   "execution_count": null,
   "id": "44566d3d",
   "metadata": {},
   "outputs": [],
   "source": [
    "balance = [\n",
    "    2.26,\n",
    "    19.1,\n",
    "    25.6,\n",
    "    233.0,\n",
    "    15.2,\n",
    "    22.7,\n",
    "    64.6,\n",
    "    87.5,\n",
    "    6.81,\n",
    "    6.0,\n",
    "    4.72,\n",
    "    24.7,\n",
    "    21.7,\n",
    "    10.0,\n",
    "    118.0,\n",
    "    3.31,\n",
    "    23.1,\n",
    "    1.74,\n",
    "    4.5,\n",
    "    0.0333,\n",
    "]"
   ]
  },
  {
   "cell_type": "markdown",
   "id": "93c659d3",
   "metadata": {},
   "source": [
    "The obvious way - to change the loop variable - will not work:"
   ]
  },
  {
   "cell_type": "code",
   "execution_count": null,
   "id": "aa882913",
   "metadata": {},
   "outputs": [],
   "source": [
    "print('List before change:')\n",
    "print(balance)\n",
    "print()\n",
    "\n",
    "for m in balance:\n",
    "     m = m * 10**6\n",
    "\n",
    "print('List after trying to change:')\n",
    "print(balance)"
   ]
  },
  {
   "cell_type": "markdown",
   "id": "030083b7",
   "metadata": {},
   "source": [
    "The problem is in the for loop device itself. It copies the elements of the list. Therefore, the line `element = float(element)` changes the element variable, but does not change the list element."
   ]
  },
  {
   "cell_type": "markdown",
   "id": "35d5494b",
   "metadata": {},
   "source": [
    "Instead of iterating directly over the elements of a list, you can iterate over their indices—that is, just numbers from zero up to the length of the list (not including the length itself). This is done by calling the `range()` function. It is given some argument, for example, 5, and it iterates over all numbers from 0 to its argument (not including it): `0, 1, 2, 3, 4`"
   ]
  },
  {
   "cell_type": "code",
   "execution_count": null,
   "id": "8ae2a10e",
   "metadata": {},
   "outputs": [],
   "source": [
    "for element in range(0,5,1):\n",
    "    print(element)"
   ]
  },
  {
   "cell_type": "markdown",
   "id": "a4546858",
   "metadata": {},
   "source": [
    "Unfortunately, it will not be possible to simply see the result of the `range()` function. The fact is that Python does not store all the numbers from 0 to 5, but simply remembers from which and to which number the sequence is created. This is especially useful for function calls like `range(1000000000)`."
   ]
  },
  {
   "cell_type": "markdown",
   "id": "44842e6c",
   "metadata": {},
   "source": [
    "Now you can change each element of the list in turn:"
   ]
  },
  {
   "cell_type": "code",
   "execution_count": null,
   "id": "637f5791",
   "metadata": {},
   "outputs": [],
   "source": [
    "print('List before change:')\n",
    "print(balance)\n",
    "print()\n",
    "\n",
    "for i in range(len(balance)):\n",
    "    balance[i] *= 10**6\n",
    "\n",
    "print('List after trying to change:')\n",
    "print(balance) "
   ]
  },
  {
   "cell_type": "markdown",
   "id": "00b92031",
   "metadata": {},
   "source": [
    "## Adding/removing elements"
   ]
  },
  {
   "cell_type": "markdown",
   "id": "0218ca1b",
   "metadata": {},
   "source": [
    "To do this, we use the list's `append()` method, which adds a new element to the list. Let's break it down first with a simple example:"
   ]
  },
  {
   "cell_type": "code",
   "execution_count": null,
   "id": "193c3c4d",
   "metadata": {},
   "outputs": [],
   "source": [
    "contracts = ['BNK100', 'BNK101', 'BNK102', 'BNK103']\n",
    "\n",
    "\n",
    "print(contracts)\n",
    "\n",
    "contracts.append('BNK126')\n",
    "\n",
    "print(contracts) "
   ]
  },
  {
   "cell_type": "markdown",
   "id": "07b2b9ca",
   "metadata": {},
   "source": [
    "The `remove()` method is a built-in method that removes the first matching element from the list."
   ]
  },
  {
   "cell_type": "code",
   "execution_count": null,
   "id": "eccdf917",
   "metadata": {},
   "outputs": [],
   "source": [
    "contracts.remove('BNK101')\n",
    "print(contracts)"
   ]
  },
  {
   "cell_type": "markdown",
   "id": "abdc6aec",
   "metadata": {},
   "source": [
    "the `list.pop(index)` method removes an element based on the index passed"
   ]
  },
  {
   "cell_type": "code",
   "execution_count": null,
   "id": "30b2c9de",
   "metadata": {},
   "outputs": [],
   "source": [
    "contracts.remove(contracts[0])\n",
    "print(contracts)"
   ]
  },
  {
   "cell_type": "markdown",
   "id": "0d759a2b",
   "metadata": {},
   "source": [
    "The `clear()` method removes all elements from the list."
   ]
  },
  {
   "cell_type": "code",
   "execution_count": null,
   "id": "461db714",
   "metadata": {},
   "outputs": [],
   "source": [
    "contracts.clear()\n",
    "print(contracts)"
   ]
  },
  {
   "cell_type": "markdown",
   "id": "b38ff6c3",
   "metadata": {},
   "source": [
    "## Simple Functions"
   ]
  },
  {
   "cell_type": "markdown",
   "id": "5f6cbde6",
   "metadata": {},
   "source": [
    "<b>Function</b> is a piece of program code that can be accessed from another place in the program."
   ]
  },
  {
   "cell_type": "markdown",
   "id": "d504f5d3",
   "metadata": {},
   "source": [
    "The logic of its work is written once, and then called wherever it is needed.\n",
    "Let's write a function to convert the duration of a movie from minutes to hours. Remember that the `print()` function has an argument, the string it prints? Our function will also have an argument - the duration of the movie in minutes. The function will perform calculations with it and print the result on the screen:"
   ]
  },
  {
   "cell_type": "code",
   "execution_count": null,
   "id": "f8c8eac0",
   "metadata": {},
   "outputs": [],
   "source": [
    "def print_length_hours(minutes):\n",
    "    hours = minutes / 60\n",
    "    print('Duration: {:.2f} hour.'.format(hours))\n",
    "\n",
    "\n",
    "# для наглядности функции отделяют от остального кода двумя переносами\n",
    "print('Zack Snyders Justice League')\n",
    "print_length_hours(242)\n",
    "print()\n",
    "print('Bridget Joness Diary')\n",
    "print_length_hours(97)\n",
    "print() "
   ]
  },
  {
   "cell_type": "markdown",
   "id": "b4f42b88",
   "metadata": {},
   "source": [
    "We described the logic of the function, and then called it twice. The `def` keyword points to the beginning of a function definition. Here we again encountered indents of 4 spaces: they highlight the `body of the function` - the code that this function will execute."
   ]
  },
  {
   "cell_type": "markdown",
   "id": "9534a0a2",
   "metadata": {},
   "source": [
    "![jupyter](./pict/def1.png)"
   ]
  },
  {
   "cell_type": "markdown",
   "id": "8b4c7a04",
   "metadata": {},
   "source": [
    "The `minutes` argument is essentially a variable inside the function. Its value is not known in advance - it is given in parentheses when the function is called. Depending on this value, the appropriate text is printed on the screen."
   ]
  },
  {
   "cell_type": "markdown",
   "id": "8a7d33f1",
   "metadata": {},
   "source": [
    "create a table for writing an example of a function with two arguments"
   ]
  },
  {
   "cell_type": "code",
   "execution_count": null,
   "id": "5731db23",
   "metadata": {},
   "outputs": [],
   "source": [
    "oscar_data = [\n",
    "    ['The Shape of Water', 2017, 6.914, 123, ['fantasy', 'drama'], 19.4, 195.243464],\n",
    "    ['Moonlight', 2016, 6.151, 110, ['drama'], 1.5, 65.046687],\n",
    "    ['Spotlight', 2015, 7.489, 129, ['drama', 'crime', 'history'], 20.0, 88.346473],\n",
    "    ['Birdman', 2014, 7.604, 119, ['drama', 'comedy'], 18.0, 103.215094],\n",
    "    ['12 years a slave', 2013, 7.71, 133, ['drama', 'biography', 'history'], 20.0, 178.371993],\n",
    "    ['Operation Argo', 2012, 7.517, 120, ['thriller', 'drama', 'biography'], 44.5, 232.324128],\n",
    "    ['Artist', 2011, 7.942, 96, ['drama', 'melodrama', 'comedy'], 15.0, 133.432856],\n",
    "    ['The King speaks!', 2010, 7.977, 118, ['drama', 'biography', 'history'], 15.0, 414.211549],\n",
    "    ['The Hurt Locker', 2008, 7.298, 126, ['thriller', 'drama', 'military', 'history'], 15.0, 49.230772],\n",
    "    ['Slumdog Millionaire', 2008, 7.724, 120, ['drama', 'melodrama'], 15.0, 377.910544],\n",
    "    ['No Country for Old Men', 2007, 7.726, 122, ['thriller', 'drama', 'crime'], 25.0, 171.627166],\n",
    "    ['The Departed', 2006, 8.456, 151, ['thriller', 'drama', 'crime'], 90.0, 289.847354],\n",
    "    ['Clash', 2004, 7.896, 108, ['thriller', 'drama', 'crime'], 6.5, 98.410061],\n",
    "    ['Million Dollar Baby', 2004, 8.075, 132, ['drama', 'sport'], 30.0, 216.763646],\n",
    "    ['The Lord of the Rings: The Return of the King', 2003, 8.617, 201, ['fantasy', 'drama', 'adventure'], 94.0, 1119.110941],\n",
    "    ['Chicago', 2002, 7.669, 113, ['musical', 'comedy', 'crime'], 45.0, 306.776732],\n",
    "    ['A Beautiful Mind', 2001, 8.557, 135, ['drama', 'biography', 'melodrama'], 58.0, 313.542341],\n",
    "    ['Gladiator', 2000, 8.585, 155, ['action', 'drama', 'adventure'], 103.0, 457.640427],\n",
    "    ['American Beauty', 1999, 7.965, 122, ['drama'], 15.0, 356.296601],\n",
    "    ['Shakespeare in Love', 1998, 7.452, 123, ['drama', 'melodrama', 'comedy', 'history'], 25.0, 289.317794],\n",
    "    ['Titanic', 1997, 8.369, 194, ['drama', 'melodrama'], 200.0, 2185.372302],\n",
    "    ['The English Patient', 1996, 7.849, 155, ['drama', 'melodrama', 'military'], 27.0, 231.976425],\n",
    "    ['Braveheart', 1995, 8.283, 178, ['drama', 'military', 'biography', 'history'], 72.0, 210.409945],\n",
    "    ['Forrest Gump', 1994, 8.915, 142, ['drama', 'melodrama'], 55.0, 677.386686],\n",
    "    ['Schindlers List', 1993, 8.819, 195, ['drama', 'biography', 'history'], 22.0, 321.265768],\n",
    "    ['Unforgiven', 1992, 7.858, 131, ['drama', 'western'], 14.4, 159.157447],\n",
    "    ['Silence of the Lambs', 1990, 8.335, 114, ['thriller', 'crime', 'detective', 'drama', 'horror'], 19.0, 272.742922],\n",
    "    ['Dancing with Wolves', 1990, 8.112, 181, ['drama', 'adventure', 'western'], 22.0, 424.208848],\n",
    "    ['Driving Miss Daisy', 1989, 7.645, 99, ['drama'], 7.5, 145.793296],\n",
    "    ['Rain Man', 1988, 8.25, 133, ['drama'], 25.0, 354.825435],\n",
    "]"
   ]
  },
  {
   "cell_type": "markdown",
   "id": "8cd480d5",
   "metadata": {},
   "source": [
    "Let's start by writing a function to print the first 5 elements of a table on the screen."
   ]
  },
  {
   "cell_type": "code",
   "execution_count": null,
   "id": "d191dee1",
   "metadata": {},
   "outputs": [],
   "source": [
    "def print_top5(data):\n",
    "    print('movie title                                   | Year | Rating  | Length| Budget  | Fees   |')\n",
    "    print('------------------------------------------------------------------------------------------')\n",
    "    for row in data[:5]:\n",
    "        print('{: <45} | {} | {: >7.2f} | {: >5} | {: >7.1f} | {: >6.1f} |'.format(\n",
    "                row[0], row[1], row[2], row[3], row[5], row[6])) "
   ]
  },
  {
   "cell_type": "markdown",
   "id": "52ea0e0f",
   "metadata": {},
   "source": [
    "Pay attention to the indentation for the loop in the function code. We have nested a cycle in its body, and therefore the body of such a cycle is indented not by 4 spaces, but by 8.\n",
    "<p>\n",
    "Now let's call our function: it prints top (by rating and budget) films on the screen."
   ]
  },
  {
   "cell_type": "code",
   "execution_count": null,
   "id": "c56b7d31",
   "metadata": {},
   "outputs": [],
   "source": [
    "print('# Highest ranked')\n",
    "print()\n",
    "oscar_data.sort(key=lambda row: row[2], reverse=True)\n",
    "print_top5(oscar_data)\n",
    "print()\n",
    "print()\n",
    "\n",
    "print('# Biggest budget')\n",
    "print()\n",
    "oscar_data.sort(key=lambda row: row[5], reverse=True)\n",
    "print_top5(oscar_data)\n",
    "print()\n",
    "print()"
   ]
  },
  {
   "cell_type": "markdown",
   "id": "adcde54e",
   "metadata": {},
   "source": [
    "Let's improve our function: let it sort the table itself. To do this, we write one more argument in the code (the number is theoretically unlimited). This second argument will be the index of the column we want to sort by. Specify it in parentheses after the first argument. Let this parameter be called column in the function declaration:"
   ]
  },
  {
   "cell_type": "code",
   "execution_count": null,
   "id": "f7915b44",
   "metadata": {},
   "outputs": [],
   "source": [
    "def print_top5_by_column(data, column):\n",
    "    data.sort(key=lambda row: row[column], reverse=True)\n",
    "    print('Name                                          | Year | Rating  | Length| Budget |  Fees  |')\n",
    "    print('------------------------------------------------------------------------------------------')\n",
    "    for row in data[:5]:\n",
    "        print('{: <45} | {} | {: >7.2f} | {: >5} | {: >6.1f} | {: >6.1f} |'.format(\n",
    "                row[0], row[1], row[2], row[3], row[5], row[6])) "
   ]
  },
  {
   "cell_type": "code",
   "execution_count": null,
   "id": "6f175b72",
   "metadata": {},
   "outputs": [],
   "source": [
    "print('# Highest ranked')\n",
    "print()\n",
    "print_top5_by_column(oscar_data, 2)\n",
    "print()\n",
    "print()\n",
    "\n",
    "print('# Biggest budget')\n",
    "print()\n",
    "print_top5_by_column(oscar_data, 5)\n",
    "print()\n",
    "print()\n",
    "\n",
    "print('# Highest fees')\n",
    "print()\n",
    "print_top5_by_column(oscar_data, 6)\n",
    "print()\n",
    "print()\n",
    "\n",
    "print('# Longest length')\n",
    "print()\n",
    "print_top5_by_column(oscar_data, 3)\n",
    "print()\n",
    "print()"
   ]
  },
  {
   "cell_type": "markdown",
   "id": "2c2db4bb",
   "metadata": {},
   "source": [
    "## Function return values"
   ]
  },
  {
   "cell_type": "markdown",
   "id": "0f879aaa",
   "metadata": {},
   "source": [
    "Therefore, functions can `return` a value - pass a result that can be stored in a variable. Let's, for example, redo the dollars-to-euro conversion function and update the code to print the budget in euros:"
   ]
  },
  {
   "cell_type": "code",
   "execution_count": null,
   "id": "0f69a3f7",
   "metadata": {},
   "outputs": [],
   "source": [
    "dollars_to_euros = 1.02\n",
    "\n",
    "def dollar_to_euro(dollar):\n",
    "    euros = dollar * dollars_to_euros\n",
    "    return euros\n",
    "\n",
    "lotr_dollar = 94.0\n",
    "\n",
    "lotr_euro = dollar_to_euro(lotr_dollar)\n",
    "\n",
    "print('The Lord of the Rings: The Return of the King budget: {:.2f} kk EUR'.format(lotr_euro)) "
   ]
  },
  {
   "cell_type": "markdown",
   "id": "31630939",
   "metadata": {},
   "source": [
    "The `return` keyword specifies what value the function will return. For example, dollar_to_euro() returns the product stored in the variable euros."
   ]
  },
  {
   "cell_type": "markdown",
   "id": "c7504cd3",
   "metadata": {},
   "source": [
    "## Local and Global Variables"
   ]
  },
  {
   "cell_type": "markdown",
   "id": "5b8e23ae",
   "metadata": {},
   "source": [
    "We will create functions often. Let's understand a little about their device in order to avoid unpleasant surprises. Like these:"
   ]
  },
  {
   "cell_type": "code",
   "execution_count": null,
   "id": "782772c8-bea9-44f9-828e-facb318dc145",
   "metadata": {},
   "outputs": [],
   "source": [
    "del(dollars)"
   ]
  },
  {
   "cell_type": "code",
   "execution_count": null,
   "id": "89c56d2d",
   "metadata": {},
   "outputs": [],
   "source": [
    "# # suppose that the budget of the film consists of two parts\n",
    "# euros = 40\n",
    "\n",
    "# dollar = 65\n",
    "\n",
    "# dollars_to_euros = 1.02\n",
    "\n",
    "# def dollar_to_euro(dollar):\n",
    "#     # we misspelled the variable name\n",
    "#     eurs = dollars * dollars_to_euros\n",
    "#     # this line still works, but uses the wrong variable\n",
    "#     return euros\n",
    "\n",
    "\n",
    "# total = euros + dollar_to_euro(dollar)\n",
    "# print('Total budget: {:.2f} kk EUR'.format(total))\n",
    "# # budget: 106.30"
   ]
  },
  {
   "cell_type": "markdown",
   "id": "08748f60",
   "metadata": {},
   "source": [
    "It's all about declaring variables. When a function encounters a variable, it tries to find its value in its `own` code. If it finds it, it uses it; if not, it starts to look `outside`, in the program code. It turns out that if both inside and outside of the function there are variables with the same names, the one inside will be used."
   ]
  },
  {
   "cell_type": "markdown",
   "id": "f89ddc40",
   "metadata": {},
   "source": [
    "Knowing about global and local variables will help to avoid such problems. <b>Global variables</b> are those that are declared outside of functions. They can be accessed from anywhere. Hence the name.\n",
    "\n",
    "Accordingly, variables declared inside a function are <b>local</b>. They cannot be accessed from code outside the body of the function."
   ]
  },
  {
   "cell_type": "markdown",
   "id": "8ffbb875",
   "metadata": {},
   "source": [
    "#### Do not give local and global variables the same names - typos are then very difficult to find in the code."
   ]
  },
  {
   "cell_type": "markdown",
   "id": "8235bdb5",
   "metadata": {},
   "source": [
    "Let's go back to our broken `dollar_to_euro()` function and fix it. First, let's change the name of the global variable to something more descriptive, let's call it budget_euros:"
   ]
  },
  {
   "cell_type": "code",
   "execution_count": null,
   "id": "0b9fd6d1",
   "metadata": {},
   "outputs": [],
   "source": [
    "del euros\n",
    "del dollars"
   ]
  },
  {
   "cell_type": "code",
   "execution_count": null,
   "id": "22316fe7",
   "metadata": {},
   "outputs": [],
   "source": [
    "budget_euros = 40\n",
    "budget_dollars = 65\n",
    "\n",
    "dollars_to_euros = 1.02\n",
    "\n",
    "def dollar_to_euro(dollars):\n",
    "    eurs = dollars * dollars_to_euros\n",
    "    return euros\n",
    "\n",
    "\n",
    "total = budget_euros + dollar_to_euro(budget_dollars)\n",
    "print('Total budget: {:.2f} kk EUR'.format(total))"
   ]
  },
  {
   "cell_type": "markdown",
   "id": "19fe35c0",
   "metadata": {},
   "source": [
    "Now Python has caught our oversight and is reporting it."
   ]
  },
  {
   "cell_type": "markdown",
   "id": "77284256",
   "metadata": {},
   "source": [
    "global variables whose value does not change in the code. Such variables are called <b>constants</b>."
   ]
  },
  {
   "cell_type": "markdown",
   "id": "87bd7569",
   "metadata": {},
   "source": [
    "Attention: `for Python, these are ordinary global variables. It's just that the developers agreed that if a variable does not change its value anywhere in the code, it is given a name from capital letters. So when reading the code, it is easy to distinguish variables from constants.`"
   ]
  },
  {
   "cell_type": "code",
   "execution_count": null,
   "id": "07cb067c",
   "metadata": {},
   "outputs": [],
   "source": [
    "budget_euros = 40\n",
    "budget_dollars = 65\n",
    "\n",
    "DOLLARS_TO_EUROS = 1.02\n",
    "\n",
    "def dollar_to_euro(dollars):\n",
    "    euros = dollars * DOLLARS_TO_EUROS\n",
    "    return euros\n",
    "\n",
    "total = budget_euros + dollar_to_euro(budget_dollars)\n",
    "print('Total budget: {:.2f} kk EUR'.format(total))"
   ]
  },
  {
   "cell_type": "markdown",
   "id": "85a2b71c",
   "metadata": {},
   "source": [
    "## Conditional operator"
   ]
  },
  {
   "cell_type": "markdown",
   "id": "fae41cac",
   "metadata": {},
   "source": [
    "The keywords `if` and `else` define a conditional statement. If the condition is met, Python will execute one code, and if not, another. The diagram shows the syntax of the conditional operator:"
   ]
  },
  {
   "cell_type": "code",
   "execution_count": null,
   "id": "2ca0811a",
   "metadata": {},
   "outputs": [],
   "source": [
    "def check_if_recent(year):\n",
    "    if year < 2008:\n",
    "        print('The film was made a long time ago.')\n",
    "        return 123\n",
    "    elif year < 2016:\n",
    "        print('sdfsdf')\n",
    "    else:\n",
    "        print('The film is fresh.')\n",
    "        \n",
    "        \n",
    "print('Doctor Strange in the Multiverse of Madness')\n",
    "check_if_recent(2022)\n",
    "print('')\n",
    "print('Terminator 2: Judgment Day')\n",
    "check_if_recent(1991)"
   ]
  },
  {
   "cell_type": "markdown",
   "id": "c0761bff",
   "metadata": {},
   "source": [
    "![jupyter](./pict/ifelse.png)"
   ]
  },
  {
   "cell_type": "markdown",
   "id": "35a97326",
   "metadata": {},
   "source": [
    "The sign `<` in our condition corresponds to the mathematical sign `<`. The table shows the correspondence of other mathematical signs:"
   ]
  },
  {
   "cell_type": "markdown",
   "id": "437d9292",
   "metadata": {},
   "source": [
    "<div class=\"scrollable_content\">\n",
    "    <table cellpadding=\"0\" cellspacing=\"0\" style=\"width: 500px; text-align: center;\">\n",
    "        <thead ><tr><th scope=\"col\" style=\"text-align: center;\">mathematical sign</th>\n",
    "                    <th scope=\"col\" style=\"text-align: center;\">Sign in Python</th>\n",
    "                    <th scope=\"col\" style=\"text-align: center;\">What does it mean</th>\n",
    "            </tr>\n",
    "        </thead><tbody>\n",
    "        <tr >\n",
    "            <td style=\"text-align: center;\">⩽</td>\n",
    "            <td style=\"text-align: center;\"><code class=\"code-inline code-inline_theme_light\"><=</ code></td>\n",
    "            <td style=\"text-align: center;\">less or equal</td>\n",
    "        </tr>\n",
    "        <tr >\n",
    "            <td style=\"text-align: center;\">⩾</td>\n",
    "            <td style=\"text-align: center;\"><code class=\"code-inline code-inline_theme_light\">>=</ code></td>\n",
    "            <td style=\"text-align: center;\">more or equal</td>\n",
    "        </tr>\n",
    "        <tr >\n",
    "            <td style=\"text-align: center;\"><</td>\n",
    "            <td style=\"text-align: center;\"><code class=\"code-inline code-inline_theme_light\"><</ code></td>\n",
    "            <td style=\"text-align: center;\">strictly less</td>\n",
    "        </tr>\n",
    "        <tr >\n",
    "            <td style=\"text-align: center;\">></td>\n",
    "            <td style=\"text-align: center;\"><code class=\"code-inline code-inline_theme_light\">></ code></td>\n",
    "            <td style=\"text-align: center;\">strictly more</td>\n",
    "        </tr>        \n",
    "        <tr >\n",
    "            <td style=\"text-align: center;\">=</td>\n",
    "            <td style=\"text-align: center;\"><code class=\"code-inline code-inline_theme_light\">==</ code></td>\n",
    "            <td style=\"text-align: center;\">is exactly equal to</td>\n",
    "        </tr>        \n",
    "        <tr >\n",
    "            <td style=\"text-align: center;\">≠</td>\n",
    "            <td style=\"text-align: center;\"><code class=\"code-inline code-inline_theme_light\">!=</ code></td>\n",
    "            <td style=\"text-align: center;\">not exactly equal</td>\n",
    "        </tr>    \n",
    "        </tbody></table><div></div></div>"
   ]
  },
  {
   "cell_type": "markdown",
   "id": "413b46fa",
   "metadata": {},
   "source": [
    "## IN operator"
   ]
  },
  {
   "cell_type": "markdown",
   "id": "013d4190",
   "metadata": {},
   "source": [
    "The `in` operator allows you to specify multiple values"
   ]
  },
  {
   "cell_type": "code",
   "execution_count": null,
   "id": "85934b78",
   "metadata": {},
   "outputs": [],
   "source": [
    "# print('drama' in ['fantastic', 'drama'])\n",
    "print('comedy' in ['drama', 'crime', 'history'])"
   ]
  },
  {
   "cell_type": "markdown",
   "id": "19513d11",
   "metadata": {},
   "source": [
    "So the `in` operator is handy in conditional constructs"
   ]
  },
  {
   "cell_type": "markdown",
   "id": "31c789ae",
   "metadata": {},
   "source": [
    "## NOT operator"
   ]
  },
  {
   "cell_type": "markdown",
   "id": "9623d6db",
   "metadata": {},
   "source": [
    "The `not` operator turns any condition on its head - changes True to False and vice versa:"
   ]
  },
  {
   "cell_type": "code",
   "execution_count": null,
   "id": "ca9ffffd",
   "metadata": {},
   "outputs": [],
   "source": [
    "print(not True)\n",
    "print(not False) \n"
   ]
  },
  {
   "cell_type": "markdown",
   "id": "192236ed",
   "metadata": {},
   "source": [
    "## AND and OR operators"
   ]
  },
  {
   "cell_type": "markdown",
   "id": "42e2c44e",
   "metadata": {},
   "source": [
    "To build more complex conditions in Python, there are two more operators: `and` and `or`."
   ]
  },
  {
   "cell_type": "markdown",
   "id": "3af94c09",
   "metadata": {},
   "source": [
    "The `and` operator combines two conditions into one. Such a compound condition returns True only when both simple conditions are met:"
   ]
  },
  {
   "cell_type": "code",
   "execution_count": null,
   "id": "0080f5f4",
   "metadata": {},
   "outputs": [],
   "source": [
    "print(True and True) #T\n",
    "print(True and False) #F\n",
    "print(False and True) #F\n",
    "print(False and False) #F"
   ]
  },
  {
   "cell_type": "markdown",
   "id": "2b1592f3",
   "metadata": {},
   "source": [
    "The `or` operator also combines two conditions into one. Such a compound condition returns True if at least one of the simple conditions is true:"
   ]
  },
  {
   "cell_type": "code",
   "execution_count": null,
   "id": "f9cf613d",
   "metadata": {},
   "outputs": [],
   "source": [
    "print(True or True) #T\n",
    "print(True or False) #T\n",
    "print(False or True)  #F\n",
    "print(False or False) #F\n",
    "\n"
   ]
  },
  {
   "cell_type": "markdown",
   "id": "94ce16d1",
   "metadata": {},
   "source": [
    "## Lambda function"
   ]
  },
  {
   "cell_type": "markdown",
   "id": "1ddbb7a9",
   "metadata": {},
   "source": [
    "A lambda function is a small anonymous function.\n",
    "\n",
    "A lambda function can take any number of arguments, but can only have one expression."
   ]
  },
  {
   "cell_type": "code",
   "execution_count": null,
   "id": "821bdb41",
   "metadata": {},
   "outputs": [],
   "source": [
    "def maximum(a,b):\n",
    "    if a > b:\n",
    "        return a\n",
    "    else:\n",
    "        return b\n",
    "    \n",
    "print(maximum(12,17))"
   ]
  },
  {
   "cell_type": "code",
   "execution_count": null,
   "id": "30bee4c8",
   "metadata": {},
   "outputs": [],
   "source": [
    "print((lambda a,b: a if a>b else b)(12,17))"
   ]
  },
  {
   "cell_type": "code",
   "execution_count": null,
   "id": "64070a2f",
   "metadata": {},
   "outputs": [],
   "source": [
    "(lambda a, b, c : a + b + c)(1,2,3)"
   ]
  },
  {
   "cell_type": "markdown",
   "id": "564fe922",
   "metadata": {},
   "source": [
    "# some practice"
   ]
  },
  {
   "cell_type": "markdown",
   "id": "c7c08915",
   "metadata": {},
   "source": [
    "1. given a list of n elements. It is necessary to calculate the maximum area of ​​a triangle from the three values ​​​​of elements put in succession"
   ]
  },
  {
   "cell_type": "code",
   "execution_count": null,
   "id": "bb9b1d4f-e928-41d3-bcda-4e989cbc79ca",
   "metadata": {},
   "outputs": [],
   "source": [
    "[1,2,4,2,6,5,1,2,5,12,4]"
   ]
  },
  {
   "cell_type": "code",
   "execution_count": null,
   "id": "4f079d06-c8e0-4c05-bd48-71b45b31dfe6",
   "metadata": {},
   "outputs": [],
   "source": []
  },
  {
   "cell_type": "code",
   "execution_count": null,
   "id": "3c53c3ee-6a99-49a6-96b9-faebb4fcb37b",
   "metadata": {},
   "outputs": [],
   "source": []
  },
  {
   "cell_type": "markdown",
   "id": "f018724a",
   "metadata": {},
   "source": [
    "2. Given 3 lists of i, n and m elements. We need to return a unique list of elements, consisting of elements common to these first two lists and not included in the third"
   ]
  },
  {
   "cell_type": "code",
   "execution_count": null,
   "id": "d720f1f9-a799-4042-bedd-ca9bd18d5766",
   "metadata": {},
   "outputs": [],
   "source": []
  },
  {
   "cell_type": "code",
   "execution_count": null,
   "id": "8ab62137-baf0-445a-b09a-52359ffbee39",
   "metadata": {},
   "outputs": [],
   "source": []
  },
  {
   "cell_type": "markdown",
   "id": "e7b1efba",
   "metadata": {},
   "source": [
    "3. Write a function to display the number of seconds as days:hours:minutes:seconds."
   ]
  },
  {
   "cell_type": "code",
   "execution_count": null,
   "id": "a2d046ad-624e-4d0b-95e9-80ab5f05a882",
   "metadata": {},
   "outputs": [],
   "source": []
  },
  {
   "cell_type": "code",
   "execution_count": null,
   "id": "ac701dc5-82f6-4663-ae2a-8935a5580347",
   "metadata": {},
   "outputs": [],
   "source": []
  },
  {
   "cell_type": "code",
   "execution_count": null,
   "id": "04072dc3-5169-432e-b26e-08641e8a10f3",
   "metadata": {},
   "outputs": [],
   "source": []
  }
 ],
 "metadata": {
  "kernelspec": {
   "display_name": "Python 3 (ipykernel)",
   "language": "python",
   "name": "python3"
  },
  "language_info": {
   "codemirror_mode": {
    "name": "ipython",
    "version": 3
   },
   "file_extension": ".py",
   "mimetype": "text/x-python",
   "name": "python",
   "nbconvert_exporter": "python",
   "pygments_lexer": "ipython3",
   "version": "3.10.9"
  }
 },
 "nbformat": 4,
 "nbformat_minor": 5
}
