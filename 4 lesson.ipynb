{
 "cells": [
  {
   "cell_type": "markdown",
   "id": "064a03ca",
   "metadata": {},
   "source": [
    "# Pandas for data analysis"
   ]
  },
  {
   "cell_type": "markdown",
   "id": "faf980de",
   "metadata": {},
   "source": [
    "Libraries are collections of ready-made methods for solving common tasks. From what is in Python, Pandas is most often used for table operations. Name - from the abbreviation panel data"
   ]
  },
  {
   "cell_type": "markdown",
   "id": "3efe2cc1",
   "metadata": {},
   "source": [
    "Why is the Pandas library so cool and popular? Pandas has the richest opportunities:\n",
    "1. Ready-made methods for all sorts of manipulations with tables: adding, deleting, converting, aggregating data;\n",
    "2. Simultaneous processing of data from different files;\n",
    "3. Ready-made methods for operations with missing values, identifying and eliminating problematic data;\n",
    "4. Using data in a variety of formats."
   ]
  },
  {
   "cell_type": "markdown",
   "id": "fdd43a2a",
   "metadata": {},
   "source": [
    "The library's tools become available when we call it with the `import` command."
   ]
  },
  {
   "cell_type": "code",
   "execution_count": null,
   "id": "dd7d81e7",
   "metadata": {},
   "outputs": [],
   "source": [
    "import pandas"
   ]
  },
  {
   "cell_type": "markdown",
   "id": "5324525f",
   "metadata": {},
   "source": [
    "The library is stored in a variable through which its methods can be called. In the community, it is customary to give it a short name `pd`."
   ]
  },
  {
   "cell_type": "code",
   "execution_count": null,
   "id": "5b83ce03",
   "metadata": {},
   "outputs": [],
   "source": [
    "import pandas as pd "
   ]
  },
  {
   "cell_type": "markdown",
   "id": "ed17236f",
   "metadata": {},
   "source": [
    "We have a dataset that needs to be turned into a table. This is done by calling the `DataFrame()` constructor."
   ]
  },
  {
   "cell_type": "markdown",
   "id": "0902849e",
   "metadata": {},
   "source": [
    "The constructor takes two arguments - a list of data and the names of the columns that should be in the table. For example, if information about the capitals of different countries is stored in the atlas variable:"
   ]
  },
  {
   "cell_type": "code",
   "execution_count": null,
   "id": "1a9937ea",
   "metadata": {},
   "outputs": [],
   "source": [
    "atlas = [\n",
    "    ['France', 'Paris'],\n",
    "    ['Latvia', 'Riga'],\n",
    "    ['Ukraine', 'Kyiv'],\n",
    "    ['China','Beijing'],\n",
    "    ['Mexico','Mexico City'],\n",
    "    ['Egypt','Cairo']\n",
    "]"
   ]
  },
  {
   "cell_type": "markdown",
   "id": "2cc3680b",
   "metadata": {},
   "source": [
    "and you need to build a table of two columns `country` and `capital`,"
   ]
  },
  {
   "cell_type": "code",
   "execution_count": null,
   "id": "8a088053",
   "metadata": {},
   "outputs": [],
   "source": [
    "geography = ['country', 'capital']"
   ]
  },
  {
   "cell_type": "markdown",
   "id": "2abaf57a",
   "metadata": {},
   "source": [
    "the syntax for calling the `DataFrame()` constructor looks like this:"
   ]
  },
  {
   "cell_type": "code",
   "execution_count": null,
   "id": "575f6def",
   "metadata": {},
   "outputs": [],
   "source": [
    "world_map = pd.DataFrame(data=atlas , columns=geography) "
   ]
  },
  {
   "cell_type": "code",
   "execution_count": null,
   "id": "8411eeba-cba1-42d1-990d-e64ca65f3098",
   "metadata": {},
   "outputs": [],
   "source": [
    "world_map"
   ]
  },
  {
   "cell_type": "markdown",
   "id": "7c7ef684",
   "metadata": {},
   "source": [
    "![jupyter](./pict/dataframe.png)"
   ]
  },
  {
   "cell_type": "code",
   "execution_count": null,
   "id": "131954b9",
   "metadata": {},
   "outputs": [],
   "source": [
    "world_map"
   ]
  },
  {
   "cell_type": "markdown",
   "id": "a53135de",
   "metadata": {},
   "source": [
    "As a result, a simple list of country-capital pairs turned into a table with indexes and named columns."
   ]
  },
  {
   "cell_type": "markdown",
   "id": "e891bf94",
   "metadata": {},
   "source": [
    "## Getting data"
   ]
  },
  {
   "cell_type": "markdown",
   "id": "c38914cf",
   "metadata": {},
   "source": [
    "In the park, data is stored in files of various formats. Of these, the most common is CSV (Comma-Separated Values). Each line of such a file is one line of the table, where the data is separated by commas. The first row contains the column headings (if any)."
   ]
  },
  {
   "cell_type": "markdown",
   "id": "4a568615",
   "metadata": {},
   "source": [
    "CSV files are most conveniently opened by calling the read_csv() method from the Pandas library."
   ]
  },
  {
   "cell_type": "code",
   "execution_count": null,
   "id": "1eddf888",
   "metadata": {},
   "outputs": [],
   "source": [
    "df = pd.read_csv('./datasets/titanic.csv') # argument - file path"
   ]
  },
  {
   "cell_type": "markdown",
   "id": "c9c3d376",
   "metadata": {},
   "source": [
    "Note that the contents of the CSV file are stored in the df variable. This name, which will appear all the time, is a common abbreviation for DataFrame."
   ]
  },
  {
   "cell_type": "markdown",
   "id": "c6928e14",
   "metadata": {},
   "source": [
    "Now all the data from the file can be printed on the screen with the print (df) command, but this is not always necessary - it is possible that the table is huge and inconvenient to study. To get acquainted with the data, several rows are requested from the beginning or end of the table by calling the special methods `head()` and `tail()` (or random strings - `sample()`)"
   ]
  },
  {
   "cell_type": "code",
   "execution_count": null,
   "id": "ceaf7011",
   "metadata": {},
   "outputs": [],
   "source": [
    "df"
   ]
  },
  {
   "cell_type": "markdown",
   "id": "cccd9a54",
   "metadata": {},
   "source": [
    "to get data from excel use this constructor"
   ]
  },
  {
   "cell_type": "code",
   "execution_count": null,
   "id": "63242be5",
   "metadata": {},
   "outputs": [],
   "source": [
    "df = pd.read_excel('./datasets/titanic.xlsx', sheet_name='sheet_1')"
   ]
  },
  {
   "cell_type": "markdown",
   "id": "57d76c6d",
   "metadata": {},
   "source": [
    "note! when importing data from excel, you must specify a sheet"
   ]
  },
  {
   "cell_type": "code",
   "execution_count": null,
   "id": "a341c473",
   "metadata": {},
   "outputs": [],
   "source": [
    "df.tail()"
   ]
  },
  {
   "cell_type": "markdown",
   "id": "74d6e2f7",
   "metadata": {},
   "source": [
    "more about input data [here](https://pandas.pydata.org/docs/reference/api/pandas.read_csv.html)"
   ]
  },
  {
   "cell_type": "markdown",
   "id": "9194fab8",
   "metadata": {},
   "source": [
    "## DataFrame object"
   ]
  },
  {
   "cell_type": "markdown",
   "id": "90e3622c",
   "metadata": {},
   "source": [
    "The table we got is stored in a DataFrame data structure. Let's take a closer look at what this object consists of and what operations can be performed with it."
   ]
  },
  {
   "cell_type": "markdown",
   "id": "21422d48",
   "metadata": {},
   "source": [
    "![jupyter](./pict/df.png)"
   ]
  },
  {
   "cell_type": "markdown",
   "id": "0a939ee8",
   "metadata": {},
   "source": [
    "You see two axes that form the DataFrame object. The first axis is called indexes, the second axis is called columns. By default, indexing in a DataFrame starts from zero."
   ]
  },
  {
   "cell_type": "markdown",
   "id": "fecb21f4",
   "metadata": {},
   "source": [
    "The DataFrame has inherent properties whose values can be queried. They are called <b>attributes</b>. For example, the `columns` attribute contains information about the names of the columns in the dataset."
   ]
  },
  {
   "cell_type": "code",
   "execution_count": null,
   "id": "ec1bcb19",
   "metadata": {},
   "outputs": [],
   "source": [
    "df.columns.tolist()"
   ]
  },
  {
   "cell_type": "markdown",
   "id": "a87c1323",
   "metadata": {},
   "source": [
    "In this case, the `columns` attribute returned a list of column names and said that each one was of data `type` object."
   ]
  },
  {
   "cell_type": "markdown",
   "id": "362a765c",
   "metadata": {},
   "source": [
    "In general, data types can be different. The best way to view the data type of each column is to use the dtypes attribute."
   ]
  },
  {
   "cell_type": "code",
   "execution_count": null,
   "id": "52823eb2",
   "metadata": {},
   "outputs": [],
   "source": [
    "df.dtypes"
   ]
  },
  {
   "cell_type": "markdown",
   "id": "e50fb04f",
   "metadata": {},
   "source": [
    "![jupyter](./pict/dftypes.png)"
   ]
  },
  {
   "cell_type": "markdown",
   "id": "6e41bf1e",
   "metadata": {},
   "source": [
    "The data types that the attributes tell us about are the data types of the Pandas library. Each of them corresponds to a certain data type of the Python language."
   ]
  },
  {
   "cell_type": "markdown",
   "id": "4ae71664",
   "metadata": {},
   "source": [
    "<div class=\"scrollable_content\">\n",
    "    <table cellpadding=\"0\" cellspacing=\"0\" style=\"width: 500px; text-align: center;\">\n",
    "        <thead ><tr><th scope=\"col\" style=\"text-align: center;\">Pandas dtype</th>\n",
    "                    <th scope=\"col\" style=\"text-align: center;\">Python type</th>\n",
    "                    <th scope=\"col\" style=\"text-align: center;\">Value</th>\n",
    "            </tr>\n",
    "        </thead><tbody>\n",
    "        <tr >\n",
    "            <td style=\"text-align: center;\"><code class=\"code-inline code-inline_theme_light\">object</ code></td>\n",
    "            <td style=\"text-align: center;\"><code class=\"code-inline code-inline_theme_light\">str</ code></td>\n",
    "            <td style=\"text-align: center;\">string</td>\n",
    "        </tr>\n",
    "        <tr >\n",
    "            <td style=\"text-align: center;\"><code class=\"code-inline code-inline_theme_light\">int64</ code></td>\n",
    "            <td style=\"text-align: center;\"><code class=\"code-inline code-inline_theme_light\">int</ code></td>\n",
    "            <td style=\"text-align: center;\">integer</td>\n",
    "        </tr>\n",
    "        <tr >\n",
    "            <td style=\"text-align: center;\"><code class=\"code-inline code-inline_theme_light\">float64</ code></td>\n",
    "            <td style=\"text-align: center;\"><code class=\"code-inline code-inline_theme_light\">float</ code></td>\n",
    "            <td style=\"text-align: center;\">Real numbers</td>\n",
    "        </tr>\n",
    "        <tr >\n",
    "            <td style=\"text-align: center;\"><code class=\"code-inline code-inline_theme_light\">bool</ code></td>\n",
    "            <td style=\"text-align: center;\"><code class=\"code-inline code-inline_theme_light\">bool</ code></td>\n",
    "            <td style=\"text-align: center;\">boolean data type</td>\n",
    "        </tr>\n",
    "        </tbody></table><div></div></div>"
   ]
  },
  {
   "cell_type": "markdown",
   "id": "8783c27f",
   "metadata": {},
   "source": [
    "Int16 -- (-32,768 to +32,767)\n",
    "\n",
    "Int32 -- (-2,147,483,648 to +2,147,483,647)\n",
    "\n",
    "Int64 -- (-9,223,372,036,854,775,808 to +9,223,372,036,854,775,807)"
   ]
  },
  {
   "cell_type": "markdown",
   "id": "09eb1779",
   "metadata": {},
   "source": [
    "The size of the data table is reported by its `shape` attribute. The result is a tuple (immutable list) of two numbers: the first is the number of rows, the second is the number of columns."
   ]
  },
  {
   "cell_type": "code",
   "execution_count": null,
   "id": "e321863b",
   "metadata": {},
   "outputs": [],
   "source": [
    "df.shape"
   ]
  },
  {
   "cell_type": "code",
   "execution_count": null,
   "id": "f1b0ca58-d2cd-47be-b844-3a237d7784f7",
   "metadata": {},
   "outputs": [],
   "source": [
    "# df['column'] = df['column'].astype('int32')"
   ]
  },
  {
   "cell_type": "markdown",
   "id": "5fabf2e8",
   "metadata": {},
   "source": [
    "The table has 418 rows (observations) and 12 columns."
   ]
  },
  {
   "cell_type": "markdown",
   "id": "df9a66a9",
   "metadata": {},
   "source": [
    "All the information provided by the various DataFrame attributes can be obtained by calling a single `info()` method."
   ]
  },
  {
   "cell_type": "code",
   "execution_count": null,
   "id": "a6407099",
   "metadata": {
    "tags": []
   },
   "outputs": [],
   "source": [
    "df.info() "
   ]
  },
  {
   "cell_type": "markdown",
   "id": "41f08972",
   "metadata": {},
   "source": [
    "For example, here in different columns there is a different number of elements with certain values ​​(non-null). Therefore, there are missing values ​​(null) in the table."
   ]
  },
  {
   "cell_type": "markdown",
   "id": "72456578",
   "metadata": {},
   "source": [
    "## Indexing in a DataFrame"
   ]
  },
  {
   "cell_type": "markdown",
   "id": "3c371dc1",
   "metadata": {},
   "source": [
    "Each data cell in a DataFrame can be accessed by its index and column name. We can get different slices of data, depending on what kind of request to the DataFrame we formulate. This process is called `indexing`. For DataFrame it is carried out in different ways."
   ]
  },
  {
   "cell_type": "markdown",
   "id": "fdde1d08",
   "metadata": {},
   "source": [
    "The `loc[row, column]` attribute gives access to the element by row and column."
   ]
  },
  {
   "cell_type": "markdown",
   "id": "900ebcef",
   "metadata": {},
   "source": [
    "![jupyter](./pict/loc.png)"
   ]
  },
  {
   "cell_type": "markdown",
   "id": "6f86ea39",
   "metadata": {},
   "source": [
    "<div class=\"scrollable__content\" ><table cellpadding=\"0\" cellspacing=\"0\">\n",
    "    <thead><tr>\n",
    "        <th scope=\"col\"  style=\"width: 500px; text-align: center\">View</th>\n",
    "        <th scope=\"col\">Implementation</th>\n",
    "        </tr></thead>\n",
    "    <tbody>\n",
    "        <tr>\n",
    "            <td style=\"width: 500px; text-align: center\">One cell</td>\n",
    "        <td><code class=\"code-inline code-inline_theme_light\">.loc[7, 'Survived']</code></td></tr>\n",
    "        <tr>\n",
    "            <td style=\"width: 500px; text-align: center\">One column</td>\n",
    "            <td><code class=\"code-inline code-inline_theme_light\">.loc[:, 'Survived']</code></td>\n",
    "        </tr>\n",
    "        <tr>\n",
    "            <td style=\"width: 500px; text-align: center\">Multiple columns</td>\n",
    "            <td><code class=\"code-inline code-inline_theme_light\">.loc[:, ['PassengerId', 'Age']]</code></td>\n",
    "        </tr>\n",
    "        <tr>\n",
    "            <td style=\"width: 500px; text-align: center\">Multiple columns in a row (slice)</td>\n",
    "            <td><code class=\"code-inline code-inline_theme_light\">.loc[:, 'Survived': 'Age']</code></td>\n",
    "        </tr>\n",
    "        <tr>\n",
    "            <td style=\"width: 500px; text-align: center\">One line</td>\n",
    "            <td><code class=\"code-inline code-inline_theme_light\">.loc[1]</code></td>\n",
    "        </tr>\n",
    "        <tr>\n",
    "            <td style=\"width: 500px; text-align: center\">All lines starting from the given</td>\n",
    "            <td><code class=\"code-inline code-inline_theme_light\">.loc[1:]</code></td>\n",
    "        </tr>\n",
    "        <tr>\n",
    "            <td style=\"width: 500px; text-align: center\">All lines up to the given</td>\n",
    "            <td><code class=\"code-inline code-inline_theme_light\">.loc[:3]</code></td>\n",
    "        </tr>\n",
    "        <tr>\n",
    "            <td style=\"width: 500px; text-align: center\">Multiple lines in a row (slice)</td>\n",
    "            <td><code class=\"code-inline code-inline_theme_light\">.loc[2:5]</code></td>\n",
    "        </tr>\n",
    "    </tbody></table><div></div></div>"
   ]
  },
  {
   "cell_type": "code",
   "execution_count": null,
   "id": "0e1e4e72-0232-42c4-a6e7-90021a96a0bf",
   "metadata": {},
   "outputs": [],
   "source": [
    "df.loc[2:5]"
   ]
  },
  {
   "cell_type": "markdown",
   "id": "b6f2a7d5",
   "metadata": {},
   "source": [
    "You may also have noticed that the loc[] attribute request uses square brackets, similar to lists in Python. Indexing here is very similar to list indexing."
   ]
  },
  {
   "cell_type": "markdown",
   "id": "e16a3e40",
   "metadata": {},
   "source": [
    "## Example %)"
   ]
  },
  {
   "cell_type": "code",
   "execution_count": null,
   "id": "72100519",
   "metadata": {
    "scrolled": true
   },
   "outputs": [],
   "source": [
    "data = [[1,0,0,0,0,0,0,0,0,0],\n",
    "        [0,0,0,0,0,0,0,0,0,0],\n",
    "        [0,0,0,1,0,0,0,0,0,0],\n",
    "        [0,0,0,0,0,0,2,2,0,0],\n",
    "        [3,0,0,0,0,0,0,0,0,0],\n",
    "        [3,0,4,4,4,4,0,0,0,2],\n",
    "        [3,0,0,0,0,0,0,0,0,2],\n",
    "        [0,0,1,0,0,0,0,0,0,0],\n",
    "        [0,0,0,0,0,0,1,0,0,0],\n",
    "        [0,3,3,3,0,0,0,0,0,0]]\n",
    "columns = ['A','B','C','D','E','F','G','H','I','J']\n",
    "\n",
    "battle = pd.DataFrame(data = data, columns = columns)\n",
    "print(battle) "
   ]
  },
  {
   "cell_type": "code",
   "execution_count": null,
   "id": "1fdfee7e",
   "metadata": {},
   "outputs": [],
   "source": [
    "battle.loc[5,'J']"
   ]
  },
  {
   "cell_type": "markdown",
   "id": "f960f306",
   "metadata": {},
   "source": [
    "#### IMPORTANT! Indexing starts from 0"
   ]
  },
  {
   "cell_type": "markdown",
   "id": "18c61e23",
   "metadata": {},
   "source": [
    "#### IMPORTANT! when we use slices on lists, the end of the slice is not included in the result. But the .loc[] attribute stands out because it includes both the beginning and the end of the slice."
   ]
  },
  {
   "cell_type": "markdown",
   "id": "9ab8cdcc",
   "metadata": {},
   "source": [
    "In practice, an abbreviated form of notation is often used for indexing. But her options are limited. Be aware that it does not always return the same results as the .loc[] attribute in its full form."
   ]
  },
  {
   "cell_type": "markdown",
   "id": "a2d96d73",
   "metadata": {},
   "source": [
    "<table cellpadding=\"0\" cellspacing=\"0\"><thead>\n",
    "    <tr>\n",
    "        <th scope=\"col\">View</th>\n",
    "        <th scope=\"col\">Implementation</th>\n",
    "        <th scope=\" col\">Shortcut</th>\n",
    "    </tr>\n",
    "    </thead><tbody>\n",
    "    <tr>\n",
    "        <td>Single Cell</td>\n",
    "        <td><code class=\"code-inline code-inline_theme_light\">.loc [7, 'C']</code></td>\n",
    "        <td>-</td>\n",
    "    </tr>\n",
    "    <tr>\n",
    "        <td>Single column</td>\n",
    "        <td><code class=\"code-inline code-inline_theme_light\">.loc[:, 'C']</code></td>\n",
    "        <td><code class=\"code-inline code-inline_theme_light\">df['C']</code></ td>\n",
    "    </tr>\n",
    "    <tr>\n",
    "        <td>Multiple columns</td>\n",
    "        <td><code class=\"code-inline code-inline_theme_light\">.loc[:, ['C', 'F']]</code></td>\n",
    "        <td><code class=\"code-inline code-inline_theme_light\">df [['C', 'F']]</code></td>\n",
    "    </tr>\n",
    "    <tr> \n",
    "        <td>Multiple columns in a row (slice)</td>\n",
    "        <td><code class=\"code-inline code-inline_theme_light\">.loc[:, 'B': 'C']</code></td> \n",
    "        <td>-</td>\n",
    "    </tr>\n",
    "    <tr>\n",
    "        <td>Single line</td>\n",
    "        <td><code class=\"code-inline code-inline_theme_light\">.loc[1]</code></td>\n",
    "        <td>-</td>\n",
    "    </tr><tr>\n",
    "    <td>All lines starting from given</td>\n",
    "    <td><code class=\"code-inline code-inline_theme_light\">.loc[1:]</code></td>\n",
    "    <td><code class=\"code-inline code-inline_theme_light\">df[ 1:]</code></td>\n",
    "    </tr><tr>\n",
    "    <td>All lines up to the given one</td>\n",
    "    <td><code class=\"code-inline code-inline_theme_light\">.loc[:3 ]</code> including 3</td>\n",
    "    <td><code class=\"code-inline code-inline_theme_light\">df[:3]</code> not including 3</td>\n",
    "    </tr><tr> \n",
    "    <td>Several lines in a row (slice)</td>\n",
    "    <td><code class=\"code-inline code-inline_theme_light\">.loc[2:5]</code>including 5</td>\n",
    "    <td><code class=\"code-inline code-inline_theme_light\">df[2:5]</code> not including 5</td>\n",
    "    </tr></tbody></table>"
   ]
  },
  {
   "cell_type": "markdown",
   "id": "05bed9bd",
   "metadata": {},
   "source": [
    "It’s good to choose the direction of further searches by eye, but this way you won’t get exact numbers that can be included in the report. One must be able to count the number of certain values, for example, the number of rows that meet a condition. Pandas has the `count()` method for this."
   ]
  },
  {
   "cell_type": "markdown",
   "id": "f9e5bfd6",
   "metadata": {},
   "source": [
    "- find passengers who are under 21"
   ]
  },
  {
   "cell_type": "markdown",
   "id": "ef34319e",
   "metadata": {},
   "source": [
    "![jupyter](./pict/loccond.png)"
   ]
  },
  {
   "cell_type": "code",
   "execution_count": null,
   "id": "0a6d1508",
   "metadata": {},
   "outputs": [],
   "source": [
    "df.loc[df['Age'] < 21]['Age'].count()"
   ]
  },
  {
   "cell_type": "code",
   "execution_count": null,
   "id": "c7e9fb83-8e68-4969-8c1a-0b123b36f262",
   "metadata": {},
   "outputs": [],
   "source": [
    "df"
   ]
  },
  {
   "cell_type": "code",
   "execution_count": null,
   "id": "1a7d95d1-92e3-4e7e-af58-1a9e32b6e881",
   "metadata": {},
   "outputs": [],
   "source": [
    "df.loc[df['Age'] < 21]['Age'].mean()"
   ]
  },
  {
   "cell_type": "markdown",
   "id": "14c1d9cd",
   "metadata": {},
   "source": [
    "## Series object"
   ]
  },
  {
   "cell_type": "markdown",
   "id": "ee413014",
   "metadata": {},
   "source": [
    "In the table we've been looking at, each column by itself is not a DataFrame at all."
   ]
  },
  {
   "cell_type": "markdown",
   "id": "72e9fce0",
   "metadata": {},
   "source": [
    "Series is a one-dimensional table and its elements can be retrieved by index. Each index is the number of a single observation, and therefore several different Series together make up a DataFrame. A Series stores data of the same type."
   ]
  },
  {
   "cell_type": "markdown",
   "id": "01dcb786",
   "metadata": {},
   "source": [
    "![jupyter](./pict/ser1.png)"
   ]
  },
  {
   "cell_type": "markdown",
   "id": "3779c666",
   "metadata": {},
   "source": [
    "Each Series has a name (Name), information about the amount of data in the column (Length) and the type of data stored in it (dtype)."
   ]
  },
  {
   "cell_type": "markdown",
   "id": "5e762688",
   "metadata": {},
   "source": [
    "Indexing in a `Series` is similar to indexing the elements of a column in a `DataFrame`. Let's look at an example. Let's store the Pclass column in the `p_class` variable."
   ]
  },
  {
   "cell_type": "code",
   "execution_count": null,
   "id": "03094729",
   "metadata": {},
   "outputs": [],
   "source": [
    "p_class = df['Pclass'] "
   ]
  },
  {
   "cell_type": "code",
   "execution_count": null,
   "id": "9c137c6e",
   "metadata": {},
   "outputs": [],
   "source": [
    "p_class"
   ]
  },
  {
   "cell_type": "markdown",
   "id": "8576c8d5",
   "metadata": {},
   "source": [
    "Here is a table of different indexing options in `Series` shorthand."
   ]
  },
  {
   "cell_type": "markdown",
   "id": "6c830050",
   "metadata": {},
   "source": [
    "<table cellpadding=\"0\" cellspacing=\"0\"><thead><tr><th scope=\"col\">View</th><th scope=\"col\">Implementation</th><th scope=\" col\">Shortcut</th></tr></thead><tbody><tr><td>One element</td><td><code class=\"code-inline code-inline_theme_light\">p_class.loc[7]</code></td><td><code class=\"code-inline code-inline_theme_light\">p_class[7]</code></td></tr><tr><td> Multiple elements</td><td><code class=\"code-inline code-inline_theme_light\">p_class.loc[[5, 7, 10]]</code></td><td><code class=\" code-inline code-inline_theme_light\">p_class[[5, 7, 10]]</code></td></tr><tr><td>Multiple elements in a row (slice)</td><td><code class=\"code-inline code-inline_theme_light\">p_class.loc[5:10]</code> including 10</td><td><code class=\"code-inline code-inline_theme_light\">p_class[5: 10]</code> not including 10</td></tr><tr><td>All elements starting from given</td><td><code class=\"code-inline code-inline_theme_light\">p_class.loc[1:]</code></td><td><code class=\"code-inline code-inline_theme_light\" >p_class[1:]</code></td></tr><tr><td>All elements up to the given one</td><td><code class=\"code-inline code-inline_theme_light\">p_class.loc[:3]</code> including 3</td><td><code class=\"code-inline code-inline_theme_light\">p_class[:3]</code> not including 3</td></tr ></tbody></table>"
   ]
  },
  {
   "cell_type": "markdown",
   "id": "bfcd476b",
   "metadata": {},
   "source": [
    "## GIGO"
   ]
  },
  {
   "cell_type": "markdown",
   "id": "d4769dd7",
   "metadata": {},
   "source": [
    "The process of preparing data for further analysis is called preprocessing. It consists in finding problems that may be in the data, and in solving these problems."
   ]
  },
  {
   "cell_type": "markdown",
   "id": "21045e74",
   "metadata": {},
   "source": [
    "In computer science, the principle of GIGO (garbage in - garbage out) works. This means that with errors in the input data, even the correct work algorithm produces incorrect results."
   ]
  },
  {
   "cell_type": "code",
   "execution_count": null,
   "id": "5cbb66fc-3dd7-449d-b76e-fd8a24409da5",
   "metadata": {},
   "outputs": [],
   "source": [
    "df['Sex'].unique()"
   ]
  },
  {
   "cell_type": "code",
   "execution_count": null,
   "id": "1f6692c9",
   "metadata": {},
   "outputs": [],
   "source": [
    "df.head(25)"
   ]
  },
  {
   "cell_type": "markdown",
   "id": "ef5728d9",
   "metadata": {},
   "source": [
    "What immediately catches your eye?"
   ]
  },
  {
   "cell_type": "markdown",
   "id": "66270100",
   "metadata": {},
   "source": [
    "The catch can lie not only in the content of the column, but even in its `name`."
   ]
  },
  {
   "cell_type": "code",
   "execution_count": null,
   "id": "5b34a407",
   "metadata": {},
   "outputs": [],
   "source": [
    "df.loc[df['Sex']=='fm']"
   ]
  },
  {
   "cell_type": "markdown",
   "id": "3b7eb973",
   "metadata": {},
   "source": [
    "In general, there are two types of data problems:\n",
    "- the data contains garbage\n",
    "- the data are correct, but presented in such a form that they are of little use for analysis"
   ]
  },
  {
   "cell_type": "markdown",
   "id": "cae011f9",
   "metadata": {},
   "source": [
    "For example, a table with data on the distance from the Earth to celestial bodies (in millions of kilometers) can be presented in two versions:"
   ]
  },
  {
   "cell_type": "markdown",
   "id": "2d8ae1a4",
   "metadata": {},
   "source": [
    "![jupyter](./pict/gigo_table.png)"
   ]
  },
  {
   "cell_type": "markdown",
   "id": "e43f6589",
   "metadata": {},
   "source": [
    "## Garbage hunting"
   ]
  },
  {
   "cell_type": "markdown",
   "id": "c568747d",
   "metadata": {},
   "source": [
    "check the problems that we could find in the data\n",
    "- incorrect column naming\n",
    "- empty values\n",
    "- duplicates\n",
    "- invalid identifiers"
   ]
  },
  {
   "cell_type": "markdown",
   "id": "81d673aa",
   "metadata": {},
   "source": [
    "Let's start by calling the `info()` method to see a summary of the entire dataset."
   ]
  },
  {
   "cell_type": "code",
   "execution_count": null,
   "id": "2fa96e29",
   "metadata": {},
   "outputs": [],
   "source": [
    "df.info()"
   ]
  },
  {
   "cell_type": "markdown",
   "id": "ba781d85",
   "metadata": {},
   "source": [
    "#### Renaming columns"
   ]
  },
  {
   "cell_type": "markdown",
   "id": "3e79fd8c",
   "metadata": {},
   "source": [
    "In order to properly see the column names without distracting information, it is convenient to query the values of the `columns` attribute:"
   ]
  },
  {
   "cell_type": "code",
   "execution_count": null,
   "id": "d218fe3d",
   "metadata": {},
   "outputs": [],
   "source": [
    "df.columns = ['PassengerId', 'Survived', 'Pclass', 'Name', 'Sex', 'Age', 'SibSp',\n",
    "       'Parch', 'Ticket', 'Fare', 'Cabin', 'Embarked']"
   ]
  },
  {
   "cell_type": "markdown",
   "id": "6970b036",
   "metadata": {},
   "source": [
    "we see that some of the columns contain a dangerous space at the end"
   ]
  },
  {
   "cell_type": "markdown",
   "id": "99c3e0c2",
   "metadata": {},
   "source": [
    "To change the column names, use the set_axis() method. It takes three arguments:\n",
    "- list with new column names\n",
    "- axis — the axis to which the new names are being assigned: 'index' if they are given to rows, and 'columns' if this is a list of new column names\n",
    "- inplace. Takes the values `True` or `False`. In the first case, the `set_axis()` method rearranges the data structure so that it replaces the previous one in a variable of the same name"
   ]
  },
  {
   "cell_type": "markdown",
   "id": "ff60e791",
   "metadata": {},
   "source": [
    "![jupyter](./pict/column_change.png)"
   ]
  },
  {
   "cell_type": "code",
   "execution_count": null,
   "id": "e5e45e7f",
   "metadata": {},
   "outputs": [],
   "source": [
    "df.set_axis(['PassengerId', 'Survived', 'Pclass', 'Name', 'Sex', 'Age', 'SibSp',\n",
    "             'Parch', 'Ticket', 'Fare', 'Cabin', 'Embarked'], axis = 'columns', inplace = True) "
   ]
  },
  {
   "cell_type": "code",
   "execution_count": null,
   "id": "93cb5b11-ef1e-463c-b07b-cf34cdbf35cf",
   "metadata": {},
   "outputs": [],
   "source": [
    "df.columns = ['PassengerId', 'Survived', 'Pclass', 'Name', 'Sex', 'Age', 'SibSp',\n",
    "       'Parch', 'Ticket', 'Fare', 'Cabin', 'Embarked']"
   ]
  },
  {
   "cell_type": "code",
   "execution_count": null,
   "id": "8bebe2fa-ae67-47f8-9bad-96fb04d8e10b",
   "metadata": {},
   "outputs": [],
   "source": [
    "list1 = df.columns.tolist()\n",
    "\n",
    "for ran in list1:\n",
    "    str(ran).replace('','_')"
   ]
  },
  {
   "cell_type": "markdown",
   "id": "a6f90f8f",
   "metadata": {},
   "source": [
    "#### Handling Missing Values"
   ]
  },
  {
   "cell_type": "markdown",
   "id": "cd32def9",
   "metadata": {},
   "source": [
    "There are three types of missing value replacements in a DataFrame:\n",
    "- Expected: <b>None</b> or <b>NaN</b>. `None` is the equivalent of null in other programming languages: a special value that indicates that there is no value in this table cell. None refers to `NoneType`. `NaN` means that the cell contains \"not a number\". The main difference of NaN is that it can be used in mathematical operations, since it is a floating point number by type.\n",
    "- Strange: placeholders (placeholder texts) of some generally accepted standard, sometimes unknown to you, but which the compilers adhere to. Most often these are `n/a`, `na`, `NA`, and `N.N`. or `N.N`.\n",
    "- Unexpected: for example, the developers decided that empty values ​​in the table would be filled with question marks or zeros. At best, this fact will be indicated in the documentation, at worst, you will have to look at the data yourself. If some special character or number occurs frequently, and there is no clear explanation for this, then there is a high probability that missing values are transmitted in this way."
   ]
  },
  {
   "cell_type": "markdown",
   "id": "bd068c53",
   "metadata": {},
   "source": [
    "You can count the missing values in each column using the `.isnull()` method. If the element's value does not exist, `.isnull()` returns `True`, otherwise it returns `False`. These True are summed up by calling the `sum()` method, which in this case returns the total number of elements without defined values."
   ]
  },
  {
   "cell_type": "code",
   "execution_count": null,
   "id": "e6652e1c-5ab8-4c91-b314-c4565b8a6a49",
   "metadata": {},
   "outputs": [],
   "source": [
    "df.isnull()"
   ]
  },
  {
   "cell_type": "code",
   "execution_count": null,
   "id": "3e196b8d",
   "metadata": {},
   "outputs": [],
   "source": [
    "print(df.isnull().sum()) "
   ]
  },
  {
   "cell_type": "markdown",
   "id": "a879744a",
   "metadata": {},
   "source": [
    "The isna() method, which counts empty values, is also suitable. The missing values in the table are qualitative, so this method will find them all."
   ]
  },
  {
   "cell_type": "code",
   "execution_count": null,
   "id": "66ec787b",
   "metadata": {},
   "outputs": [],
   "source": [
    "print(df.isna().sum()) "
   ]
  },
  {
   "cell_type": "code",
   "execution_count": null,
   "id": "2ab8286a",
   "metadata": {},
   "outputs": [],
   "source": [
    "print(df.isna().sum()/len(df)*100) "
   ]
  },
  {
   "cell_type": "markdown",
   "id": "c65b91ee",
   "metadata": {},
   "source": [
    "The method of dealing with missing values that you choose should take into account the interests of solving the business end problem. In general, there are two ways: fill in the missing values based on the data you have, or delete all rows with missing values."
   ]
  },
  {
   "cell_type": "markdown",
   "id": "cc9f7651",
   "metadata": {},
   "source": [
    "In order not to lose rows with important data, fill in the `NaN` values in the Age `-1` column."
   ]
  },
  {
   "attachments": {
    "abc10901-f3af-4902-9ad9-7613ecb437e0.png": {
     "image/png": "[encoded data removed]"
    }
   },
   "cell_type": "markdown",
   "id": "e5ff3cfa",
   "metadata": {},
   "source": [
    "![fillna.png](attachment:abc10901-f3af-4902-9ad9-7613ecb437e0.png)![jupyter](./pict/fillna.png)"
   ]
  },
  {
   "cell_type": "code",
   "execution_count": null,
   "id": "c41e3af8",
   "metadata": {},
   "outputs": [],
   "source": [
    "df['Age'] = df['Age'].fillna(-1)"
   ]
  },
  {
   "cell_type": "markdown",
   "id": "c7a762fd",
   "metadata": {},
   "source": [
    "Rows with null values are discarded using the `dropna()` method. It removes any line where there is at least one missing value."
   ]
  },
  {
   "cell_type": "markdown",
   "id": "8b621b49",
   "metadata": {},
   "source": [
    "This method has arguments:\n",
    "- subset = [  ]. Its value indicates the names of the columns where to look for gaps.\n",
    "- Already familiar to us inplace."
   ]
  },
  {
   "cell_type": "code",
   "execution_count": null,
   "id": "fc5657f3",
   "metadata": {},
   "outputs": [],
   "source": [
    "df.dropna(subset = ['Age', 'Fare'], inplace = True) "
   ]
  },
  {
   "cell_type": "markdown",
   "id": "137e9524",
   "metadata": {},
   "source": [
    "![jupyter](./pict/dropna.png)"
   ]
  },
  {
   "cell_type": "markdown",
   "id": "5da7bee1",
   "metadata": {},
   "source": [
    "to remove all columns with empty value in a table, just use the `axis` argument. If this argument is set to `columns`, it will remove any column that has at least one empty value."
   ]
  },
  {
   "cell_type": "markdown",
   "id": "54eba30b",
   "metadata": {},
   "source": [
    "![jupyter](./pict/dropnaaxis.png)"
   ]
  },
  {
   "cell_type": "code",
   "execution_count": null,
   "id": "f07b7f83",
   "metadata": {},
   "outputs": [],
   "source": [
    "df.dropna(axis = 'columns', inplace = True) "
   ]
  },
  {
   "cell_type": "markdown",
   "id": "24133851",
   "metadata": {},
   "source": [
    "#### Duplicate Handling"
   ]
  },
  {
   "cell_type": "markdown",
   "id": "1d2648c7",
   "metadata": {},
   "source": [
    "Rough duplicates - repetitions - are detected by the `duplicated()` method. It returns a `Series` that is True if there are duplicates and False if there are none."
   ]
  },
  {
   "cell_type": "code",
   "execution_count": null,
   "id": "9ff83b03",
   "metadata": {},
   "outputs": [],
   "source": [
    "print(df.duplicated().sum())"
   ]
  },
  {
   "cell_type": "markdown",
   "id": "8d019d82",
   "metadata": {},
   "source": [
    "There is a method to remove duplicates:"
   ]
  },
  {
   "cell_type": "code",
   "execution_count": null,
   "id": "172295e8",
   "metadata": {},
   "outputs": [],
   "source": [
    "df.drop_duplicates(inplace = True) "
   ]
  },
  {
   "cell_type": "markdown",
   "id": "cb9013bd",
   "metadata": {},
   "source": [
    "When the `drop_duplicates()` method is called, their indexes are removed along with the duplicate rows.\n",
    "The sequence of indices is broken: 0 is followed by 2, and so on."
   ]
  },
  {
   "cell_type": "markdown",
   "id": "1d5e3167",
   "metadata": {},
   "source": [
    "Therefore, the `drop_duplicates()` call is chained with the `reset_index()` method call. Then a new DataFrame is created, where the old indexes are turned into a regular column called index, and the indexes of all rows again follow in natural order.\n",
    "If we do not want to create a new index column, then when calling `reset_index()`, the `drop argument` is passed with a value of `True`. All indices are rewritten in ascending order, without gaps."
   ]
  },
  {
   "cell_type": "markdown",
   "id": "966ce242",
   "metadata": {},
   "source": [
    "Here is the code that saves the table, cleaned of duplicates, with new indexing, in the df variable."
   ]
  },
  {
   "cell_type": "code",
   "execution_count": null,
   "id": "15481332",
   "metadata": {},
   "outputs": [],
   "source": [
    "df = df.drop_duplicates().reset_index(drop=True) "
   ]
  },
  {
   "cell_type": "markdown",
   "id": "928b5658",
   "metadata": {},
   "source": [
    "![jupyter](./pict/dropdup.png)"
   ]
  },
  {
   "cell_type": "markdown",
   "id": "9604e82a",
   "metadata": {},
   "source": [
    "Duplicate category names are harder to track down, but still possible. To view all unique values in a column, use the `unique()` method."
   ]
  },
  {
   "cell_type": "code",
   "execution_count": null,
   "id": "e546ec29",
   "metadata": {},
   "outputs": [],
   "source": [
    "df['Sex'].unique()"
   ]
  },
  {
   "cell_type": "code",
   "execution_count": null,
   "id": "0fb9f752-cd1f-43b2-a8ca-973277e05d25",
   "metadata": {},
   "outputs": [],
   "source": [
    "n = n /10000"
   ]
  },
  {
   "cell_type": "markdown",
   "id": "0b2088ef",
   "metadata": {},
   "source": [
    "We need to replace this artifact (sex = fm) with the correct one.\n",
    "Such tasks are solved by the `replace()` method, where the first argument is the current value, and the second is the new, desired one."
   ]
  },
  {
   "cell_type": "code",
   "execution_count": null,
   "id": "90d2a3d7",
   "metadata": {},
   "outputs": [],
   "source": [
    "df['Sex'] = df['Sex'].replace(' ', '').replace('fm', 'female') "
   ]
  },
  {
   "cell_type": "code",
   "execution_count": null,
   "id": "db822480",
   "metadata": {},
   "outputs": [],
   "source": [
    "df['Sex'].unique()"
   ]
  },
  {
   "cell_type": "code",
   "execution_count": null,
   "id": "e7d18a80-a889-4ec8-9f0d-26ce5ad5c3ce",
   "metadata": {},
   "outputs": [],
   "source": []
  }
 ],
 "metadata": {
  "kernelspec": {
   "display_name": "Python 3 (ipykernel)",
   "language": "python",
   "name": "python3"
  },
  "language_info": {
   "codemirror_mode": {
    "name": "ipython",
    "version": 3
   },
   "file_extension": ".py",
   "mimetype": "text/x-python",
   "name": "python",
   "nbconvert_exporter": "python",
   "pygments_lexer": "ipython3",
   "version": "3.10.9"
  }
 },
 "nbformat": 4,
 "nbformat_minor": 5
}
