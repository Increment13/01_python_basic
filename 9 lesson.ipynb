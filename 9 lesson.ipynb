{
 "cells": [
  {
   "cell_type": "markdown",
   "id": "2925c688",
   "metadata": {},
   "source": [
    "# Cleanliness is the key to success"
   ]
  },
  {
   "cell_type": "markdown",
   "id": "5fdcd335",
   "metadata": {},
   "source": [
    "The basic, cornerstone concept in OOP is an object. This is such a kind of container in which data is added and actions that can be performed with this data are prescribed.\n",
    "\n",
    "To understand why objects are so useful and why they were invented, let's compare OOP with another development technique - procedural. In it, all code can be divided into two types: the main program and auxiliary functions that can be called both by the program and by other functions:"
   ]
  },
  {
   "cell_type": "markdown",
   "id": "df6fa315",
   "metadata": {},
   "source": [
    "![jupyter](./pict/func.png)"
   ]
  },
  {
   "cell_type": "markdown",
   "id": "fb29f67c",
   "metadata": {},
   "source": [
    "If we change any function, then the rest of the code may not be ready for this - and will break. Then you have to rewrite them too, and they, in turn, are tied to other functions. In general, it will be easier to write a new program from scratch.\n",
    "\n",
    "Also, in procedural programming, it is not uncommon to duplicate code to write similar functions with slight differences. For example, to keep different parts of the program compatible with each other."
   ]
  },
  {
   "cell_type": "markdown",
   "id": "f4b2df9a",
   "metadata": {},
   "source": [
    "The OOP logic is completely different: the main plug-in functions, objects, already have their own variables and functions inside. This creates a more hierarchical structure. Variable internal objects by properties or properties, and functions are methods."
   ]
  },
  {
   "cell_type": "markdown",
   "id": "f2117e83",
   "metadata": {},
   "source": [
    "![jupyter](./pict/oop.png)"
   ]
  },
  {
   "cell_type": "markdown",
   "id": "7631b73e",
   "metadata": {},
   "source": [
    "Objects are independent of each other and self-sufficient, so if we break something in one object, it will not affect others in any way. Moreover, even if we completely change the content of the object, but keep its behavior, all the code will continue to work."
   ]
  },
  {
   "cell_type": "markdown",
   "id": "bcaaf489",
   "metadata": {},
   "source": [
    "# How classes work"
   ]
  },
  {
   "cell_type": "markdown",
   "id": "7e59468b",
   "metadata": {},
   "source": [
    "Each object in OOP is built on a specific class - an abstract model that describes what the object consists of and what can be done with it.\n",
    "\n",
    "For example, we have a class \"cat\", which has the attributes \"breed\", \"color\", \"age\" and the methods \"meow\", \"purr\", \"wash\", \"sleep\". By assigning certain values to attributes, you can create very specific objects."
   ]
  },
  {
   "cell_type": "markdown",
   "id": "71aadbdc",
   "metadata": {},
   "source": [
    "Let's say:\n",
    "\n",
    "- Breed = Abyssinian.\n",
    "- Color = red.\n",
    "- Age = 4.\n",
    "This way we can create as many different cats as we like:"
   ]
  },
  {
   "cell_type": "markdown",
   "id": "a7639681",
   "metadata": {},
   "source": [
    "![jupyter](./pict/cat.png)"
   ]
  },
  {
   "cell_type": "markdown",
   "id": "ef0ba15f",
   "metadata": {},
   "source": [
    "At the same time, any object of the “cat” class (it doesn’t matter if it is red, gray or black) will meow, purr, wash and sleep - if we write the appropriate methods."
   ]
  },
  {
   "cell_type": "markdown",
   "id": "25a25b83",
   "metadata": {},
   "source": [
    "#### All object-oriented programming is based on four concepts."
   ]
  },
  {
   "cell_type": "markdown",
   "id": "3c2d5a5a",
   "metadata": {},
   "source": [
    "`Abstraction.` When creating a class, we simplify it to those attributes and methods that are needed in this particular code, without trying to describe it in its entirety and discarding everything secondary. Let's say that all cats theoretically know how to hunt, but if our program is not designed to catch mice, then there is no need to prescribe this method."
   ]
  },
  {
   "cell_type": "markdown",
   "id": "ff2363d9",
   "metadata": {},
   "source": [
    "`Encapsulation.` Access to object data must be controlled so that the user cannot change them arbitrarily and break something."
   ]
  },
  {
   "cell_type": "markdown",
   "id": "4dc12c5a",
   "metadata": {},
   "source": [
    "`Inheritance.` Classes can pass their attributes and methods to descendant classes. For example, let's say we want to create a new class called \"domestic cat\". It is almost identical to the \"cat\" class, but it has new \"owner\" and \"name\" attributes, as well as a \"beg for a yummy\" method. It is enough to declare the \"domestic cat\" the heir of the \"cat\" and prescribe new attributes and methods - all the rest of the functionality will pass from the parent to the child."
   ]
  },
  {
   "cell_type": "markdown",
   "id": "4741131b",
   "metadata": {},
   "source": [
    "`Polymorphism.` This principle allows you to apply the same commands to objects of different classes, even if they are executed differently. For example, in addition to the cat class, we have an unrelated parrot class - and both have a sleep method."
   ]
  },
  {
   "cell_type": "markdown",
   "id": "b193c460",
   "metadata": {},
   "source": [
    "# Classes in Python: Practice"
   ]
  },
  {
   "cell_type": "markdown",
   "id": "961c5299",
   "metadata": {},
   "source": [
    "Imagine the situation: you were invited to a pretentious party in a closed club. There is a rather strange etiquette there:\n",
    "at different times, everyone should drink strictly certain drinks.\n",
    "And any of them, depending on the situation, everyone drinks in a certain way:\n",
    " - or regular sips of 20 ml,\n",
    " - or small by 10,\n",
    " - or in one gulp all that's left."
   ]
  },
  {
   "cell_type": "markdown",
   "id": "feb3830b",
   "metadata": {},
   "source": [
    "Any drink has attributes: name, cost in euros and volume in milliliters"
   ]
  },
  {
   "cell_type": "markdown",
   "id": "07a1aeb3",
   "metadata": {},
   "source": [
    "Suppose that at our party it is customary to always drink from dishes of the same volume (200 ml), and other attributes can change from drink to drink."
   ]
  },
  {
   "cell_type": "code",
   "execution_count": null,
   "id": "41658f6d",
   "metadata": {},
   "outputs": [],
   "source": [
    "class Drink:\n",
    "    # Assign a value to a static attribute.\n",
    "    volume = 200\n",
    "\n",
    "    # Create a method to initialize the object.\n",
    "    def __init__(self, name, price):\n",
    "        #Assign values to dynamic attributes.\n",
    "        self.name = name \n",
    "        self.price = price"
   ]
  },
  {
   "cell_type": "markdown",
   "id": "000e99d5",
   "metadata": {},
   "source": [
    "The `__init__` method is the class initializer. It is called immediately after object creation to assign values to dynamic attributes. `self` is a reference to the current object, it gives access to the attributes and methods you are working with."
   ]
  },
  {
   "cell_type": "markdown",
   "id": "9cfff9a0",
   "metadata": {},
   "source": [
    "Let's create a `coffee` object - an instance of the `Drink` class. In our example, creating a new object means ordering a new drink:"
   ]
  },
  {
   "cell_type": "code",
   "execution_count": null,
   "id": "88c67f7e",
   "metadata": {},
   "outputs": [],
   "source": [
    "coffee = Drink ('Mokka', 2)"
   ]
  },
  {
   "cell_type": "markdown",
   "id": "e0395daa",
   "metadata": {},
   "source": [
    "We now have a `coffee` object that contains the static `volume` attribute, which is obtained from the `Drink` class, and the dynamic `name` and `price` attributes that we specified when we created the object. Let's try to contact them:"
   ]
  },
  {
   "cell_type": "code",
   "execution_count": null,
   "id": "819a9aa6",
   "metadata": {},
   "outputs": [],
   "source": [
    "print (coffee.name)\n",
    "print (coffee.price)\n",
    "print (coffee.volume)"
   ]
  },
  {
   "cell_type": "markdown",
   "id": "f91bf4b2",
   "metadata": {},
   "source": [
    "Since static attributes are defined at the class level, they can be accessed not only through the object, but also through the class itself:"
   ]
  },
  {
   "cell_type": "code",
   "execution_count": null,
   "id": "39453cc4",
   "metadata": {},
   "outputs": [],
   "source": [
    "Drink.volume"
   ]
  },
  {
   "cell_type": "markdown",
   "id": "405049c7",
   "metadata": {},
   "source": [
    "We cannot refer to dynamic attributes in this way."
   ]
  },
  {
   "cell_type": "markdown",
   "id": "b526bd3e",
   "metadata": {},
   "source": [
    "So, the drink is ordered, and something needs to be done with it. To do this, add another method inside the Drink class:"
   ]
  },
  {
   "cell_type": "code",
   "execution_count": null,
   "id": "e0d9a41a",
   "metadata": {},
   "outputs": [],
   "source": [
    "class Drink:\n",
    "\n",
    "    volume = 200\n",
    "\n",
    "    def __init__ (self, name, price):\n",
    "        self.name = name \n",
    "        self.price = price\n",
    "\n",
    "    # Method to request information about a drink.\n",
    "    def drink_info (self):\n",
    "        print (f'Named: \"{self.name}\". Price: {self.price} EUR. volume: {self.volume} ml')"
   ]
  },
  {
   "cell_type": "code",
   "execution_count": null,
   "id": "869cd541",
   "metadata": {},
   "outputs": [],
   "source": [
    "coffee = Drink ('Mokka', 2)"
   ]
  },
  {
   "cell_type": "code",
   "execution_count": null,
   "id": "9476fe85",
   "metadata": {},
   "outputs": [],
   "source": [
    "coffee.drink_info()"
   ]
  },
  {
   "cell_type": "markdown",
   "id": "c6ba388f",
   "metadata": {},
   "source": [
    "We take our first sip. To do this, we need another dynamic attribute remains, informing us how many milliliters of the drink are left. Initially, the remainder will be equal to the volume of dishes. After that, we prescribe a method indicating how much to swallow specifically in accordance with etiquette:"
   ]
  },
  {
   "cell_type": "code",
   "execution_count": null,
   "id": "c9545c08",
   "metadata": {},
   "outputs": [],
   "source": [
    "class Drink:\n",
    "\n",
    "    volume = 200\n",
    "\n",
    "    def __init__(self, name, price):\n",
    "        self.name = name \n",
    "        self.price = price\n",
    "        # Set the initial value of the attribute remains.\n",
    "        self.remains = self.volume\n",
    "    \n",
    "    def drink_info(self):\n",
    "        # Add information about the rest of the drink to the drink_info method.\n",
    "        print (f'Named: \"{self.name}\". Price: {self.price} EUR. volume: {self.volume} ml. Remains: {self.remains} ml')\n",
    "    \n",
    "    # Method, for drinking.\n",
    "    def sip(self):\n",
    "        # Check if there is enough drink left.\n",
    "        if self.remains >= 20:\n",
    "            self.remains -= 20\n",
    "            print ('drinking')\n",
    "        # If there is not enough drink, let us know.\n",
    "        else:\n",
    "            print ('Not enough drink')"
   ]
  },
  {
   "cell_type": "code",
   "execution_count": null,
   "id": "7eb70a72",
   "metadata": {},
   "outputs": [],
   "source": [
    "coffee = Drink ('Mokka', 2)"
   ]
  },
  {
   "cell_type": "code",
   "execution_count": null,
   "id": "3430cd1b",
   "metadata": {},
   "outputs": [],
   "source": [
    "coffee.sip()"
   ]
  },
  {
   "cell_type": "code",
   "execution_count": null,
   "id": "e11cb616",
   "metadata": {},
   "outputs": [],
   "source": [
    "coffee.drink_info()"
   ]
  },
  {
   "cell_type": "markdown",
   "id": "a5dfbde1",
   "metadata": {},
   "source": [
    "# Access levels in Python"
   ]
  },
  {
   "cell_type": "markdown",
   "id": "65a389b7",
   "metadata": {},
   "source": [
    "So that we do not have to check every time whether there is enough drink for the desired sip, we will write the _is_enough utility method. Then we rewrite the sip method and add the small_sip and drink_all methods:"
   ]
  },
  {
   "cell_type": "code",
   "execution_count": null,
   "id": "57720676",
   "metadata": {},
   "outputs": [],
   "source": [
    "class Drink:\n",
    "\n",
    "    volume = 200\n",
    "\n",
    "    def __init__(self, name, price):\n",
    "        self.name = name \n",
    "        self.price = price\n",
    "        # Set the initial value of the attribute remains.\n",
    "        self.remains = self.volume\n",
    "    \n",
    "    def drink_info(self):\n",
    "        # Add information about the rest of the drink to the drink_info method.\n",
    "        print (f'Named: \"{self.name}\". Price: {self.price} EUR. volume: {self.volume} ml. Remains: {self.remains} ml.')\n",
    "\n",
    "    # Utility method to see if the drink is enough.\n",
    "    def _is_enough(self, need):\n",
    "        if self.remains >= need and self.remains > 0:\n",
    "            return True\n",
    "        print ('Not enough drink left')\n",
    "        return False\n",
    "    \n",
    "    # Take a sip.\n",
    "    def sip(self):\n",
    "        if self._is_enough(20) == True:\n",
    "            self.remains -= 20\n",
    "            print ('Take a sip')\n",
    "            \n",
    "    # Take a small sip.\n",
    "    def small_sip(self):\n",
    "        if self._is_enough(10) == True:\n",
    "            self.remains -= 10\n",
    "            print ('Take a small sip')\n",
    "    \n",
    "    # Drink a drink in one gulp.\n",
    "    def drink_all(self):\n",
    "        if self._is_enough(0) == True:\n",
    "            self.remains = 0\n",
    "            print ('Drink a drink in one gulp')"
   ]
  },
  {
   "cell_type": "code",
   "execution_count": null,
   "id": "02393e5f",
   "metadata": {},
   "outputs": [],
   "source": [
    "coffee = Drink ('Cappuccino', 1.6) # Ordering coffee.\n",
    "coffee.remains = 10 # Equate the rest of the coffee to 10 ml."
   ]
  },
  {
   "cell_type": "code",
   "execution_count": null,
   "id": "9e912537",
   "metadata": {},
   "outputs": [],
   "source": [
    "#Trying to take a normal sip.\n",
    "coffee.sip()"
   ]
  },
  {
   "cell_type": "code",
   "execution_count": null,
   "id": "366d62d9",
   "metadata": {},
   "outputs": [],
   "source": [
    "#Learn information about the drink.\n",
    "coffee.drink_info()"
   ]
  },
  {
   "cell_type": "markdown",
   "id": "536b48a3",
   "metadata": {},
   "source": [
    "Pay attention to another nuance: in the line coffee. `remains = 10`, we interfered with the object from the outside and equated its remains attribute to 10. This was possible because all attributes and methods in Python are `public by default`, that is, accessible from the outside."
   ]
  },
  {
   "cell_type": "markdown",
   "id": "2bc89b16",
   "metadata": {},
   "source": [
    "In order to regulate interference in the internal work of an object, OOP has several levels of access: `public`, `protected` and `private`. Protected attributes and methods can only be called within the class and its descendant classes. Private - only inside the class: even heirs do not have access to them."
   ]
  },
  {
   "cell_type": "markdown",
   "id": "b1bc975f",
   "metadata": {},
   "source": [
    "In Python, this is implemented as follows: `protected` attributes and methods are preceded by a single underscore `(_example)`, and `private` ones are preceded by a double underscore `(__example)`. This is exactly what we did in the _is_enough method. With a single underscore, we declared it protected."
   ]
  },
  {
   "cell_type": "markdown",
   "id": "508aef80",
   "metadata": {},
   "source": [
    "At the same time, in Python, the declaration of attributes and methods as protected and private does not in itself restrict access to them from the outside. We can still call the `_is_enough` method from anywhere in the program:"
   ]
  },
  {
   "cell_type": "code",
   "execution_count": null,
   "id": "6bde7c9b",
   "metadata": {},
   "outputs": [],
   "source": [
    "coffee._is_enough(10)"
   ]
  },
  {
   "cell_type": "markdown",
   "id": "8e160060",
   "metadata": {},
   "source": [
    "Attributes and methods declared private can no longer be called directly, but there is a workaround:"
   ]
  },
  {
   "cell_type": "code",
   "execution_count": null,
   "id": "b47a035b",
   "metadata": {},
   "outputs": [],
   "source": [
    "class Drink:\n",
    "    __volume = 200"
   ]
  },
  {
   "cell_type": "code",
   "execution_count": null,
   "id": "57818623",
   "metadata": {},
   "outputs": [],
   "source": [
    "coffee = Drink()\n",
    "coffee._Drink__volume"
   ]
  },
  {
   "cell_type": "markdown",
   "id": "d2bc1105",
   "metadata": {},
   "source": [
    "<div class='alert alert-warning'>\n",
    "The ability to ignore access levels is a violation of the principle of encapsulation, which is important for OOP. Therefore, despite the technical possibility, Python programmers have agreed not to access protected and private methods from outside.\n",
    "</div>"
   ]
  },
  {
   "cell_type": "markdown",
   "id": "92fa92f8",
   "metadata": {},
   "source": [
    "So we will also declare the volume and remains attributes protected to remember that they should only be used inside the Drink class and its descendants. Now everything looks like this:"
   ]
  },
  {
   "cell_type": "code",
   "execution_count": null,
   "id": "650a6e24",
   "metadata": {},
   "outputs": [],
   "source": [
    "class Drink:\n",
    "    \n",
    "    _volume = 200\n",
    "    \n",
    "    def __init__(self, name, price):\n",
    "        self.name = name \n",
    "        self.price = price\n",
    "        self._remains = self._volume\n",
    "    \n",
    "    def drink_info(self):\n",
    "        print (f'Named: \"{self.name}\". Price: {self.price} EUR. volume: {self._volume} ml. Remains: {self._remains} ml.')\n",
    "    \n",
    "    def _is_enough(self, need):\n",
    "        if self._remains >= need and self._remains > 0:\n",
    "            return True\n",
    "        print ('Not enough drink left')\n",
    "        return False\n",
    "    \n",
    "    def sip(self):\n",
    "        if self._is_enough(20) == True:\n",
    "            self._remains -= 20\n",
    "            print ('Take a sip')\n",
    "            \n",
    "    def small_sip(self):\n",
    "        if self._is_enough(10) == True:\n",
    "            self._remains -= 10\n",
    "            print ('Take a small sip')\n",
    "    \n",
    "    def drink_all(self):\n",
    "        if self._is_enough(0) == True:\n",
    "            self._remains = 0\n",
    "            print ('Drink a drink in one gulp')"
   ]
  },
  {
   "cell_type": "markdown",
   "id": "bf398138",
   "metadata": {},
   "source": [
    "# Inheritance in Python"
   ]
  },
  {
   "cell_type": "markdown",
   "id": "344fb6b2",
   "metadata": {},
   "source": [
    "### Juice time announced!"
   ]
  },
  {
   "cell_type": "markdown",
   "id": "8689a3f1",
   "metadata": {},
   "source": [
    "Juice, at first glance, is a drink like a drink: it can also be drunk in sips and in one gulp, it has a price and volume. Unlike any drink, juice has a new, specific attribute that is not supported by the Drink class - the taste of the fruit or berry from which it is squeezed."
   ]
  },
  {
   "cell_type": "markdown",
   "id": "d796d0cd",
   "metadata": {},
   "source": [
    "You can, of course, completely copy the Drink class and change everything that we need in this copy. But we will do it more elegantly - we will create a Juice class and make it a successor of the Drink class:"
   ]
  },
  {
   "cell_type": "code",
   "execution_count": null,
   "id": "3f2183c1",
   "metadata": {},
   "outputs": [],
   "source": [
    "# We create a child class and indicate in parentheses the parent class from which we inherit.\n",
    "class Juice(Drink):\n",
    "\n",
    "    def __init__(self, name, price, taste):        \n",
    "        super().__init__(name, price)\n",
    "        self.taste = taste"
   ]
  },
  {
   "cell_type": "markdown",
   "id": "d66581ef",
   "metadata": {},
   "source": [
    "<div class='alert alert-warning'>\n",
    "Please note that from the descendant class, we cannot directly access the private attributes and methods of the parent class.\n",
    "</div>"
   ]
  },
  {
   "cell_type": "markdown",
   "id": "a5402865",
   "metadata": {},
   "source": [
    "We create an object of the Juice class and call methods inherited from the parent Drink class in it:"
   ]
  },
  {
   "cell_type": "code",
   "execution_count": null,
   "id": "9f59a375",
   "metadata": {},
   "outputs": [],
   "source": [
    "apple_juice = Juice ('Juice', 1.25, 'apple')"
   ]
  },
  {
   "cell_type": "code",
   "execution_count": null,
   "id": "aa0715a1",
   "metadata": {},
   "outputs": [],
   "source": [
    "apple_juice.small_sip()"
   ]
  },
  {
   "cell_type": "code",
   "execution_count": null,
   "id": "b7ea0452",
   "metadata": {},
   "outputs": [],
   "source": [
    "apple_juice.sip()"
   ]
  },
  {
   "cell_type": "code",
   "execution_count": null,
   "id": "a41fee65",
   "metadata": {},
   "outputs": [],
   "source": [
    "apple_juice.drink_info()"
   ]
  },
  {
   "cell_type": "markdown",
   "id": "d065f3c7",
   "metadata": {},
   "source": [
    "Now let's look at the `name` attribute. In the `Drink class`, when we could order anything from coffee and tea to a cocktail, it made sense to specify the name of the drink each time. But in the `Juice class`, the name will always be the same: \"juice\". Then why ask for the name attribute all the time when ordering juice?\n",
    "\n",
    "Let's override the `__init__` method in the Juice class: let the value of the `name` attribute always be \"juice\". And then order apple juice again:"
   ]
  },
  {
   "cell_type": "code",
   "execution_count": null,
   "id": "bede737e",
   "metadata": {},
   "outputs": [],
   "source": [
    "class Juice (Drink):\n",
    "\n",
    "    _juice_name = 'juice'    \n",
    "\n",
    "    def __init__ (self, price, taste):\n",
    "        super().__init__(self._juice_name, price)\n",
    "        self.taste = taste"
   ]
  },
  {
   "cell_type": "code",
   "execution_count": null,
   "id": "8673218a",
   "metadata": {},
   "outputs": [],
   "source": [
    "apple_juice = Juice(1.25, 'apple')"
   ]
  },
  {
   "cell_type": "markdown",
   "id": "d007ae78",
   "metadata": {},
   "source": [
    "### What exactly happens when an apple_juice object is created?"
   ]
  },
  {
   "cell_type": "markdown",
   "id": "22418e0b",
   "metadata": {},
   "source": [
    "1. We call the initializer of the `Juice class` and pass it the `price` and `taste` arguments in parentheses.\n",
    "\n",
    "2. The initializer of the `Juice class`, using the `super()` function, calls another initializer - the parent `class Drink`.\n",
    "\n",
    "3. The `Drink class` initializer asks for `name` and `price` arguments to be passed to it. As the `name` argument, it receives the `_juice_name` static attribute, which we have written in the `Juice class`. And the `price` argument is pulled from the initializer of the `Juice class`.\n",
    "\n",
    "4. In the `Drink class` initializer, the `name`, `price`, and `_remains` attributes are assigned values.\n",
    "\n",
    "5. In the `Juice class` initializer, the `taste` attribute is assigned a value."
   ]
  },
  {
   "cell_type": "markdown",
   "id": "212024d7",
   "metadata": {},
   "source": [
    "But look what happens when we ask for information about an instance of the Juice class:"
   ]
  },
  {
   "cell_type": "code",
   "execution_count": null,
   "id": "46f46575",
   "metadata": {},
   "outputs": [],
   "source": [
    "apple_juice = Juice(1.25, 'apple')\n",
    "apple_juice.drink_info()"
   ]
  },
  {
   "cell_type": "markdown",
   "id": "ff6beb6a",
   "metadata": {},
   "source": [
    "we know that we drink juice, but does not say which one. To get more information, let's override the drink_info method of the parent class:"
   ]
  },
  {
   "cell_type": "code",
   "execution_count": null,
   "id": "1b9f817c",
   "metadata": {},
   "outputs": [],
   "source": [
    "class Juice(Drink):\n",
    "\n",
    "    _juice_name = 'juice'    \n",
    "\n",
    "    def __init__(self, price, taste):\n",
    "        super().__init__ (self._juice_name, price)\n",
    "        self.taste = taste\n",
    "\n",
    "    def drink_info(self):\n",
    "        print (f'Taste: {self.taste}. Price: {self.price} EUR. volume: {self._volume} ml. Remains: {self._remains} ml.')"
   ]
  },
  {
   "cell_type": "code",
   "execution_count": null,
   "id": "cd7ccb99",
   "metadata": {},
   "outputs": [],
   "source": [
    "apple_juice = Juice(1.25, 'apple')\n",
    "apple_juice.drink_info()"
   ]
  },
  {
   "cell_type": "markdown",
   "id": "585efa84",
   "metadata": {},
   "source": [
    "So we implemented the principle of polymorphism. It doesn't matter what we drink: coffee or juice, we can request information about a drink with the same drink_info command."
   ]
  },
  {
   "cell_type": "markdown",
   "id": "eb1c6ece",
   "metadata": {},
   "source": [
    "The party is slowly coming to an end. The time for juices has passed, and everyone is now free to drink what they want. Visitors are suddenly taken aback by a new venture. Sit down, they say, at the tables in accordance with the cost of the drink you just ordered. Everyone starts shouting how much the glasses are in their hands, and the waiters take them to new places."
   ]
  },
  {
   "cell_type": "markdown",
   "id": "5e18580a",
   "metadata": {},
   "source": [
    "Since you can declare a price for any drink, let's write the `tell_price` method in the `Drink class` - and the `Juice child class` will automatically inherit it:"
   ]
  },
  {
   "cell_type": "code",
   "execution_count": null,
   "id": "f9cb3a65",
   "metadata": {},
   "outputs": [],
   "source": [
    "class Drink:\n",
    "    \n",
    "    _volume = 200\n",
    "    \n",
    "    def __init__(self, name, price):\n",
    "        self.name = name \n",
    "        self.price = price\n",
    "        self._remains = self._volume\n",
    "    \n",
    "    def drink_info(self):\n",
    "        print (f'Named: \"{self.name}\". Price: {self.price} EUR. volume: {self._volume} ml. Remains: {self._remains} ml.')\n",
    "    \n",
    "    def _is_enough(self, need):\n",
    "        if self._remains >= need and self._remains > 0:\n",
    "            return True\n",
    "        print ('Not enough drink left')\n",
    "        return False\n",
    "    \n",
    "    def sip(self):\n",
    "        if self._is_enough(20) == True:\n",
    "            self._remains -= 20\n",
    "            print ('Take a sip')\n",
    "            \n",
    "    def small_sip(self):\n",
    "        if self._is_enough(10) == True:\n",
    "            self._remains -= 10\n",
    "            print ('Take a small sip')\n",
    "    \n",
    "    def drink_all(self):\n",
    "        if self._is_enough(0) == True:\n",
    "            self._remains = 0\n",
    "            print ('Drink a drink in one gulp')\n",
    "    \n",
    "    # say the cost of a drink\n",
    "    def tell_price(self):\n",
    "        print (f'cost of my drink {self.price} EUR')"
   ]
  },
  {
   "cell_type": "code",
   "execution_count": null,
   "id": "cd0da6ee",
   "metadata": {},
   "outputs": [],
   "source": [
    "class Juice(Drink):\n",
    "\n",
    "    _juice_name = 'juice'    \n",
    "\n",
    "    def __init__(self, price, taste):\n",
    "        super().__init__ (self._juice_name, price)\n",
    "        self.taste = taste\n",
    "\n",
    "    def drink_info(self):\n",
    "        print (f'Taste: {self.taste}. Price: {self.price} EUR. volume: {self._volume} ml. Remains: {self._remains} ml.')"
   ]
  },
  {
   "cell_type": "code",
   "execution_count": null,
   "id": "5cee00e2",
   "metadata": {},
   "outputs": [],
   "source": [
    "tea = Drink ('tea', 1)"
   ]
  },
  {
   "cell_type": "code",
   "execution_count": null,
   "id": "6e801c49",
   "metadata": {},
   "outputs": [],
   "source": [
    "tea.tell_price()"
   ]
  },
  {
   "cell_type": "code",
   "execution_count": null,
   "id": "b9633bf5",
   "metadata": {},
   "outputs": [],
   "source": [
    "banana_juice = Juice(1.25, 'banana')"
   ]
  },
  {
   "cell_type": "code",
   "execution_count": null,
   "id": "12cb953c",
   "metadata": {},
   "outputs": [],
   "source": [
    "banana_juice.tell_price()"
   ]
  },
  {
   "cell_type": "markdown",
   "id": "e5c72f17",
   "metadata": {},
   "source": [
    "# File connection"
   ]
  },
  {
   "cell_type": "markdown",
   "id": "caada051",
   "metadata": {},
   "source": [
    "when including files in our file, the `dot notation` of jumping by packs is used, not as it was before `('./folder/file')`"
   ]
  },
  {
   "cell_type": "markdown",
   "id": "080d5008",
   "metadata": {},
   "source": [
    "move our class to the `module` folder and name it `new_class`"
   ]
  },
  {
   "cell_type": "markdown",
   "id": "3b24b851",
   "metadata": {},
   "source": [
    "![jupyter](./pict/class.png)"
   ]
  },
  {
   "cell_type": "markdown",
   "id": "ca9809e4",
   "metadata": {},
   "source": [
    "<div class='alert alert-warning'>\n",
    "when connecting, you cannot use jupiter notebooks, the notebook itself is already json code\n",
    "</div>"
   ]
  },
  {
   "cell_type": "code",
   "execution_count": null,
   "id": "c206f442",
   "metadata": {},
   "outputs": [],
   "source": [
    "import module.new_class as cl"
   ]
  },
  {
   "cell_type": "code",
   "execution_count": null,
   "id": "17085ad1",
   "metadata": {},
   "outputs": [],
   "source": [
    "apple_juice = cl.Juice(2, 'sweet apple')"
   ]
  },
  {
   "cell_type": "code",
   "execution_count": null,
   "id": "51b1a407",
   "metadata": {},
   "outputs": [],
   "source": [
    "apple_juice.tell_price()"
   ]
  },
  {
   "cell_type": "markdown",
   "id": "4327d275",
   "metadata": {},
   "source": [
    "in addition, we can separately transfer not only classes, but also database connections, library connections and other \"frequently used\" codes"
   ]
  }
 ],
 "metadata": {
  "kernelspec": {
   "display_name": "Python 3 (ipykernel)",
   "language": "python",
   "name": "python3"
  },
  "language_info": {
   "codemirror_mode": {
    "name": "ipython",
    "version": 3
   },
   "file_extension": ".py",
   "mimetype": "text/x-python",
   "name": "python",
   "nbconvert_exporter": "python",
   "pygments_lexer": "ipython3",
   "version": "3.10.9"
  }
 },
 "nbformat": 4,
 "nbformat_minor": 5
}
