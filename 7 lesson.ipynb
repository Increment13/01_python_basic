{
 "cells": [
  {
   "cell_type": "markdown",
   "id": "b1c60b1f",
   "metadata": {},
   "source": [
    "# Slicing by data from an external dictionary (continued)"
   ]
  },
  {
   "cell_type": "code",
   "execution_count": null,
   "id": "e3243362",
   "metadata": {},
   "outputs": [],
   "source": [
    "import pandas as pd"
   ]
  },
  {
   "cell_type": "markdown",
   "id": "24db1e57",
   "metadata": {},
   "source": [
    "You remembered how to access an external variable in `query()` and check if the value of column a is in the list.\n",
    "These tricks are combined when a list is stored in an external variable. To find out if the value of column a occurs in the list `our_list = [1, 2, 3]`, write the query: `'a in @our_list'`."
   ]
  },
  {
   "cell_type": "code",
   "execution_count": null,
   "id": "1877b012",
   "metadata": {},
   "outputs": [],
   "source": [
    "df = pd.DataFrame({\n",
    "    'a': [0, 1, 10, 11, 12], \n",
    "    'b': [5, 4, 3, 2, 1],\n",
    "    'c': ['X', 'Y', 'Y', 'Y', 'Z']\n",
    "})"
   ]
  },
  {
   "cell_type": "code",
   "execution_count": null,
   "id": "acfb8040-4994-402a-acd7-bf92a75442d5",
   "metadata": {},
   "outputs": [],
   "source": [
    "df"
   ]
  },
  {
   "cell_type": "code",
   "execution_count": null,
   "id": "e79b0d3d",
   "metadata": {},
   "outputs": [],
   "source": [
    "our_list = [1, 2]\n",
    "\n",
    "df.query('a in @our_list')"
   ]
  },
  {
   "cell_type": "markdown",
   "id": "6b79dcd7",
   "metadata": {},
   "source": [
    "So far everything is working normally. However, not only numbers, strings or lists are stored in a variable, but also more complex structures: `dictionaries`, `Series`, `dataframes`. See how the condition works for building a slice with them.\n",
    "What if the external variable does not store a `list`, but a `dictionary`? Recall that a dictionary is a data structure consisting of a key and a value. Let in the variable our_dict key-value pairs: `our_dict = {0: 10, 1: 11, 2: 12}`. Then the query `a in @our_dict` will check whether the values of column a are in the dictionary keys: `0`, `1`, `2`."
   ]
  },
  {
   "cell_type": "code",
   "execution_count": null,
   "id": "dcbaad7f",
   "metadata": {},
   "outputs": [],
   "source": [
    "our_dict = {0: 10, 1: 11, 2: 12} \n",
    "\n",
    "df.query('a in @our_dict')"
   ]
  },
  {
   "cell_type": "markdown",
   "id": "6330fa71",
   "metadata": {},
   "source": [
    "When a `Series` object is stored in a variable, the a in `@our_series` construct will check if the `list` contains values, not `indixes`:"
   ]
  },
  {
   "cell_type": "code",
   "execution_count": null,
   "id": "2ca8923d",
   "metadata": {},
   "outputs": [],
   "source": [
    "our_series=pd.Series([10,11,12])\n",
    "\n",
    "df.query('a in @our_series')"
   ]
  },
  {
   "cell_type": "markdown",
   "id": "63fd2445",
   "metadata": {},
   "source": [
    "If it is necessary to check the occurrence in the `index`, this is indicated explicitly by appending the `index` with a dot: `'a in @our_series.index'`."
   ]
  },
  {
   "cell_type": "code",
   "execution_count": null,
   "id": "c36c6e3c",
   "metadata": {},
   "outputs": [],
   "source": [
    "our_series = pd.Series([10,11,12])\n",
    "\n",
    "df.query('a in @our_series.index')"
   ]
  },
  {
   "cell_type": "markdown",
   "id": "e49c2cb9",
   "metadata": {},
   "source": [
    "When dealing with a `DataFrame` object, the occurrence of an index is checked in the same way as in a Series - by prefixing index with a dot to the name of the dataframe:"
   ]
  },
  {
   "cell_type": "code",
   "execution_count": null,
   "id": "1e57af77",
   "metadata": {},
   "outputs": [],
   "source": [
    "df = pd.DataFrame({\n",
    "    'a': [0, 1, 10, 11, 12],\n",
    "    'b': [5, 4, 3, 2, 1],\n",
    "    'c': ['X', 'Y', 'Y', 'Y', 'Z']\n",
    "})\n",
    "\n",
    "our_df = pd.DataFrame ({\n",
    "    'a1': [2, 4, 6],\n",
    "    'b1': [3, 2, 2],\n",
    "    'c1': ['A', 'B', 'C']\n",
    "})\n",
    "\n",
    "df.query('a in @our_df.index')"
   ]
  },
  {
   "cell_type": "markdown",
   "id": "528a422b",
   "metadata": {},
   "source": [
    "To check if a column is included, its name is passed. Let's build a slice from the values of column `b` of the first dataframe, equal to the elements of column `b1` of the second dataframe:"
   ]
  },
  {
   "cell_type": "code",
   "execution_count": null,
   "id": "e15c9ac2",
   "metadata": {},
   "outputs": [],
   "source": [
    "df.query('b in @our_df.b1')"
   ]
  },
  {
   "cell_type": "markdown",
   "id": "f95908a7",
   "metadata": {},
   "source": [
    "# Adding a column"
   ]
  },
  {
   "cell_type": "markdown",
   "id": "e9d10d55",
   "metadata": {},
   "source": [
    "See how to add a column from one dataframe to another:"
   ]
  },
  {
   "cell_type": "code",
   "execution_count": null,
   "id": "77e6bfab",
   "metadata": {},
   "outputs": [],
   "source": [
    "df1 = pd.DataFrame({'a': [1, 2, 3, 3, 3], \n",
    "                    'b': ['Q', 'R', 'S', 'T', 'U']})\n",
    "df2 = pd.DataFrame({'c': [3, 4, 5, 6, 7], \n",
    "                    'd': ['V', 'W', 'X', 'Y', 'Z'], \n",
    "                    'e': [3, 3, 3, 3, 3]})\n",
    "\n",
    "display(df1)\n",
    "display(df2) "
   ]
  },
  {
   "cell_type": "markdown",
   "id": "929593e1",
   "metadata": {},
   "source": [
    "To add a column from `df2` to `df1`, create a new column in `df1` and assign it the values of column `df2`:"
   ]
  },
  {
   "cell_type": "code",
   "execution_count": null,
   "id": "558ae7dd",
   "metadata": {},
   "outputs": [],
   "source": [
    "df1['new'] = df2['d']\n",
    "display(df1) "
   ]
  },
  {
   "cell_type": "markdown",
   "id": "b81fccf7",
   "metadata": {},
   "source": [
    "If the new column were already in `df1`, then all its elements would be <font color=\"#f00505\">deleted</font>, and new ones would be written instead:"
   ]
  },
  {
   "cell_type": "markdown",
   "id": "89f44c29",
   "metadata": {},
   "source": [
    "Seems simple: pandas copies the column from `df2` and pastes it into `df1`.\n",
    "However, everything is more complicated. For each row in the first dataframe, pandas looks for a \"pair\" - the row with the same `index` in the second dataframe. Finds and takes a value from this string. In our case, the indexes in `df1` and `df2` matched, and everything seemed to be a simple copying of rows in order."
   ]
  },
  {
   "cell_type": "markdown",
   "id": "69098bbb",
   "metadata": {},
   "source": [
    "Let's replace the `indexes` in the second dataframe with the values of column `c`. Then we assign the new column in the first dataframe to the values of the `d` column in `df2`:"
   ]
  },
  {
   "cell_type": "code",
   "execution_count": null,
   "id": "f6e74a65",
   "metadata": {},
   "outputs": [],
   "source": [
    "df1 = pd.DataFrame({'a': [1, 2, 3, 3, 3], \n",
    "                    'b': ['Q', 'R', 'S', 'T', 'U']})\n",
    "df2 = pd.DataFrame({'c': [3, 4, 5, 6, 7], \n",
    "                    'd': ['V', 'W', 'X', 'Y', 'Z'], \n",
    "                    'e': [3, 3, 3, 3, 3]})\n",
    "df2.set_index('c', inplace=True)"
   ]
  },
  {
   "cell_type": "code",
   "execution_count": null,
   "id": "2569e4b3",
   "metadata": {},
   "outputs": [],
   "source": [
    "df1['new'] = df2['d']\n",
    "\n",
    "display(df1) "
   ]
  },
  {
   "cell_type": "markdown",
   "id": "00268de5",
   "metadata": {},
   "source": [
    "The indices in `df1` and `df2` are no longer the same. Assignment occurs only by matching indexes. There are no indexes `0`, `1`, `2` in `df2` - these lines of the final dataframe turned out to be `NaN`. And the rows with indices `3` and `4` contain the values that were in `df2['d']` in the rows with indices `3` and `4`.\n",
    "If there are duplicate indexes in `df1`, then the value from `df2['d']` will be copied multiple times."
   ]
  },
  {
   "cell_type": "markdown",
   "id": "1a569bc8",
   "metadata": {},
   "source": [
    "The number of rows in `df2` need not be the same as the number of rows in `df1`. If there are not enough values in `df2`, it will be `None`. And there will be superfluous ones - they simply will not fall into the updated dataframe.\n",
    "But duplicate values in the `df2` index will lead to an error. In this case, pandas will not understand which value should be substituted into `df1`."
   ]
  },
  {
   "cell_type": "markdown",
   "id": "398aac0c",
   "metadata": {},
   "source": [
    "A separate column can be created without a dataframe, in `Series` it will be a set of values with indexes. When trying to assign an object with indices, pandas will pick up the rows corresponding to the indices:"
   ]
  },
  {
   "cell_type": "code",
   "execution_count": null,
   "id": "919950c3",
   "metadata": {},
   "outputs": [],
   "source": [
    "df1 = pd.DataFrame({'a': [1, 2, 3, 3, 3], \n",
    "                    'b': ['Q', 'R', 'S', 'T', 'U']})\n",
    "df1.set_index('a', inplace=True)\n",
    "\n",
    "series = pd.Series([1, 2, 3, 4, 5])"
   ]
  },
  {
   "cell_type": "code",
   "execution_count": null,
   "id": "d6fe668e",
   "metadata": {},
   "outputs": [],
   "source": [
    "df1['new'] = series\n",
    "\n",
    "display(df1) "
   ]
  },
  {
   "cell_type": "markdown",
   "id": "fbfe5bcb",
   "metadata": {},
   "source": [
    "If you pass to the column a list of values stored not as a `Series`, but, for example, as a `list`, the assignment will go in row order:"
   ]
  },
  {
   "cell_type": "code",
   "execution_count": null,
   "id": "57dc6eee",
   "metadata": {},
   "outputs": [],
   "source": [
    "df1 = pd.DataFrame({'a': [1, 2, 3, 3, 3], \n",
    "                    'b': ['Q', 'R', 'S', 'T', 'U']})\n",
    "df1.set_index('a', inplace=True)\n",
    "\n",
    "list_values = [1, 2, 3, 4, 5]"
   ]
  },
  {
   "cell_type": "code",
   "execution_count": null,
   "id": "ecf8b539",
   "metadata": {},
   "outputs": [],
   "source": [
    "df1['new'] = list_values\n",
    "\n",
    "display(df1) "
   ]
  },
  {
   "cell_type": "markdown",
   "id": "1ed7cfd5",
   "metadata": {},
   "source": [
    "# Merging data from two tables"
   ]
  },
  {
   "cell_type": "code",
   "execution_count": null,
   "id": "953d20dc",
   "metadata": {},
   "outputs": [],
   "source": [
    "df1 = pd.DataFrame({'a': [1, 2, 3, 5], 'b': ['A', 'B', 'C', 'D']})\n",
    "df2 = pd.DataFrame({'a': [2, 2, 2, 3], 'c': ['E', 'F', 'G', 'H']})"
   ]
  },
  {
   "cell_type": "markdown",
   "id": "79a9b9e5",
   "metadata": {},
   "source": [
    "joining tables in python follows the same rules as in SQL, just like in SQL there are two methods for joining tables `merge` and `join`"
   ]
  },
  {
   "cell_type": "markdown",
   "id": "6697666a",
   "metadata": {},
   "source": [
    "Using the `merge()` method, we merge dataframe rows by matching values of column `a`:"
   ]
  },
  {
   "cell_type": "code",
   "execution_count": null,
   "id": "6a67f2d8",
   "metadata": {},
   "outputs": [],
   "source": [
    "df1.merge(df2, on='a')"
   ]
  },
  {
   "cell_type": "markdown",
   "id": "b03369a6",
   "metadata": {},
   "source": [
    "The final table was formed from matches in column a of records. This type of union is called `inner`. It collects data from the inner area (which is in both dataframes). In `merge()` , the inner type works by default."
   ]
  },
  {
   "cell_type": "markdown",
   "id": "34bf7499",
   "metadata": {},
   "source": [
    "Its opposite is the `outer` merge type. It combines data from the outer common area - such that is in at least one of the dataframes. The join mode is specified by the how parameter."
   ]
  },
  {
   "cell_type": "code",
   "execution_count": null,
   "id": "b728efd2",
   "metadata": {},
   "outputs": [],
   "source": [
    "df1.merge(df2, on='a', how='outer') "
   ]
  },
  {
   "cell_type": "markdown",
   "id": "76d63479",
   "metadata": {},
   "source": [
    "#### this image should help you in the future"
   ]
  },
  {
   "cell_type": "markdown",
   "id": "c628488e",
   "metadata": {},
   "source": [
    "![jupyter](./pict/join.png)"
   ]
  },
  {
   "cell_type": "markdown",
   "id": "f6c5d7f4",
   "metadata": {},
   "source": [
    "The list is ready, we haven't missed a single entry. Please note that if there is no data, the cells are NaN.\n",
    "The merge mode `'left'` specifies that the result of the merge must include all rows from the left dataframe:"
   ]
  },
  {
   "cell_type": "code",
   "execution_count": null,
   "id": "6c8c5975",
   "metadata": {},
   "outputs": [],
   "source": [
    "df1 = pd.DataFrame({'a': [1, 2, 3, 5], 'b': ['A', 'B', 'C', 'D']})\n",
    "df2 = pd.DataFrame({'a': [2, 2, 2, 3], 'b': ['E', 'F', 'G', 'H']})"
   ]
  },
  {
   "cell_type": "code",
   "execution_count": null,
   "id": "182fe528",
   "metadata": {},
   "outputs": [],
   "source": [
    "df1.merge(df2, on='a', how='left') "
   ]
  },
  {
   "cell_type": "markdown",
   "id": "1c46517c",
   "metadata": {},
   "source": [
    "In a similar `'right'` mode, all matching rows and the right dataframe will be preserved.\n",
    "Please note that in the result table of the `merge()` method, `_x` and `_y` have been added to the column names. The endings of the column names are set in the suffixes parameter:"
   ]
  },
  {
   "cell_type": "code",
   "execution_count": null,
   "id": "2d7f1014",
   "metadata": {},
   "outputs": [],
   "source": [
    "df1.merge(df2, on='a', how='left', suffixes=('_df1', '_df2')) "
   ]
  },
  {
   "cell_type": "markdown",
   "id": "f37f1102",
   "metadata": {},
   "source": [
    "If the index column is named, its name can also be passed to the on parameter. You can merge on several columns at once - just pass the list to the `on` parameter."
   ]
  },
  {
   "cell_type": "markdown",
   "id": "effa165e",
   "metadata": {},
   "source": [
    "The `join()` method is similar to `merge()`. Without the on parameter, this `join()` will look for index matches in the first and second dataframes. If you pass a column to the on parameter, then `join()` will find it in the first dataframe and start comparing it with the index of the second. Unlike `merge()`, the default `join()` merge type is `how='left'`. And the suffixes parameter is divided into two independent ones: `lsuffix` and `rsuffix`. You can also join more than two tables using the `join()` method: their set is passed as a list instead of the second dataframe."
   ]
  },
  {
   "cell_type": "code",
   "execution_count": null,
   "id": "c6f23708",
   "metadata": {},
   "outputs": [],
   "source": [
    "df1 = pd.DataFrame({'a': [1, 2, 3, 4], 'b': ['A', 'B', 'C', 'D']})\n",
    "df2 = pd.DataFrame({'a': [2, 2, 2, 2], 'c': ['E', 'F', 'G', 'H']})\n",
    "\n",
    "df1.join(df2, on='a', rsuffix='_y')"
   ]
  },
  {
   "cell_type": "code",
   "execution_count": null,
   "id": "b66fca5d-9c80-4e9d-9dc0-aee141714f4c",
   "metadata": {},
   "outputs": [],
   "source": []
  }
 ],
 "metadata": {
  "kernelspec": {
   "display_name": "Python 3 (ipykernel)",
   "language": "python",
   "name": "python3"
  },
  "language_info": {
   "codemirror_mode": {
    "name": "ipython",
    "version": 3
   },
   "file_extension": ".py",
   "mimetype": "text/x-python",
   "name": "python",
   "nbconvert_exporter": "python",
   "pygments_lexer": "ipython3",
   "version": "3.10.9"
  }
 },
 "nbformat": 4,
 "nbformat_minor": 5
}
