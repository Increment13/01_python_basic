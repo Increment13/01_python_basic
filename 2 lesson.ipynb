{
 "cells": [
  {
   "cell_type": "markdown",
   "id": "ffb25398",
   "metadata": {},
   "source": [
    "# Lists and loops"
   ]
  },
  {
   "cell_type": "markdown",
   "id": "1f45e2f2",
   "metadata": {},
   "source": [
    "## List (array)"
   ]
  },
  {
   "cell_type": "markdown",
   "id": "3b0ef12a",
   "metadata": {},
   "source": [
    "The list is the first data structure. Data structures are called systems of organizing elements, arranged according to certain rules. For example, with sequential storage, as in the list."
   ]
  },
  {
   "cell_type": "markdown",
   "id": "0e1b27d2",
   "metadata": {},
   "source": [
    "To create a new list in Python, you need to enumerate its elements in square brackets [] separated by commas. Here, for example, is a list with the first five values of the \"Balance, m\" column"
   ]
  },
  {
   "cell_type": "code",
   "execution_count": null,
   "id": "b154a271",
   "metadata": {},
   "outputs": [],
   "source": [
    "balance = [2.26, 19.1, 25.6, 233.0, 15.2] "
   ]
  },
  {
   "cell_type": "markdown",
   "id": "406784ad",
   "metadata": {},
   "source": [
    "The list is stored in the `balance` variable and can be printed to the screen with the `print()` function:"
   ]
  },
  {
   "cell_type": "code",
   "execution_count": null,
   "id": "8b1634e5",
   "metadata": {},
   "outputs": [],
   "source": [
    "print(balance) "
   ]
  },
  {
   "cell_type": "markdown",
   "id": "14952b7f",
   "metadata": {},
   "source": [
    "![jupyter](./pict/array.png)"
   ]
  },
  {
   "cell_type": "markdown",
   "id": "2ba9e89f",
   "metadata": {},
   "source": [
    "each value has numbers - called `indexes`. Note that the first element in the list has index 0."
   ]
  },
  {
   "cell_type": "markdown",
   "id": "00566e4c",
   "metadata": {},
   "source": [
    "To get an element of the list and do something with it, you need to specify its index in square brackets []:"
   ]
  },
  {
   "cell_type": "code",
   "execution_count": null,
   "id": "ff507677-7125-4232-88aa-5d9157959235",
   "metadata": {},
   "outputs": [],
   "source": [
    "print(balance[4])"
   ]
  },
  {
   "cell_type": "code",
   "execution_count": null,
   "id": "49923ded",
   "metadata": {},
   "outputs": [],
   "source": [
    "# set the balance list item at index 4 to a new value\n",
    "# (assigning a random value just for example)\n",
    "balance[4] = 32.6"
   ]
  },
  {
   "cell_type": "markdown",
   "id": "fd8515d5",
   "metadata": {},
   "source": [
    "The list data type is called `list`:"
   ]
  },
  {
   "cell_type": "code",
   "execution_count": null,
   "id": "e999905d",
   "metadata": {},
   "outputs": [],
   "source": [
    "print(type(balance)) "
   ]
  },
  {
   "cell_type": "markdown",
   "id": "3beb5f61",
   "metadata": {},
   "source": [
    "## Tuple"
   ]
  },
  {
   "cell_type": "markdown",
   "id": "2e1ff5de",
   "metadata": {},
   "source": [
    "A tuple is a one-dimensional immutable sequence. It is a list-like data structure and can also be stored in a variable. For example, the artist tuple contains the names of artists:"
   ]
  },
  {
   "cell_type": "code",
   "execution_count": null,
   "id": "4f65a467",
   "metadata": {},
   "outputs": [],
   "source": [
    "artist = ['Queen', 'Led Zeppelin', 'Scorpions']"
   ]
  },
  {
   "cell_type": "markdown",
   "id": "e0013218",
   "metadata": {},
   "source": [
    "But if we try to change the element of the tuple, then Python will return an error:"
   ]
  },
  {
   "cell_type": "code",
   "execution_count": null,
   "id": "d4b88010",
   "metadata": {},
   "outputs": [],
   "source": [
    "artist[0] = 'Spice Girls'"
   ]
  },
  {
   "cell_type": "markdown",
   "id": "d2ccc110",
   "metadata": {},
   "source": [
    "The tuple is needed to store and read data that is better not to change. It looks like a text document protected from editing."
   ]
  },
  {
   "cell_type": "markdown",
   "id": "219c6377",
   "metadata": {},
   "source": [
    "## Cycles"
   ]
  },
  {
   "cell_type": "markdown",
   "id": "dcaea6e6",
   "metadata": {},
   "source": [
    "`Loops` are a construct for repeating actions in code. Let's start with a simple example - print the first 10 elements of a table column on the screen."
   ]
  },
  {
   "cell_type": "code",
   "execution_count": null,
   "id": "7e203202",
   "metadata": {},
   "outputs": [],
   "source": [
    "balance = [2.26, 19.1, 25.6, 233.0, 15.2, 22.7, 64.6, 87.5, 6.81, 6.0]\n",
    "\n",
    "print('balance, kk')\n",
    "print('----------------')\n",
    "for element in balance:\n",
    "    # Recall that the print() function always does a line break\n",
    "    print(element) "
   ]
  },
  {
   "cell_type": "markdown",
   "id": "5bf674e1",
   "metadata": {},
   "source": [
    "This loop means `for each element of the balance list, do this` - followed by a call to the `print()` function for each element. The loop device - its syntax - looks like this:"
   ]
  },
  {
   "cell_type": "markdown",
   "id": "5274188e",
   "metadata": {},
   "source": [
    "![jupyter](./pict/for.png)"
   ]
  },
  {
   "cell_type": "markdown",
   "id": "6fc236e4",
   "metadata": {},
   "source": [
    "The loop is declared with the keywords `for` and `in`. The first word is called a <b>for loop</b>."
   ]
  },
  {
   "cell_type": "code",
   "execution_count": null,
   "id": "cd783c42-1b57-463c-8749-899140b3ac43",
   "metadata": {},
   "outputs": [],
   "source": [
    "balance = [2.26, 19.1, 25.6, 233, 15.2, 22.7, 64.6, 87.5, 6.81, 6]"
   ]
  },
  {
   "cell_type": "code",
   "execution_count": null,
   "id": "96fbfb04-9c7f-4d6f-babb-d4edafe0f67e",
   "metadata": {},
   "outputs": [],
   "source": [
    "for i in balance:\n",
    "    num = i + 1\n",
    "    print(i)"
   ]
  },
  {
   "cell_type": "code",
   "execution_count": null,
   "id": "e6de7edd-4184-4ad6-80b4-67dfe4339de1",
   "metadata": {},
   "outputs": [],
   "source": [
    "num"
   ]
  },
  {
   "cell_type": "markdown",
   "id": "25a99aa1",
   "metadata": {},
   "source": [
    "Indentation tells Python where the code to be executed for each element of the list ends (the body of the loop). Although indentation is just a set of spaces, they must be included, otherwise Python will not be able to distinguish the body of the loop from the rest of the code. Let's look at this with an example:"
   ]
  },
  {
   "cell_type": "code",
   "execution_count": null,
   "id": "464c3ff0",
   "metadata": {},
   "outputs": [],
   "source": [
    "balance = [2.26, 19.1, 25.6, 233, 15.2, 22.7, 64.6, 87.5, 6.81, 6]\n",
    "\n",
    "print('balance')\n",
    "print('-----------')\n",
    "# declare a loop\n",
    "for count_mil in balance:\n",
    "    # convert millions to units\n",
    "    count = int(count_mil * 10**6)\n",
    "    # print the number of EUR with the given balance from the list\n",
    "    print('{} eur'.format(count))\n",
    "    # end of loop body: no further indent needed\n",
    "print('-----------')"
   ]
  },
  {
   "cell_type": "markdown",
   "id": "74c4cb6a",
   "metadata": {},
   "source": [
    "To put 4 spaces, you can press the Tab button. <b>IMPORTANT!</b> Python doesn't understand code that has tabs and spaces mixed in."
   ]
  },
  {
   "cell_type": "markdown",
   "id": "8c37af49",
   "metadata": {},
   "source": [
    "## Assignment"
   ]
  },
  {
   "cell_type": "markdown",
   "id": "1f8d147e",
   "metadata": {},
   "source": [
    "The value of a variable can be overwritten:"
   ]
  },
  {
   "cell_type": "code",
   "execution_count": null,
   "id": "73d07fd8",
   "metadata": {},
   "outputs": [],
   "source": [
    "bal_1 = 2.26\n",
    "bal_2 = 19.1\n",
    "bal_3 = 25.6\n",
    "\n",
    "total = bal_1\n",
    "print('Initial value:', total)\n",
    "\n",
    "total = total + bal_2\n",
    "print('After the first change:', total)\n",
    "\n",
    "total = total + bal_3\n",
    "print('After the second change:', total)"
   ]
  },
  {
   "cell_type": "markdown",
   "id": "06bac6f3",
   "metadata": {},
   "source": [
    "Remember that the `=` sign is an assignment operator? First, the value to the right of it is calculated, then the result is stored in the variable to the left."
   ]
  },
  {
   "cell_type": "markdown",
   "id": "35057b18",
   "metadata": {},
   "source": [
    "Often you need to add a new value to a variable, and store the sum in itself. For this, a special assignment operator with addition `+=` was invented. With it code"
   ]
  },
  {
   "cell_type": "code",
   "execution_count": null,
   "id": "e54be5c3",
   "metadata": {},
   "outputs": [],
   "source": [
    "total = total + bal_1"
   ]
  },
  {
   "cell_type": "markdown",
   "id": "fe0d9382",
   "metadata": {},
   "source": [
    "can be rewritten like this:"
   ]
  },
  {
   "cell_type": "code",
   "execution_count": null,
   "id": "5e83825d",
   "metadata": {},
   "outputs": [],
   "source": [
    "total += bal_1"
   ]
  },
  {
   "cell_type": "markdown",
   "id": "98e769b6",
   "metadata": {},
   "source": [
    "There are similar abbreviations for other arithmetic operations."
   ]
  },
  {
   "cell_type": "markdown",
   "id": "1ff79b2b",
   "metadata": {},
   "source": [
    "<div class=\"scrollable_content\">\n",
    "    <table cellpadding=\"0\" cellspacing=\"0\" style=\"width: 500px; text-align: center;\">\n",
    "        <thead ><tr><th scope=\"col\" style=\"text-align: center;\">Operator</th>\n",
    "            <th scope=\"col\" style=\"text-align: center;\">What does it mean</th></tr>\n",
    "        </thead><tbody>\n",
    "        <tr >\n",
    "            <td style=\"text-align: center;\"><code class=\"code-inline code-inline_theme_light\">a += b</td>\n",
    "            <td style=\"text-align: center;\"><code class=\"code-inline code-inline_theme_light\">a = a + b</ code></td>\n",
    "        </tr>\n",
    "        <tr>\n",
    "            <td style=\"text-align: center;\"><code class=\"code-inline code-inline_theme_light\">a -= b</td>\n",
    "            <td style=\"text-align: center;\"><code class=\"code -inline code-inline_theme_light\">a = a - b</code></td>\n",
    "        </tr>\n",
    "        <tr>\n",
    "            <td style=\"text-align: center;\"><code class=\"code-inline code-inline_theme_light\">a *= b</td>\n",
    "            <td style=\"text-align: center;\"><code class=\"code-inline code-inline_theme_light\" >a = a * b</code></td>\n",
    "        </tr>\n",
    "        <tr>\n",
    "            <td style=\"text-align: center;\"><code class=\"code-inline code-inline_theme_light\">a /= b</td>\n",
    "            <td style=\"text-align: center;\"><code class=\"code-inline code-inline_theme_light\">a = a / b</code></td></tr>\n",
    "        </tbody></table><div></div></div>"
   ]
  },
  {
   "cell_type": "markdown",
   "id": "127f0e98",
   "metadata": {},
   "source": [
    "## Summation in a loop"
   ]
  },
  {
   "cell_type": "markdown",
   "id": "398b83de",
   "metadata": {},
   "source": [
    "You can add the following value manually"
   ]
  },
  {
   "cell_type": "code",
   "execution_count": null,
   "id": "4aba6550",
   "metadata": {},
   "outputs": [],
   "source": [
    "balance = [2.26, 19.1, 25.6, 233.0, 15.2]\n",
    "\n",
    "total = 0\n",
    "total += balance[0]\n",
    "total += balance[1]\n",
    "total += balance[2]\n",
    "total += balance[3]\n",
    "total += balance[4]\n",
    "\n",
    "print('{:.2f}'.format(total)) "
   ]
  },
  {
   "cell_type": "markdown",
   "id": "7ad87235",
   "metadata": {},
   "source": [
    "and in a loop:"
   ]
  },
  {
   "cell_type": "code",
   "execution_count": null,
   "id": "2b9b62d4",
   "metadata": {},
   "outputs": [],
   "source": [
    "balance = [2.26, 19.1, 25.6, 233.0, 15.2]\n",
    "\n",
    "total = 0\n",
    "total2 = 0 \n",
    "for element in balance:\n",
    "    total += element\n",
    "    total2 = total2 + element\n",
    "print('{:.2f}'.format(total)) "
   ]
  },
  {
   "cell_type": "markdown",
   "id": "788b6ba9",
   "metadata": {},
   "source": [
    "The use of loops is convenient because now we can easily sum lists of any length."
   ]
  },
  {
   "cell_type": "code",
   "execution_count": null,
   "id": "9ea7e191",
   "metadata": {},
   "outputs": [],
   "source": [
    "balance = [2.26, 19.1, 25.6, 233.0, 15.2, 22.7, 64.6, 87.5, 6.81, 6.0,\n",
    "           4.72, 24.7, 21.7, 10.0, 118.0, 3.31, 23.1, 1.74, 4.5, 0.0333]\n",
    "\n",
    "total = 0\n",
    "for element in balance:\n",
    "    total += element\n",
    "print('{:.2f}'.format(total)) "
   ]
  },
  {
   "cell_type": "markdown",
   "id": "98000e62",
   "metadata": {},
   "source": [
    "## Lists of lists"
   ]
  },
  {
   "cell_type": "markdown",
   "id": "9e9b206c",
   "metadata": {},
   "source": [
    "Plain lists allow us to pass individual columns of a table to Python, and this has already given the result. To parse it in its entirety, you need a list of lists.\n",
    "<p>Let's create a list with one table row"
   ]
  },
  {
   "cell_type": "code",
   "execution_count": null,
   "id": "c4e279f2",
   "metadata": {},
   "outputs": [],
   "source": [
    "first_row = ['BNK54654168', 2.26, 7000, 100]\n",
    "\n",
    "print(first_row) "
   ]
  },
  {
   "cell_type": "markdown",
   "id": "bd4859d9",
   "metadata": {},
   "source": [
    "Let's build a list of `data` from several of these variables:"
   ]
  },
  {
   "cell_type": "code",
   "execution_count": null,
   "id": "f5ac5c53",
   "metadata": {},
   "outputs": [],
   "source": [
    "first_row = ['BNK54654168', 2.26, 7000, 100]\n",
    "second_row = ['BNK54657568', 19.1, 7001, 180]\n",
    "third_row = ['BNK54654143', 25.6, 7000, 280]\n",
    "\n",
    "data = [first_row, second_row, third_row]\n",
    "\n",
    "print(data) "
   ]
  },
  {
   "cell_type": "markdown",
   "id": "80ec03ae",
   "metadata": {},
   "source": [
    "Table rows do not need to be stored in variables first. Could be so:"
   ]
  },
  {
   "cell_type": "code",
   "execution_count": null,
   "id": "4b1814f0",
   "metadata": {},
   "outputs": [],
   "source": [
    "data = [\n",
    "    ['BNK54654168', 2.26, 7000, 100],\n",
    "    ['BNK54657568', 19.1, 7001, 180],\n",
    "    ['BNK54654143', 25.6, 7000, 280]\n",
    "]\n",
    "\n",
    "print(data) "
   ]
  },
  {
   "cell_type": "markdown",
   "id": "fdcb50ff",
   "metadata": {},
   "source": [
    "Such lists are called nested. This is already a table.\n",
    "To access the elements of such a table, double indexes are used - first indicate the index of the `row`, and then the `column`."
   ]
  },
  {
   "cell_type": "code",
   "execution_count": null,
   "id": "d3adeb60",
   "metadata": {},
   "outputs": [],
   "source": [
    "print(data[1][3]) "
   ]
  },
  {
   "cell_type": "markdown",
   "id": "bd57e6c0",
   "metadata": {},
   "source": [
    "## Looping over lists of lists"
   ]
  },
  {
   "cell_type": "markdown",
   "id": "91204c91",
   "metadata": {},
   "source": [
    "Lists of lists can also be looped over. To start, let's just print each row of the table to the screen (for the first five):"
   ]
  },
  {
   "cell_type": "code",
   "execution_count": null,
   "id": "29bf5137",
   "metadata": {},
   "outputs": [],
   "source": [
    "for row in data:\n",
    "    print(row) "
   ]
  },
  {
   "cell_type": "markdown",
   "id": "ff7dd55f",
   "metadata": {},
   "source": [
    "Previously, to access cells, we wrote double indexes: data[2][0]. The `row` variable in the loop already stores the next row, so we don't need the row index. For example, to get first column, we specify the column index 0:"
   ]
  },
  {
   "cell_type": "code",
   "execution_count": null,
   "id": "5dc9fcf2",
   "metadata": {},
   "outputs": [],
   "source": [
    "print('CONTRACT_ID:')\n",
    "print('----------------')\n",
    "for row in data:\n",
    "    print(row[0]) "
   ]
  },
  {
   "cell_type": "markdown",
   "id": "2aa05726",
   "metadata": {},
   "source": [
    "You can access other columns as well. For example, index 1 stores the sum balance of contract:"
   ]
  },
  {
   "cell_type": "code",
   "execution_count": null,
   "id": "a2a0f083",
   "metadata": {},
   "outputs": [],
   "source": [
    "print('CONTRACT_ID  | Balance, kk')\n",
    "print('----------------------------------')\n",
    "for row in data:\n",
    "    print(row[0], ' | ', row[1]) "
   ]
  },
  {
   "cell_type": "markdown",
   "id": "98203234",
   "metadata": {},
   "source": [
    "## String and list length"
   ]
  },
  {
   "cell_type": "markdown",
   "id": "d8c8adf7",
   "metadata": {},
   "source": [
    "Strings and lists have a property - length. Its value is returned by the `len()` function"
   ]
  },
  {
   "cell_type": "code",
   "execution_count": null,
   "id": "2c851b04",
   "metadata": {},
   "outputs": [],
   "source": [
    "print(len('this is a text of length n characters')) "
   ]
  },
  {
   "cell_type": "markdown",
   "id": "386e8a32",
   "metadata": {},
   "source": [
    "Let's find the length of this list data:"
   ]
  },
  {
   "cell_type": "code",
   "execution_count": null,
   "id": "bb84fb44",
   "metadata": {},
   "outputs": [],
   "source": [
    "size = len(data)    \n",
    "print('In table {} of contracts'.format(size)) "
   ]
  },
  {
   "cell_type": "markdown",
   "id": "507ad2f4",
   "metadata": {},
   "source": [
    "The len() function is useful when you need to calculate the arithmetic mean. If they ask: “What is the average temperature in Riga?”, Most often they mean the arithmetic mean. It is found by the formula:\n",
    "<br><br>\n",
    "`**Arithmetic mean = Sum of values / Number of values**`\n",
    "<br><br>\n",
    "For example, the daily air temperature in degrees Celsius is known for five days."
   ]
  },
  {
   "cell_type": "code",
   "execution_count": null,
   "id": "21eb96d2",
   "metadata": {},
   "outputs": [],
   "source": [
    "day_temperatures = [-8, -4, +2, +1, -1, -1, -4, -5, -5] "
   ]
  },
  {
   "cell_type": "markdown",
   "id": "a5be8fbf",
   "metadata": {},
   "source": [
    "To calculate the average, we divide the sum of the day_temperatures list values by their number using the `sum()` and `len()` functions."
   ]
  },
  {
   "cell_type": "code",
   "execution_count": null,
   "id": "57bf9546",
   "metadata": {},
   "outputs": [],
   "source": [
    "print(sum(day_temperatures) / len(day_temperatures)) "
   ]
  },
  {
   "cell_type": "code",
   "execution_count": null,
   "id": "daa8300d-b88b-4f3c-abaa-bce70728e538",
   "metadata": {},
   "outputs": [],
   "source": [
    "strin = 'oleksandr hh aas fdf'\n",
    "\n",
    "\n",
    "\n",
    "strin[2:]"
   ]
  },
  {
   "cell_type": "code",
   "execution_count": null,
   "id": "4aa37b07-bd66-49d0-b4eb-93359aa5bb64",
   "metadata": {},
   "outputs": [],
   "source": []
  }
 ],
 "metadata": {
  "kernelspec": {
   "display_name": "Python 3 (ipykernel)",
   "language": "python",
   "name": "python3"
  },
  "language_info": {
   "codemirror_mode": {
    "name": "ipython",
    "version": 3
   },
   "file_extension": ".py",
   "mimetype": "text/x-python",
   "name": "python",
   "nbconvert_exporter": "python",
   "pygments_lexer": "ipython3",
   "version": "3.10.9"
  }
 },
 "nbformat": 4,
 "nbformat_minor": 5
}
